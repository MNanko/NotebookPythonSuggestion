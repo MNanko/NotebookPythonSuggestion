{
 "cells": [
  {
   "cell_type": "markdown",
   "metadata": {},
   "source": [
    "# Classification automatique de documents par les techniques de Machine Learning \n"
   ]
  },
  {
   "cell_type": "markdown",
   "metadata": {},
   "source": [
    "Les travaux présentés dans ce notebook traitent de la classification automatique de documents, et particulièrement de la classification supervisée puisqu’elle opère à partir d’un ensemble de classes prédéfinies. L’approche proposée repose sur une représentation vectorielle des documents axée sur les mots contenus, mais aussi sur une représentation plus sémantique de ceux-ci."
   ]
  },
  {
   "cell_type": "markdown",
   "metadata": {},
   "source": [
    "## Création du jeu de données"
   ]
  },
  {
   "cell_type": "markdown",
   "metadata": {},
   "source": [
    "* On essai d'avoir un jeu de données tiré du site 'https://www.groupedeveillecovid.fr/cat/articles-scientifiques/'\n",
    "* Le but étant de classer chaque nouveau document pdf dans la catégorie correspondante et ainsi faire une prediction correcte.\n"
   ]
  },
  {
   "cell_type": "markdown",
   "metadata": {},
   "source": [
    "### Web Scraping"
   ]
  },
  {
   "cell_type": "markdown",
   "metadata": {},
   "source": [
    "* Il faut savoir que le web scraping est une technique permettant l’extraction des données d’un site via un programme ou un logiciel. Dans notre cas, nous allons passé vers une bibliothèque Python d'analyse syntaxique de documents HTML et XML. L’objectif est donc d’extraire le contenu d’une page d’un site de façon structurée. Le scraping permet ainsi de pouvoir réutiliser ces données.\n",
    "* Pour la suite de notre processus, nous avons utlisé plusieurs librairie. <br/> Nous allons en détaillé quelques un. Nous avons par exemple : <br/> \n",
    "    * request : <br/> \n",
    "          La bibliothèque de 'request' est la norme de facto pour effectuer des requêtes HTTP en Python. Elle résume la complexité des requêtes derrière une API simple et élégante afin de pouvoir se concentrer sur l'interaction avec les services et l'utilisation de données dans votre application.\n",
    "\n",
    "    * PyPDF : <br/> \n",
    "           Un package pour extraire du texte et des métadonnées d'un fichier PDF.\n",
    "    * Beautiful Soup : <br/> \n",
    "            Bibliothèque Python d'analyse syntaxique de documents HTML et XML.\n",
    "        "
   ]
  },
  {
   "cell_type": "markdown",
   "metadata": {},
   "source": [
    "# Importation des données"
   ]
  },
  {
   "cell_type": "code",
   "execution_count": 1,
   "metadata": {},
   "outputs": [],
   "source": [
    "import requests,re \n",
    "import numpy as np\n",
    "import pandas as pd\n",
    "import io\n",
    "\n",
    "import os\n",
    "import math\n",
    "import time\n",
    "\n",
    "import matplotlib.pyplot as plt\n",
    "import pickle\n",
    "import seaborn as sns\n",
    "sns.set_style(\"whitegrid\")\n",
    "import altair as alt\n",
    "import sklearn.metrics as metrics\n",
    "import bs4\n",
    "\n",
    "import plotly.figure_factory as ff\n",
    "import plotly.graph_objects as go\n",
    "import plotly.express as px\n",
    "\n",
    "# Below libraries are for feature representation using sklearn\n",
    "from sklearn.feature_extraction.text import CountVectorizer\n",
    "from sklearn.feature_extraction.text import TfidfTransformer\n",
    "from sklearn.feature_extraction.text import TfidfVectorizer\n",
    "from sklearn.preprocessing import OneHotEncoder \n",
    "\n",
    "\n",
    "# Multinomial Naive Bayes\n",
    "\n",
    "from sklearn.naive_bayes import MultinomialNB\n",
    "from sklearn.model_selection import train_test_split\n",
    "\n",
    "from sklearn.neural_network import MLPClassifier\n",
    "\n",
    "from gensim.models import Word2Vec\n",
    "from gensim.models import KeyedVectors\n",
    "\n",
    "from sklearn.svm import SVC  \n",
    "\n",
    "from sklearn.metrics import classification_report, confusion_matrix  \n",
    "from sklearn import svm\n",
    "from sklearn.model_selection import GridSearchCV\n",
    "\n",
    "\n",
    "\n",
    "from bs4 import BeautifulSoup\n",
    "from PyPDF2 import PdfFileReader\n",
    "\n",
    "\n",
    "# Below libraries are for text processing using NLTK\n",
    "from nltk.corpus import stopwords\n",
    "from nltk.tokenize import word_tokenize\n",
    "from nltk.stem import WordNetLemmatizer\n",
    "\n",
    "# Below libraries are for similarity matrices using sklearn\n",
    "from sklearn.metrics.pairwise import cosine_similarity  \n",
    "from sklearn.metrics import pairwise_distances\n",
    "\n",
    "# Code for hiding seaborn warnings\n",
    "import warnings\n",
    "warnings.filterwarnings(\"ignore\")"
   ]
  },
  {
   "cell_type": "markdown",
   "metadata": {},
   "source": [
    "# Initialisation des variables"
   ]
  },
  {
   "cell_type": "code",
   "execution_count": 2,
   "metadata": {},
   "outputs": [],
   "source": [
    "# Init variables\n",
    "global df, merged, dts\n",
    "urls_to_scrape = []\n",
    "urls_to_scrape_1 = []\n",
    "liste_des_articles = []\n",
    "category_articles = []\n",
    "liste_url_pdf = []\n",
    "list_content = []\n",
    "\n",
    "date = ''\n",
    "auteur = ''\n",
    "auteurs = ''\n",
    "lien = ''\n",
    "\n",
    "dataset_list = []\n",
    "# find \".pdf\" in a string\n",
    "match = re.compile('\\.(pdf)')\n",
    "\n",
    "datasetObj = pd.DataFrame()\n"
   ]
  },
  {
   "cell_type": "markdown",
   "metadata": {},
   "source": [
    "# Fonction pour extraire les informations qui vont nous servir dans un fichier pdf"
   ]
  },
  {
   "cell_type": "code",
   "execution_count": 3,
   "metadata": {},
   "outputs": [],
   "source": [
    "def extract_df(url, category, title,auteur,lien,date):\n",
    "    global df_information\n",
    "    r = requests.get(url)\n",
    "    f = io.BytesIO(r.content)\n",
    "\n",
    "    reader = PdfFileReader(f)\n",
    "    #contents = reader.getPage(0).extractText().split('\\n')\n",
    "\n",
    "    information = reader.getDocumentInfo()\n",
    "    number_of_pages = reader.getNumPages()\n",
    "    content = ''\n",
    "    for x in range(0, number_of_pages):\n",
    "        contents=''.join(reader.getPage(x).extractText().split('\\n'))\n",
    "        #content = reader.getPage(x).extractText().split('\\n')\n",
    "        content = contents\n",
    "        df_information = pd.DataFrame(\n",
    "            {'Category': [category], 'Title': [str(title)],'Auteur': [str(auteur)], 'Lien': [str(lien)], 'Number of pages': [number_of_pages], 'Content': [str(content)],'Date': [str(date)]})\n",
    "        # print(type(df_information))\n",
    "    return df_information"
   ]
  },
  {
   "cell_type": "markdown",
   "metadata": {},
   "source": [
    "#### Fonction pour parcourir tout le site et extraire tout les fichier pdf \n",
    "#### Ces fichiers sont rentré dans la fonction précédentes pour sortir les informations suivantes dans un dataframe :\n",
    "     - La catégorie \n",
    "     - Le titre du fichier pdf \n",
    "     - Le nombre de page du fichier \n",
    "     - L'auteur\n",
    "     - le contenu en texte du fichier"
   ]
  },
  {
   "cell_type": "code",
   "execution_count": 4,
   "metadata": {
    "scrolled": true
   },
   "outputs": [],
   "source": [
    "def extract_from_url():\n",
    "    # Request Page\n",
    "    request_url = \"https://www.groupedeveillecovid.fr/cat/articles-scientifiques/\"\n",
    "    requested_page = requests.get(request_url)\n",
    "    page_content = requested_page.text\n",
    "    \n",
    "    # Instantiate BeautifulSoup\n",
    "    soup_object = BeautifulSoup(page_content, features=\"lxml\")\n",
    "    tag_cloud_elements = soup_object.find_all(\"div\", {\"class\": \"tagcloud\"})\n",
    "\n",
    "    del urls_to_scrape[:]\n",
    "    del urls_to_scrape_1[:]\n",
    "    del liste_url_pdf[:]\n",
    "    # Iterate through the elements\n",
    "    for div_tag in tag_cloud_elements:\n",
    "        for tag in div_tag.find_all('a', href=True):\n",
    "            urls_to_scrape.append(tag['href'])\n",
    "    \n",
    "    # Scrape all titles and abstracts\n",
    "    for category_articles_url in range(len(urls_to_scrape)):\n",
    "        \n",
    "        # Build the category name\n",
    "        category_name = urls_to_scrape[category_articles_url][:-1]  # Removes the last trailing slash\n",
    "        category_name = category_name.rsplit('/', 1)[1]  # Get the last part of the URL after a \"/\"\n",
    "        \n",
    "        requested_page_1 = requests.get(urls_to_scrape[category_articles_url])\n",
    "        page_content_1 = requested_page_1.text\n",
    "        \n",
    "        \n",
    "           \n",
    "        \n",
    "        # Instantiate BeautifulSoup\n",
    "        soup_object_1 = BeautifulSoup(page_content_1, features=\"lxml\")\n",
    "        tag_cloud_elements_1 = soup_object_1.find_all(\"div\", {\"class\": \"btReadArticle\"})\n",
    "        category_abstract_elements = soup_object_1.find_all(\"span\", {\"class\": \"headline\"})\n",
    "\n",
    "        #print(urls_to_scrape[category_articles_url])\n",
    "        # Iterate through the elements\n",
    "        \n",
    "        for div_tag_1 in range(len(tag_cloud_elements_1)):\n",
    "            #print(category_abstract_elements[div_tag_1].text)\n",
    "            for tag_1 in tag_cloud_elements_1[div_tag_1].find_all('a', href=True):\n",
    "                #print(tag_1['href'])\n",
    "                # Instantiate BeautifulSoup\n",
    "                  \n",
    "                requested_page_2 = requests.get(tag_1['href'])\n",
    "                page_content_2 = requested_page_2.text\n",
    "\n",
    "                # Instantiate BeautifulSoup\n",
    "                soup_object_2 = BeautifulSoup(page_content_2, features=\"lxml\")\n",
    "                tag_cloud_elements_titre = soup_object_2.find_all(\"span\", {\"class\": \"btArticleDate\"})\n",
    "                tag_cloud_elements_auteur = soup_object_2.find(class_= \"btText\").find_all('p')\n",
    "                tag_cloud_elements_auteurs = soup_object_2.find(class_= \"btText\").find_all('em')\n",
    "\n",
    "                lien = tag_1['href']\n",
    "                date = tag_cloud_elements_titre[0].text\n",
    "                #auteurs = tag_cloud_elements_auteurs.text\n",
    "                \n",
    "                #print(tag_cloud_elements_auteur)\n",
    "                \n",
    "                if not tag_cloud_elements_auteurs:\n",
    "                    try:\n",
    "                        for x in tag_cloud_elements_auteur[1]:\n",
    "\n",
    "                            if type(x) is not  bs4.element.Tag:\n",
    "                                try:\n",
    "                                    cont = x.split(':')[1]\n",
    "                                except IndexError:\n",
    "                                    cont = 'null'\n",
    "                                auteur = cont.lstrip().rstrip('.')\n",
    "                            else:\n",
    "                                auteur = 'null'\n",
    "                    except IndexError:\n",
    "                        auteur = 'null'\n",
    "                else:\n",
    "                    for x in tag_cloud_elements_auteurs:\n",
    "                        auteur = x.text.lstrip().rstrip('.')\n",
    "                    \n",
    "                 \n",
    "                \n",
    "                #print(lien)\n",
    "                #print(date)      \n",
    "                #print(auteur)\n",
    "                #print('---------------------------')\n",
    "              \n",
    "                # check links\n",
    "                for link in soup_object_2.findAll('a'):\n",
    "                    try:\n",
    "                        href = link['href']\n",
    "                        if re.search(match, href):\n",
    "                            # liste_url_pdf.append(href)\n",
    "                            # print(href)\n",
    "                            # Lire le contenu du fichier pdf\n",
    "                            df = extract_df(href,category_name,category_abstract_elements[div_tag_1].text,auteur,lien,date)\n",
    "                            #df = extract_df(href, category_name,category_abstract_elements[div_tag_1].text)\n",
    "                            list_content.append(df)\n",
    "                            #print('--------- PRINTING THE FINAL DATASET --------------------')\n",
    "                            merged = pd.concat(list_content)\n",
    "                            #print('-------------------------------------')\n",
    "                            #print(type(merged))\n",
    "                            #print(merged)\n",
    "                    except KeyError:\n",
    "                        pass\n",
    "            # urls_to_scrape_1.append(tag_1['href'])\n",
    "            #print(title_name)\n",
    "                \n",
    "\n",
    "    return merged\n",
    "#if __name__ == '__main__':\n",
    " #   extract_from_url()\n",
    "    \n",
    "    \n",
    "    \n",
    "    "
   ]
  },
  {
   "cell_type": "markdown",
   "metadata": {},
   "source": [
    "#### On récuperer le dataset grace au deux fontions précédentes"
   ]
  },
  {
   "cell_type": "code",
   "execution_count": 5,
   "metadata": {},
   "outputs": [
    {
     "data": {
      "text/html": [
       "<div>\n",
       "<style scoped>\n",
       "    .dataframe tbody tr th:only-of-type {\n",
       "        vertical-align: middle;\n",
       "    }\n",
       "\n",
       "    .dataframe tbody tr th {\n",
       "        vertical-align: top;\n",
       "    }\n",
       "\n",
       "    .dataframe thead th {\n",
       "        text-align: right;\n",
       "    }\n",
       "</style>\n",
       "<table border=\"1\" class=\"dataframe\">\n",
       "  <thead>\n",
       "    <tr style=\"text-align: right;\">\n",
       "      <th></th>\n",
       "      <th>Category</th>\n",
       "      <th>Title</th>\n",
       "      <th>Auteur</th>\n",
       "      <th>Lien</th>\n",
       "      <th>Number of pages</th>\n",
       "      <th>Content</th>\n",
       "      <th>Date</th>\n",
       "    </tr>\n",
       "  </thead>\n",
       "  <tbody>\n",
       "    <tr>\n",
       "      <th>0</th>\n",
       "      <td>biologie</td>\n",
       "      <td>Current Status of Epidemiology, Diagnosis, The...</td>\n",
       "      <td>Dae-Gyun Ahn and al</td>\n",
       "      <td>https://www.groupedeveillecovid.fr/blog/2020/0...</td>\n",
       "      <td>12</td>\n",
       "      <td>324Ahn et al.J. Microbiol. Biotechnol.'˛˛ ˜,˜ ...</td>\n",
       "      <td>21 avril 2020</td>\n",
       "    </tr>\n",
       "    <tr>\n",
       "      <th>0</th>\n",
       "      <td>biologie</td>\n",
       "      <td>Into the Eye of the Cytokine Storm</td>\n",
       "      <td>Jennifer R. Tisoncik et al</td>\n",
       "      <td>https://www.groupedeveillecovid.fr/blog/2020/0...</td>\n",
       "      <td>17</td>\n",
       "      <td>ThomasR.Martin,M.D.,isEmeritusProfessorofMedic...</td>\n",
       "      <td>10 avril 2020</td>\n",
       "    </tr>\n",
       "    <tr>\n",
       "      <th>0</th>\n",
       "      <td>biologie</td>\n",
       "      <td>Lymphopenic community acquired pneumonia as si...</td>\n",
       "      <td>Bermejo-Martin and al</td>\n",
       "      <td>https://www.groupedeveillecovid.fr/blog/2020/0...</td>\n",
       "      <td>2</td>\n",
       "      <td>2 Letter to the Editor / Journal of Infection ...</td>\n",
       "      <td>10 avril 2020</td>\n",
       "    </tr>\n",
       "    <tr>\n",
       "      <th>0</th>\n",
       "      <td>biologie</td>\n",
       "      <td>Functional exhaustion of antiviral lymphocytes...</td>\n",
       "      <td>Zheng et al</td>\n",
       "      <td>https://www.groupedeveillecovid.fr/blog/2020/0...</td>\n",
       "      <td>3</td>\n",
       "      <td>ADDITIONALINFORMATIONTheonlineversionofthisart...</td>\n",
       "      <td>10 avril 2020</td>\n",
       "    </tr>\n",
       "    <tr>\n",
       "      <th>0</th>\n",
       "      <td>biologie</td>\n",
       "      <td>Hematologic parameters in patients with COVID-...</td>\n",
       "      <td>Fan et al</td>\n",
       "      <td>https://www.groupedeveillecovid.fr/blog/2020/0...</td>\n",
       "      <td>8</td>\n",
       "      <td>&lt;100 100-150 &gt;150 0 (0.0) 15 (25.9) 43 (74.1...</td>\n",
       "      <td>10 avril 2020</td>\n",
       "    </tr>\n",
       "  </tbody>\n",
       "</table>\n",
       "</div>"
      ],
      "text/plain": [
       "   Category                                              Title  \\\n",
       "0  biologie  Current Status of Epidemiology, Diagnosis, The...   \n",
       "0  biologie                 Into the Eye of the Cytokine Storm   \n",
       "0  biologie  Lymphopenic community acquired pneumonia as si...   \n",
       "0  biologie  Functional exhaustion of antiviral lymphocytes...   \n",
       "0  biologie  Hematologic parameters in patients with COVID-...   \n",
       "\n",
       "                       Auteur  \\\n",
       "0         Dae-Gyun Ahn and al   \n",
       "0  Jennifer R. Tisoncik et al   \n",
       "0       Bermejo-Martin and al   \n",
       "0                 Zheng et al   \n",
       "0                   Fan et al   \n",
       "\n",
       "                                                Lien  Number of pages  \\\n",
       "0  https://www.groupedeveillecovid.fr/blog/2020/0...               12   \n",
       "0  https://www.groupedeveillecovid.fr/blog/2020/0...               17   \n",
       "0  https://www.groupedeveillecovid.fr/blog/2020/0...                2   \n",
       "0  https://www.groupedeveillecovid.fr/blog/2020/0...                3   \n",
       "0  https://www.groupedeveillecovid.fr/blog/2020/0...                8   \n",
       "\n",
       "                                             Content            Date  \n",
       "0  324Ahn et al.J. Microbiol. Biotechnol.'˛˛ ˜,˜ ...  21 avril 2020   \n",
       "0  ThomasR.Martin,M.D.,isEmeritusProfessorofMedic...  10 avril 2020   \n",
       "0  2 Letter to the Editor / Journal of Infection ...  10 avril 2020   \n",
       "0  ADDITIONALINFORMATIONTheonlineversionofthisart...  10 avril 2020   \n",
       "0    <100 100-150 >150 0 (0.0) 15 (25.9) 43 (74.1...  10 avril 2020   "
      ]
     },
     "execution_count": 5,
     "metadata": {},
     "output_type": "execute_result"
    }
   ],
   "source": [
    "dts = extract_from_url()\n",
    "dts.head()\n"
   ]
  },
  {
   "cell_type": "code",
   "execution_count": 6,
   "metadata": {},
   "outputs": [],
   "source": [
    "dts.to_csv(\"train_data_recommendation.csv\", sep=';', encoding='utf-8')"
   ]
  },
  {
   "cell_type": "code",
   "execution_count": 7,
   "metadata": {},
   "outputs": [
    {
     "data": {
      "text/html": [
       "<div>\n",
       "<style scoped>\n",
       "    .dataframe tbody tr th:only-of-type {\n",
       "        vertical-align: middle;\n",
       "    }\n",
       "\n",
       "    .dataframe tbody tr th {\n",
       "        vertical-align: top;\n",
       "    }\n",
       "\n",
       "    .dataframe thead th {\n",
       "        text-align: right;\n",
       "    }\n",
       "</style>\n",
       "<table border=\"1\" class=\"dataframe\">\n",
       "  <thead>\n",
       "    <tr style=\"text-align: right;\">\n",
       "      <th></th>\n",
       "      <th>Category</th>\n",
       "      <th>Title</th>\n",
       "      <th>Auteur</th>\n",
       "      <th>Lien</th>\n",
       "      <th>Number of pages</th>\n",
       "      <th>Content</th>\n",
       "      <th>Date</th>\n",
       "    </tr>\n",
       "  </thead>\n",
       "  <tbody>\n",
       "    <tr>\n",
       "      <th>0</th>\n",
       "      <td>biologie</td>\n",
       "      <td>Current Status of Epidemiology, Diagnosis, The...</td>\n",
       "      <td>Dae-Gyun Ahn and al</td>\n",
       "      <td>https://www.groupedeveillecovid.fr/blog/2020/0...</td>\n",
       "      <td>12</td>\n",
       "      <td>324Ahn et al.J. Microbiol. Biotechnol.'˛˛ ˜,˜ ...</td>\n",
       "      <td>21 avril 2020</td>\n",
       "    </tr>\n",
       "    <tr>\n",
       "      <th>1</th>\n",
       "      <td>biologie</td>\n",
       "      <td>Into the Eye of the Cytokine Storm</td>\n",
       "      <td>Jennifer R. Tisoncik et al</td>\n",
       "      <td>https://www.groupedeveillecovid.fr/blog/2020/0...</td>\n",
       "      <td>17</td>\n",
       "      <td>ThomasR.Martin,M.D.,isEmeritusProfessorofMedic...</td>\n",
       "      <td>10 avril 2020</td>\n",
       "    </tr>\n",
       "    <tr>\n",
       "      <th>2</th>\n",
       "      <td>biologie</td>\n",
       "      <td>Lymphopenic community acquired pneumonia as si...</td>\n",
       "      <td>Bermejo-Martin and al</td>\n",
       "      <td>https://www.groupedeveillecovid.fr/blog/2020/0...</td>\n",
       "      <td>2</td>\n",
       "      <td>2 Letter to the Editor / Journal of Infection ...</td>\n",
       "      <td>10 avril 2020</td>\n",
       "    </tr>\n",
       "    <tr>\n",
       "      <th>3</th>\n",
       "      <td>biologie</td>\n",
       "      <td>Functional exhaustion of antiviral lymphocytes...</td>\n",
       "      <td>Zheng et al</td>\n",
       "      <td>https://www.groupedeveillecovid.fr/blog/2020/0...</td>\n",
       "      <td>3</td>\n",
       "      <td>ADDITIONALINFORMATIONTheonlineversionofthisart...</td>\n",
       "      <td>10 avril 2020</td>\n",
       "    </tr>\n",
       "    <tr>\n",
       "      <th>4</th>\n",
       "      <td>biologie</td>\n",
       "      <td>Hematologic parameters in patients with COVID-...</td>\n",
       "      <td>Fan et al</td>\n",
       "      <td>https://www.groupedeveillecovid.fr/blog/2020/0...</td>\n",
       "      <td>8</td>\n",
       "      <td>&lt;100 100-150 &gt;150 0 (0.0) 15 (25.9) 43 (74.1...</td>\n",
       "      <td>10 avril 2020</td>\n",
       "    </tr>\n",
       "    <tr>\n",
       "      <th>5</th>\n",
       "      <td>biologie</td>\n",
       "      <td>Characteristics of peripheral lymphocyte subse...</td>\n",
       "      <td>Fan Wang et al</td>\n",
       "      <td>https://www.groupedeveillecovid.fr/blog/2020/0...</td>\n",
       "      <td>20</td>\n",
       "      <td>Accepted Manuscript   19. Cannon MJ, Stott EJ,...</td>\n",
       "      <td>10 avril 2020</td>\n",
       "    </tr>\n",
       "  </tbody>\n",
       "</table>\n",
       "</div>"
      ],
      "text/plain": [
       "   Category                                              Title  \\\n",
       "0  biologie  Current Status of Epidemiology, Diagnosis, The...   \n",
       "1  biologie                 Into the Eye of the Cytokine Storm   \n",
       "2  biologie  Lymphopenic community acquired pneumonia as si...   \n",
       "3  biologie  Functional exhaustion of antiviral lymphocytes...   \n",
       "4  biologie  Hematologic parameters in patients with COVID-...   \n",
       "5  biologie  Characteristics of peripheral lymphocyte subse...   \n",
       "\n",
       "                       Auteur  \\\n",
       "0         Dae-Gyun Ahn and al   \n",
       "1  Jennifer R. Tisoncik et al   \n",
       "2       Bermejo-Martin and al   \n",
       "3                 Zheng et al   \n",
       "4                   Fan et al   \n",
       "5              Fan Wang et al   \n",
       "\n",
       "                                                Lien  Number of pages  \\\n",
       "0  https://www.groupedeveillecovid.fr/blog/2020/0...               12   \n",
       "1  https://www.groupedeveillecovid.fr/blog/2020/0...               17   \n",
       "2  https://www.groupedeveillecovid.fr/blog/2020/0...                2   \n",
       "3  https://www.groupedeveillecovid.fr/blog/2020/0...                3   \n",
       "4  https://www.groupedeveillecovid.fr/blog/2020/0...                8   \n",
       "5  https://www.groupedeveillecovid.fr/blog/2020/0...               20   \n",
       "\n",
       "                                             Content            Date  \n",
       "0  324Ahn et al.J. Microbiol. Biotechnol.'˛˛ ˜,˜ ...  21 avril 2020   \n",
       "1  ThomasR.Martin,M.D.,isEmeritusProfessorofMedic...  10 avril 2020   \n",
       "2  2 Letter to the Editor / Journal of Infection ...  10 avril 2020   \n",
       "3  ADDITIONALINFORMATIONTheonlineversionofthisart...  10 avril 2020   \n",
       "4    <100 100-150 >150 0 (0.0) 15 (25.9) 43 (74.1...  10 avril 2020   \n",
       "5  Accepted Manuscript   19. Cannon MJ, Stott EJ,...  10 avril 2020   "
      ]
     },
     "execution_count": 7,
     "metadata": {},
     "output_type": "execute_result"
    }
   ],
   "source": [
    "data=pd.read_csv('train_data_recommendation.csv',sep=\";\")\n",
    "del data['Unnamed: 0']\n",
    "data.head(6)"
   ]
  },
  {
   "cell_type": "code",
   "execution_count": 8,
   "metadata": {},
   "outputs": [
    {
     "data": {
      "text/plain": [
       "0      21 avril 2020 \n",
       "1      10 avril 2020 \n",
       "2      10 avril 2020 \n",
       "3      10 avril 2020 \n",
       "4      10 avril 2020 \n",
       "            ...      \n",
       "134      23 mai 2020 \n",
       "135      23 mai 2020 \n",
       "136       3 mai 2020 \n",
       "137       3 mai 2020 \n",
       "138    25 avril 2020 \n",
       "Name: Date, Length: 139, dtype: object"
      ]
     },
     "execution_count": 8,
     "metadata": {},
     "output_type": "execute_result"
    }
   ],
   "source": [
    "data['Date']"
   ]
  },
  {
   "cell_type": "code",
   "execution_count": 9,
   "metadata": {},
   "outputs": [
    {
     "name": "stdout",
     "output_type": "stream",
     "text": [
      "<class 'pandas.core.frame.DataFrame'>\n",
      "RangeIndex: 139 entries, 0 to 138\n",
      "Data columns (total 7 columns):\n",
      "Category           139 non-null object\n",
      "Title              139 non-null object\n",
      "Auteur             127 non-null object\n",
      "Lien               139 non-null object\n",
      "Number of pages    139 non-null int64\n",
      "Content            134 non-null object\n",
      "Date               139 non-null object\n",
      "dtypes: int64(1), object(6)\n",
      "memory usage: 7.7+ KB\n"
     ]
    }
   ],
   "source": [
    "data.info()"
   ]
  },
  {
   "cell_type": "code",
   "execution_count": 10,
   "metadata": {},
   "outputs": [],
   "source": [
    "# convert the 'Date' column to datetime format \n",
    "#!/usr/bin/env python\n",
    "# -*- coding: utf-8 -*-\n",
    "import parsedatetime as pdt\n",
    "import dateparser\n",
    "\n",
    "#data['Date'] = data['Date'].astype('str') \n"
   ]
  },
  {
   "cell_type": "code",
   "execution_count": 11,
   "metadata": {},
   "outputs": [],
   "source": [
    "calendar = pdt.Calendar(pdt.Constants(localeID='fr', usePyICU=True))\n",
    "for date_string in data['Date']:\n",
    "    dt, success = calendar.parseDT(date_string)\n",
    "    if success:\n",
    "        data['DateConvertit']= dt.date()\n",
    "       #print(date_string, dt.date())"
   ]
  },
  {
   "cell_type": "code",
   "execution_count": 12,
   "metadata": {},
   "outputs": [
    {
     "name": "stdout",
     "output_type": "stream",
     "text": [
      "<class 'pandas.core.frame.DataFrame'>\n",
      "RangeIndex: 139 entries, 0 to 138\n",
      "Data columns (total 8 columns):\n",
      "Category           139 non-null object\n",
      "Title              139 non-null object\n",
      "Auteur             127 non-null object\n",
      "Lien               139 non-null object\n",
      "Number of pages    139 non-null int64\n",
      "Content            134 non-null object\n",
      "Date               139 non-null object\n",
      "DateConvertit      139 non-null object\n",
      "dtypes: int64(1), object(7)\n",
      "memory usage: 8.8+ KB\n"
     ]
    }
   ],
   "source": [
    "data.info()"
   ]
  },
  {
   "cell_type": "code",
   "execution_count": 13,
   "metadata": {},
   "outputs": [],
   "source": [
    "data['Date'].head()\n",
    "data['Date'] = data['Date'].astype(str)\n",
    "del data['DateConvertit']"
   ]
  },
  {
   "cell_type": "code",
   "execution_count": 14,
   "metadata": {},
   "outputs": [
    {
     "name": "stdout",
     "output_type": "stream",
     "text": [
      "<class 'pandas.core.frame.DataFrame'>\n",
      "RangeIndex: 139 entries, 0 to 138\n",
      "Data columns (total 7 columns):\n",
      "Category           139 non-null object\n",
      "Title              139 non-null object\n",
      "Auteur             127 non-null object\n",
      "Lien               139 non-null object\n",
      "Number of pages    139 non-null int64\n",
      "Content            134 non-null object\n",
      "Date               139 non-null object\n",
      "dtypes: int64(1), object(6)\n",
      "memory usage: 7.7+ KB\n"
     ]
    }
   ],
   "source": [
    "data.info()"
   ]
  },
  {
   "cell_type": "code",
   "execution_count": 15,
   "metadata": {},
   "outputs": [],
   "source": [
    "import dateparser # $ pip install dateparser\n",
    "data['Date'] = data['Date'].apply(dateparser.parse)\n",
    "\n",
    "#for date_string in data['Date']:\n",
    "#    print(dateparser.parse(date_string).date())\n"
   ]
  },
  {
   "cell_type": "code",
   "execution_count": 16,
   "metadata": {},
   "outputs": [
    {
     "name": "stdout",
     "output_type": "stream",
     "text": [
      "<class 'pandas.core.frame.DataFrame'>\n",
      "RangeIndex: 139 entries, 0 to 138\n",
      "Data columns (total 7 columns):\n",
      "Category           139 non-null object\n",
      "Title              139 non-null object\n",
      "Auteur             127 non-null object\n",
      "Lien               139 non-null object\n",
      "Number of pages    139 non-null int64\n",
      "Content            134 non-null object\n",
      "Date               139 non-null datetime64[ns]\n",
      "dtypes: datetime64[ns](1), int64(1), object(5)\n",
      "memory usage: 7.7+ KB\n"
     ]
    }
   ],
   "source": [
    "data.info()"
   ]
  },
  {
   "cell_type": "code",
   "execution_count": 17,
   "metadata": {},
   "outputs": [
    {
     "data": {
      "text/html": [
       "<div>\n",
       "<style scoped>\n",
       "    .dataframe tbody tr th:only-of-type {\n",
       "        vertical-align: middle;\n",
       "    }\n",
       "\n",
       "    .dataframe tbody tr th {\n",
       "        vertical-align: top;\n",
       "    }\n",
       "\n",
       "    .dataframe thead th {\n",
       "        text-align: right;\n",
       "    }\n",
       "</style>\n",
       "<table border=\"1\" class=\"dataframe\">\n",
       "  <thead>\n",
       "    <tr style=\"text-align: right;\">\n",
       "      <th></th>\n",
       "      <th>Category</th>\n",
       "      <th>Title</th>\n",
       "      <th>Auteur</th>\n",
       "      <th>Lien</th>\n",
       "      <th>Number of pages</th>\n",
       "      <th>Content</th>\n",
       "      <th>Date</th>\n",
       "    </tr>\n",
       "  </thead>\n",
       "  <tbody>\n",
       "    <tr>\n",
       "      <th>0</th>\n",
       "      <td>biologie</td>\n",
       "      <td>Current Status of Epidemiology, Diagnosis, The...</td>\n",
       "      <td>Dae-Gyun Ahn and al</td>\n",
       "      <td>https://www.groupedeveillecovid.fr/blog/2020/0...</td>\n",
       "      <td>12</td>\n",
       "      <td>324Ahn et al.J. Microbiol. Biotechnol.'˛˛ ˜,˜ ...</td>\n",
       "      <td>2020-04-21</td>\n",
       "    </tr>\n",
       "    <tr>\n",
       "      <th>1</th>\n",
       "      <td>biologie</td>\n",
       "      <td>Into the Eye of the Cytokine Storm</td>\n",
       "      <td>Jennifer R. Tisoncik et al</td>\n",
       "      <td>https://www.groupedeveillecovid.fr/blog/2020/0...</td>\n",
       "      <td>17</td>\n",
       "      <td>ThomasR.Martin,M.D.,isEmeritusProfessorofMedic...</td>\n",
       "      <td>2020-04-10</td>\n",
       "    </tr>\n",
       "    <tr>\n",
       "      <th>2</th>\n",
       "      <td>biologie</td>\n",
       "      <td>Lymphopenic community acquired pneumonia as si...</td>\n",
       "      <td>Bermejo-Martin and al</td>\n",
       "      <td>https://www.groupedeveillecovid.fr/blog/2020/0...</td>\n",
       "      <td>2</td>\n",
       "      <td>2 Letter to the Editor / Journal of Infection ...</td>\n",
       "      <td>2020-04-10</td>\n",
       "    </tr>\n",
       "    <tr>\n",
       "      <th>3</th>\n",
       "      <td>biologie</td>\n",
       "      <td>Functional exhaustion of antiviral lymphocytes...</td>\n",
       "      <td>Zheng et al</td>\n",
       "      <td>https://www.groupedeveillecovid.fr/blog/2020/0...</td>\n",
       "      <td>3</td>\n",
       "      <td>ADDITIONALINFORMATIONTheonlineversionofthisart...</td>\n",
       "      <td>2020-04-10</td>\n",
       "    </tr>\n",
       "    <tr>\n",
       "      <th>4</th>\n",
       "      <td>biologie</td>\n",
       "      <td>Hematologic parameters in patients with COVID-...</td>\n",
       "      <td>Fan et al</td>\n",
       "      <td>https://www.groupedeveillecovid.fr/blog/2020/0...</td>\n",
       "      <td>8</td>\n",
       "      <td>&lt;100 100-150 &gt;150 0 (0.0) 15 (25.9) 43 (74.1...</td>\n",
       "      <td>2020-04-10</td>\n",
       "    </tr>\n",
       "    <tr>\n",
       "      <th>...</th>\n",
       "      <td>...</td>\n",
       "      <td>...</td>\n",
       "      <td>...</td>\n",
       "      <td>...</td>\n",
       "      <td>...</td>\n",
       "      <td>...</td>\n",
       "      <td>...</td>\n",
       "    </tr>\n",
       "    <tr>\n",
       "      <th>134</th>\n",
       "      <td>epidemiologie-et-sante-publique</td>\n",
       "      <td>Individual quarantine versus active monitoring...</td>\n",
       "      <td>“COVID-19 : when should quarantine be enforced“</td>\n",
       "      <td>https://www.groupedeveillecovid.fr/blog/2020/0...</td>\n",
       "      <td>2</td>\n",
       "      <td>2 www.thelancet.com/infection   Published onli...</td>\n",
       "      <td>2020-05-23</td>\n",
       "    </tr>\n",
       "    <tr>\n",
       "      <th>135</th>\n",
       "      <td>epidemiologie-et-sante-publique</td>\n",
       "      <td>Individual quarantine versus active monitoring...</td>\n",
       "      <td>“COVID-19 : when should quarantine be enforced“</td>\n",
       "      <td>https://www.groupedeveillecovid.fr/blog/2020/0...</td>\n",
       "      <td>9</td>\n",
       "      <td>www.thelancet.com/infection   Published online...</td>\n",
       "      <td>2020-05-23</td>\n",
       "    </tr>\n",
       "    <tr>\n",
       "      <th>136</th>\n",
       "      <td>epidemiologie-et-sante-publique</td>\n",
       "      <td>Epidemiological characteristics and incubation...</td>\n",
       "      <td>X Nie et al</td>\n",
       "      <td>https://www.groupedeveillecovid.fr/blog/2020/0...</td>\n",
       "      <td>30</td>\n",
       "      <td>Accepted Manuscript 30  Figure 4  Downloaded f...</td>\n",
       "      <td>2020-05-03</td>\n",
       "    </tr>\n",
       "    <tr>\n",
       "      <th>137</th>\n",
       "      <td>epidemiologie-et-sante-publique</td>\n",
       "      <td>Early dynamics of transmission and control of ...</td>\n",
       "      <td>Adam J Kucharski et al</td>\n",
       "      <td>https://www.groupedeveillecovid.fr/blog/2020/0...</td>\n",
       "      <td>6</td>\n",
       "      <td>558 www.thelancet.com/infection   Vol 20   May...</td>\n",
       "      <td>2020-05-03</td>\n",
       "    </tr>\n",
       "    <tr>\n",
       "      <th>138</th>\n",
       "      <td>epidemiologie-et-sante-publique</td>\n",
       "      <td>Uneventful course in IBD patients during SARS-...</td>\n",
       "      <td>Lorenzo Norsa and al</td>\n",
       "      <td>https://www.groupedeveillecovid.fr/blog/2020/0...</td>\n",
       "      <td>8</td>\n",
       "      <td>˘ˇˆ˙˝˛· ˚˙˜ˆ·  !\"˚#\"$%ˆ&amp;˘˝'˛· (˝)!˝(˘ˇ· '˙*˙+(...</td>\n",
       "      <td>2020-04-25</td>\n",
       "    </tr>\n",
       "  </tbody>\n",
       "</table>\n",
       "<p>139 rows × 7 columns</p>\n",
       "</div>"
      ],
      "text/plain": [
       "                            Category  \\\n",
       "0                           biologie   \n",
       "1                           biologie   \n",
       "2                           biologie   \n",
       "3                           biologie   \n",
       "4                           biologie   \n",
       "..                               ...   \n",
       "134  epidemiologie-et-sante-publique   \n",
       "135  epidemiologie-et-sante-publique   \n",
       "136  epidemiologie-et-sante-publique   \n",
       "137  epidemiologie-et-sante-publique   \n",
       "138  epidemiologie-et-sante-publique   \n",
       "\n",
       "                                                 Title  \\\n",
       "0    Current Status of Epidemiology, Diagnosis, The...   \n",
       "1                   Into the Eye of the Cytokine Storm   \n",
       "2    Lymphopenic community acquired pneumonia as si...   \n",
       "3    Functional exhaustion of antiviral lymphocytes...   \n",
       "4    Hematologic parameters in patients with COVID-...   \n",
       "..                                                 ...   \n",
       "134  Individual quarantine versus active monitoring...   \n",
       "135  Individual quarantine versus active monitoring...   \n",
       "136  Epidemiological characteristics and incubation...   \n",
       "137  Early dynamics of transmission and control of ...   \n",
       "138  Uneventful course in IBD patients during SARS-...   \n",
       "\n",
       "                                              Auteur  \\\n",
       "0                                Dae-Gyun Ahn and al   \n",
       "1                         Jennifer R. Tisoncik et al   \n",
       "2                              Bermejo-Martin and al   \n",
       "3                                        Zheng et al   \n",
       "4                                          Fan et al   \n",
       "..                                               ...   \n",
       "134  “COVID-19 : when should quarantine be enforced“   \n",
       "135  “COVID-19 : when should quarantine be enforced“   \n",
       "136                                      X Nie et al   \n",
       "137                           Adam J Kucharski et al   \n",
       "138                             Lorenzo Norsa and al   \n",
       "\n",
       "                                                  Lien  Number of pages  \\\n",
       "0    https://www.groupedeveillecovid.fr/blog/2020/0...               12   \n",
       "1    https://www.groupedeveillecovid.fr/blog/2020/0...               17   \n",
       "2    https://www.groupedeveillecovid.fr/blog/2020/0...                2   \n",
       "3    https://www.groupedeveillecovid.fr/blog/2020/0...                3   \n",
       "4    https://www.groupedeveillecovid.fr/blog/2020/0...                8   \n",
       "..                                                 ...              ...   \n",
       "134  https://www.groupedeveillecovid.fr/blog/2020/0...                2   \n",
       "135  https://www.groupedeveillecovid.fr/blog/2020/0...                9   \n",
       "136  https://www.groupedeveillecovid.fr/blog/2020/0...               30   \n",
       "137  https://www.groupedeveillecovid.fr/blog/2020/0...                6   \n",
       "138  https://www.groupedeveillecovid.fr/blog/2020/0...                8   \n",
       "\n",
       "                                               Content       Date  \n",
       "0    324Ahn et al.J. Microbiol. Biotechnol.'˛˛ ˜,˜ ... 2020-04-21  \n",
       "1    ThomasR.Martin,M.D.,isEmeritusProfessorofMedic... 2020-04-10  \n",
       "2    2 Letter to the Editor / Journal of Infection ... 2020-04-10  \n",
       "3    ADDITIONALINFORMATIONTheonlineversionofthisart... 2020-04-10  \n",
       "4      <100 100-150 >150 0 (0.0) 15 (25.9) 43 (74.1... 2020-04-10  \n",
       "..                                                 ...        ...  \n",
       "134  2 www.thelancet.com/infection   Published onli... 2020-05-23  \n",
       "135  www.thelancet.com/infection   Published online... 2020-05-23  \n",
       "136  Accepted Manuscript 30  Figure 4  Downloaded f... 2020-05-03  \n",
       "137  558 www.thelancet.com/infection   Vol 20   May... 2020-05-03  \n",
       "138  ˘ˇˆ˙˝˛· ˚˙˜ˆ·  !\"˚#\"$%ˆ&˘˝'˛· (˝)!˝(˘ˇ· '˙*˙+(... 2020-04-25  \n",
       "\n",
       "[139 rows x 7 columns]"
      ]
     },
     "execution_count": 17,
     "metadata": {},
     "output_type": "execute_result"
    }
   ],
   "source": [
    "data"
   ]
  },
  {
   "cell_type": "markdown",
   "metadata": {},
   "source": [
    "# Vérification et suppression de tous les doublons"
   ]
  },
  {
   "cell_type": "code",
   "execution_count": 18,
   "metadata": {},
   "outputs": [
    {
     "name": "stdout",
     "output_type": "stream",
     "text": [
      "Nombre total d'articles après élimination des doublons: 113\n"
     ]
    }
   ],
   "source": [
    "data.sort_values('Title',inplace=True, ascending=False)\n",
    "\n",
    "duplicated_articles_series = data.duplicated('Title', keep = False)\n",
    "\n",
    "data = data[~duplicated_articles_series]\n",
    "print(\"Nombre total d'articles après élimination des doublons:\", data.shape[0])"
   ]
  },
  {
   "cell_type": "markdown",
   "metadata": {},
   "source": [
    "# Vérification des valeurs manquantes"
   ]
  },
  {
   "cell_type": "code",
   "execution_count": 19,
   "metadata": {},
   "outputs": [
    {
     "data": {
      "text/plain": [
       "Category            0\n",
       "Title               0\n",
       "Auteur             12\n",
       "Lien                0\n",
       "Number of pages     0\n",
       "Content             4\n",
       "Date                0\n",
       "dtype: int64"
      ]
     },
     "execution_count": 19,
     "metadata": {},
     "output_type": "execute_result"
    }
   ],
   "source": [
    "data.isna().sum()"
   ]
  },
  {
   "cell_type": "code",
   "execution_count": 20,
   "metadata": {},
   "outputs": [
    {
     "data": {
      "text/plain": [
       "Category           0\n",
       "Title              0\n",
       "Auteur             0\n",
       "Lien               0\n",
       "Number of pages    0\n",
       "Content            0\n",
       "Date               0\n",
       "dtype: int64"
      ]
     },
     "execution_count": 20,
     "metadata": {},
     "output_type": "execute_result"
    }
   ],
   "source": [
    "data_propre = data.dropna()\n",
    "data_propre.isna().sum()"
   ]
  },
  {
   "cell_type": "code",
   "execution_count": 21,
   "metadata": {},
   "outputs": [
    {
     "data": {
      "text/plain": [
       "(98, 7)"
      ]
     },
     "execution_count": 21,
     "metadata": {},
     "output_type": "execute_result"
    }
   ],
   "source": [
    "data_propre.shape"
   ]
  },
  {
   "cell_type": "markdown",
   "metadata": {},
   "source": [
    "# Exploration des données de base"
   ]
  },
  {
   "cell_type": "markdown",
   "metadata": {},
   "source": [
    "## Statistiques de base - Nombre d'articles, d'auteurs, de catégories"
   ]
  },
  {
   "cell_type": "code",
   "execution_count": 22,
   "metadata": {},
   "outputs": [
    {
     "name": "stdout",
     "output_type": "stream",
     "text": [
      "Nombre total d'articles :  98\n",
      "Nombre total d'auteurs :  93\n",
      "Nombre total de catégories unqiue :  28\n"
     ]
    }
   ],
   "source": [
    "print(\"Nombre total d'articles : \", data_propre.shape[0])\n",
    "print(\"Nombre total d'auteurs : \", data_propre[\"Auteur\"].nunique())\n",
    "print(\"Nombre total de catégories unqiue : \", data_propre[\"Category\"].nunique())"
   ]
  },
  {
   "cell_type": "markdown",
   "metadata": {},
   "source": [
    "## Répartition des articles par catégorie"
   ]
  },
  {
   "cell_type": "code",
   "execution_count": 24,
   "metadata": {},
   "outputs": [
    {
     "data": {
      "application/vnd.plotly.v1+json": {
       "config": {
        "plotlyServerURL": "https://plot.ly"
       },
       "data": [
        {
         "type": "bar",
         "x": [
          "clinique",
          "biologie",
          "covid-et-pathologies-chroniques",
          "epidemiologie-et-sante-publique",
          "covid-et-grossesse",
          "therapeutique",
          "covid-et-pediatrie",
          "bloc-operatoire",
          "vih",
          "virologie-reponse-immunitaire",
          "psychiatrie",
          "imagerie",
          "serologie",
          "transfusion",
          "virologie",
          "covid-et-encologie",
          "pharmacologie",
          "gastroenterologie",
          "echantillons-biologiques",
          "gerontologie",
          "reanimation",
          "dietetique",
          "depistage",
          "greffe",
          "telemedecine",
          "neurologie",
          "precarite",
          "radiologie"
         ],
         "y": [
          9,
          9,
          8,
          7,
          7,
          7,
          6,
          5,
          5,
          4,
          4,
          3,
          3,
          3,
          2,
          2,
          2,
          2,
          1,
          1,
          1,
          1,
          1,
          1,
          1,
          1,
          1,
          1
         ]
        }
       ],
       "layout": {
        "height": 700,
        "template": {
         "data": {
          "bar": [
           {
            "error_x": {
             "color": "#2a3f5f"
            },
            "error_y": {
             "color": "#2a3f5f"
            },
            "marker": {
             "line": {
              "color": "#E5ECF6",
              "width": 0.5
             }
            },
            "type": "bar"
           }
          ],
          "barpolar": [
           {
            "marker": {
             "line": {
              "color": "#E5ECF6",
              "width": 0.5
             }
            },
            "type": "barpolar"
           }
          ],
          "carpet": [
           {
            "aaxis": {
             "endlinecolor": "#2a3f5f",
             "gridcolor": "white",
             "linecolor": "white",
             "minorgridcolor": "white",
             "startlinecolor": "#2a3f5f"
            },
            "baxis": {
             "endlinecolor": "#2a3f5f",
             "gridcolor": "white",
             "linecolor": "white",
             "minorgridcolor": "white",
             "startlinecolor": "#2a3f5f"
            },
            "type": "carpet"
           }
          ],
          "choropleth": [
           {
            "colorbar": {
             "outlinewidth": 0,
             "ticks": ""
            },
            "type": "choropleth"
           }
          ],
          "contour": [
           {
            "colorbar": {
             "outlinewidth": 0,
             "ticks": ""
            },
            "colorscale": [
             [
              0,
              "#0d0887"
             ],
             [
              0.1111111111111111,
              "#46039f"
             ],
             [
              0.2222222222222222,
              "#7201a8"
             ],
             [
              0.3333333333333333,
              "#9c179e"
             ],
             [
              0.4444444444444444,
              "#bd3786"
             ],
             [
              0.5555555555555556,
              "#d8576b"
             ],
             [
              0.6666666666666666,
              "#ed7953"
             ],
             [
              0.7777777777777778,
              "#fb9f3a"
             ],
             [
              0.8888888888888888,
              "#fdca26"
             ],
             [
              1,
              "#f0f921"
             ]
            ],
            "type": "contour"
           }
          ],
          "contourcarpet": [
           {
            "colorbar": {
             "outlinewidth": 0,
             "ticks": ""
            },
            "type": "contourcarpet"
           }
          ],
          "heatmap": [
           {
            "colorbar": {
             "outlinewidth": 0,
             "ticks": ""
            },
            "colorscale": [
             [
              0,
              "#0d0887"
             ],
             [
              0.1111111111111111,
              "#46039f"
             ],
             [
              0.2222222222222222,
              "#7201a8"
             ],
             [
              0.3333333333333333,
              "#9c179e"
             ],
             [
              0.4444444444444444,
              "#bd3786"
             ],
             [
              0.5555555555555556,
              "#d8576b"
             ],
             [
              0.6666666666666666,
              "#ed7953"
             ],
             [
              0.7777777777777778,
              "#fb9f3a"
             ],
             [
              0.8888888888888888,
              "#fdca26"
             ],
             [
              1,
              "#f0f921"
             ]
            ],
            "type": "heatmap"
           }
          ],
          "heatmapgl": [
           {
            "colorbar": {
             "outlinewidth": 0,
             "ticks": ""
            },
            "colorscale": [
             [
              0,
              "#0d0887"
             ],
             [
              0.1111111111111111,
              "#46039f"
             ],
             [
              0.2222222222222222,
              "#7201a8"
             ],
             [
              0.3333333333333333,
              "#9c179e"
             ],
             [
              0.4444444444444444,
              "#bd3786"
             ],
             [
              0.5555555555555556,
              "#d8576b"
             ],
             [
              0.6666666666666666,
              "#ed7953"
             ],
             [
              0.7777777777777778,
              "#fb9f3a"
             ],
             [
              0.8888888888888888,
              "#fdca26"
             ],
             [
              1,
              "#f0f921"
             ]
            ],
            "type": "heatmapgl"
           }
          ],
          "histogram": [
           {
            "marker": {
             "colorbar": {
              "outlinewidth": 0,
              "ticks": ""
             }
            },
            "type": "histogram"
           }
          ],
          "histogram2d": [
           {
            "colorbar": {
             "outlinewidth": 0,
             "ticks": ""
            },
            "colorscale": [
             [
              0,
              "#0d0887"
             ],
             [
              0.1111111111111111,
              "#46039f"
             ],
             [
              0.2222222222222222,
              "#7201a8"
             ],
             [
              0.3333333333333333,
              "#9c179e"
             ],
             [
              0.4444444444444444,
              "#bd3786"
             ],
             [
              0.5555555555555556,
              "#d8576b"
             ],
             [
              0.6666666666666666,
              "#ed7953"
             ],
             [
              0.7777777777777778,
              "#fb9f3a"
             ],
             [
              0.8888888888888888,
              "#fdca26"
             ],
             [
              1,
              "#f0f921"
             ]
            ],
            "type": "histogram2d"
           }
          ],
          "histogram2dcontour": [
           {
            "colorbar": {
             "outlinewidth": 0,
             "ticks": ""
            },
            "colorscale": [
             [
              0,
              "#0d0887"
             ],
             [
              0.1111111111111111,
              "#46039f"
             ],
             [
              0.2222222222222222,
              "#7201a8"
             ],
             [
              0.3333333333333333,
              "#9c179e"
             ],
             [
              0.4444444444444444,
              "#bd3786"
             ],
             [
              0.5555555555555556,
              "#d8576b"
             ],
             [
              0.6666666666666666,
              "#ed7953"
             ],
             [
              0.7777777777777778,
              "#fb9f3a"
             ],
             [
              0.8888888888888888,
              "#fdca26"
             ],
             [
              1,
              "#f0f921"
             ]
            ],
            "type": "histogram2dcontour"
           }
          ],
          "mesh3d": [
           {
            "colorbar": {
             "outlinewidth": 0,
             "ticks": ""
            },
            "type": "mesh3d"
           }
          ],
          "parcoords": [
           {
            "line": {
             "colorbar": {
              "outlinewidth": 0,
              "ticks": ""
             }
            },
            "type": "parcoords"
           }
          ],
          "pie": [
           {
            "automargin": true,
            "type": "pie"
           }
          ],
          "scatter": [
           {
            "marker": {
             "colorbar": {
              "outlinewidth": 0,
              "ticks": ""
             }
            },
            "type": "scatter"
           }
          ],
          "scatter3d": [
           {
            "line": {
             "colorbar": {
              "outlinewidth": 0,
              "ticks": ""
             }
            },
            "marker": {
             "colorbar": {
              "outlinewidth": 0,
              "ticks": ""
             }
            },
            "type": "scatter3d"
           }
          ],
          "scattercarpet": [
           {
            "marker": {
             "colorbar": {
              "outlinewidth": 0,
              "ticks": ""
             }
            },
            "type": "scattercarpet"
           }
          ],
          "scattergeo": [
           {
            "marker": {
             "colorbar": {
              "outlinewidth": 0,
              "ticks": ""
             }
            },
            "type": "scattergeo"
           }
          ],
          "scattergl": [
           {
            "marker": {
             "colorbar": {
              "outlinewidth": 0,
              "ticks": ""
             }
            },
            "type": "scattergl"
           }
          ],
          "scattermapbox": [
           {
            "marker": {
             "colorbar": {
              "outlinewidth": 0,
              "ticks": ""
             }
            },
            "type": "scattermapbox"
           }
          ],
          "scatterpolar": [
           {
            "marker": {
             "colorbar": {
              "outlinewidth": 0,
              "ticks": ""
             }
            },
            "type": "scatterpolar"
           }
          ],
          "scatterpolargl": [
           {
            "marker": {
             "colorbar": {
              "outlinewidth": 0,
              "ticks": ""
             }
            },
            "type": "scatterpolargl"
           }
          ],
          "scatterternary": [
           {
            "marker": {
             "colorbar": {
              "outlinewidth": 0,
              "ticks": ""
             }
            },
            "type": "scatterternary"
           }
          ],
          "surface": [
           {
            "colorbar": {
             "outlinewidth": 0,
             "ticks": ""
            },
            "colorscale": [
             [
              0,
              "#0d0887"
             ],
             [
              0.1111111111111111,
              "#46039f"
             ],
             [
              0.2222222222222222,
              "#7201a8"
             ],
             [
              0.3333333333333333,
              "#9c179e"
             ],
             [
              0.4444444444444444,
              "#bd3786"
             ],
             [
              0.5555555555555556,
              "#d8576b"
             ],
             [
              0.6666666666666666,
              "#ed7953"
             ],
             [
              0.7777777777777778,
              "#fb9f3a"
             ],
             [
              0.8888888888888888,
              "#fdca26"
             ],
             [
              1,
              "#f0f921"
             ]
            ],
            "type": "surface"
           }
          ],
          "table": [
           {
            "cells": {
             "fill": {
              "color": "#EBF0F8"
             },
             "line": {
              "color": "white"
             }
            },
            "header": {
             "fill": {
              "color": "#C8D4E3"
             },
             "line": {
              "color": "white"
             }
            },
            "type": "table"
           }
          ]
         },
         "layout": {
          "annotationdefaults": {
           "arrowcolor": "#2a3f5f",
           "arrowhead": 0,
           "arrowwidth": 1
          },
          "coloraxis": {
           "colorbar": {
            "outlinewidth": 0,
            "ticks": ""
           }
          },
          "colorscale": {
           "diverging": [
            [
             0,
             "#8e0152"
            ],
            [
             0.1,
             "#c51b7d"
            ],
            [
             0.2,
             "#de77ae"
            ],
            [
             0.3,
             "#f1b6da"
            ],
            [
             0.4,
             "#fde0ef"
            ],
            [
             0.5,
             "#f7f7f7"
            ],
            [
             0.6,
             "#e6f5d0"
            ],
            [
             0.7,
             "#b8e186"
            ],
            [
             0.8,
             "#7fbc41"
            ],
            [
             0.9,
             "#4d9221"
            ],
            [
             1,
             "#276419"
            ]
           ],
           "sequential": [
            [
             0,
             "#0d0887"
            ],
            [
             0.1111111111111111,
             "#46039f"
            ],
            [
             0.2222222222222222,
             "#7201a8"
            ],
            [
             0.3333333333333333,
             "#9c179e"
            ],
            [
             0.4444444444444444,
             "#bd3786"
            ],
            [
             0.5555555555555556,
             "#d8576b"
            ],
            [
             0.6666666666666666,
             "#ed7953"
            ],
            [
             0.7777777777777778,
             "#fb9f3a"
            ],
            [
             0.8888888888888888,
             "#fdca26"
            ],
            [
             1,
             "#f0f921"
            ]
           ],
           "sequentialminus": [
            [
             0,
             "#0d0887"
            ],
            [
             0.1111111111111111,
             "#46039f"
            ],
            [
             0.2222222222222222,
             "#7201a8"
            ],
            [
             0.3333333333333333,
             "#9c179e"
            ],
            [
             0.4444444444444444,
             "#bd3786"
            ],
            [
             0.5555555555555556,
             "#d8576b"
            ],
            [
             0.6666666666666666,
             "#ed7953"
            ],
            [
             0.7777777777777778,
             "#fb9f3a"
            ],
            [
             0.8888888888888888,
             "#fdca26"
            ],
            [
             1,
             "#f0f921"
            ]
           ]
          },
          "colorway": [
           "#636efa",
           "#EF553B",
           "#00cc96",
           "#ab63fa",
           "#FFA15A",
           "#19d3f3",
           "#FF6692",
           "#B6E880",
           "#FF97FF",
           "#FECB52"
          ],
          "font": {
           "color": "#2a3f5f"
          },
          "geo": {
           "bgcolor": "white",
           "lakecolor": "white",
           "landcolor": "#E5ECF6",
           "showlakes": true,
           "showland": true,
           "subunitcolor": "white"
          },
          "hoverlabel": {
           "align": "left"
          },
          "hovermode": "closest",
          "mapbox": {
           "style": "light"
          },
          "paper_bgcolor": "white",
          "plot_bgcolor": "#E5ECF6",
          "polar": {
           "angularaxis": {
            "gridcolor": "white",
            "linecolor": "white",
            "ticks": ""
           },
           "bgcolor": "#E5ECF6",
           "radialaxis": {
            "gridcolor": "white",
            "linecolor": "white",
            "ticks": ""
           }
          },
          "scene": {
           "xaxis": {
            "backgroundcolor": "#E5ECF6",
            "gridcolor": "white",
            "gridwidth": 2,
            "linecolor": "white",
            "showbackground": true,
            "ticks": "",
            "zerolinecolor": "white"
           },
           "yaxis": {
            "backgroundcolor": "#E5ECF6",
            "gridcolor": "white",
            "gridwidth": 2,
            "linecolor": "white",
            "showbackground": true,
            "ticks": "",
            "zerolinecolor": "white"
           },
           "zaxis": {
            "backgroundcolor": "#E5ECF6",
            "gridcolor": "white",
            "gridwidth": 2,
            "linecolor": "white",
            "showbackground": true,
            "ticks": "",
            "zerolinecolor": "white"
           }
          },
          "shapedefaults": {
           "line": {
            "color": "#2a3f5f"
           }
          },
          "ternary": {
           "aaxis": {
            "gridcolor": "white",
            "linecolor": "white",
            "ticks": ""
           },
           "baxis": {
            "gridcolor": "white",
            "linecolor": "white",
            "ticks": ""
           },
           "bgcolor": "#E5ECF6",
           "caxis": {
            "gridcolor": "white",
            "linecolor": "white",
            "ticks": ""
           }
          },
          "title": {
           "x": 0.05
          },
          "xaxis": {
           "automargin": true,
           "gridcolor": "white",
           "linecolor": "white",
           "ticks": "",
           "title": {
            "standoff": 15
           },
           "zerolinecolor": "white",
           "zerolinewidth": 2
          },
          "yaxis": {
           "automargin": true,
           "gridcolor": "white",
           "linecolor": "white",
           "ticks": "",
           "title": {
            "standoff": 15
           },
           "zerolinecolor": "white",
           "zerolinewidth": 2
          }
         }
        },
        "title": {
         "text": "Répartition des articles par catégorie",
         "x": 0.5,
         "xanchor": "center",
         "y": 0.9,
         "yanchor": "top"
        },
        "width": 800,
        "xaxis": {
         "title": {
          "text": "Nom de la categorie"
         }
        },
        "yaxis": {
         "title": {
          "text": "Nombre d'articles"
         }
        }
       }
      },
      "text/html": [
       "<div>\n",
       "        \n",
       "        \n",
       "            <div id=\"b7d8dfb8-20df-4942-ba3e-56fbffba4649\" class=\"plotly-graph-div\" style=\"height:700px; width:800px;\"></div>\n",
       "            <script type=\"text/javascript\">\n",
       "                require([\"plotly\"], function(Plotly) {\n",
       "                    window.PLOTLYENV=window.PLOTLYENV || {};\n",
       "                    \n",
       "                if (document.getElementById(\"b7d8dfb8-20df-4942-ba3e-56fbffba4649\")) {\n",
       "                    Plotly.newPlot(\n",
       "                        'b7d8dfb8-20df-4942-ba3e-56fbffba4649',\n",
       "                        [{\"type\": \"bar\", \"x\": [\"clinique\", \"biologie\", \"covid-et-pathologies-chroniques\", \"epidemiologie-et-sante-publique\", \"covid-et-grossesse\", \"therapeutique\", \"covid-et-pediatrie\", \"bloc-operatoire\", \"vih\", \"virologie-reponse-immunitaire\", \"psychiatrie\", \"imagerie\", \"serologie\", \"transfusion\", \"virologie\", \"covid-et-encologie\", \"pharmacologie\", \"gastroenterologie\", \"echantillons-biologiques\", \"gerontologie\", \"reanimation\", \"dietetique\", \"depistage\", \"greffe\", \"telemedecine\", \"neurologie\", \"precarite\", \"radiologie\"], \"y\": [9, 9, 8, 7, 7, 7, 6, 5, 5, 4, 4, 3, 3, 3, 2, 2, 2, 2, 1, 1, 1, 1, 1, 1, 1, 1, 1, 1]}],\n",
       "                        {\"height\": 700, \"template\": {\"data\": {\"bar\": [{\"error_x\": {\"color\": \"#2a3f5f\"}, \"error_y\": {\"color\": \"#2a3f5f\"}, \"marker\": {\"line\": {\"color\": \"#E5ECF6\", \"width\": 0.5}}, \"type\": \"bar\"}], \"barpolar\": [{\"marker\": {\"line\": {\"color\": \"#E5ECF6\", \"width\": 0.5}}, \"type\": \"barpolar\"}], \"carpet\": [{\"aaxis\": {\"endlinecolor\": \"#2a3f5f\", \"gridcolor\": \"white\", \"linecolor\": \"white\", \"minorgridcolor\": \"white\", \"startlinecolor\": \"#2a3f5f\"}, \"baxis\": {\"endlinecolor\": \"#2a3f5f\", \"gridcolor\": \"white\", \"linecolor\": \"white\", \"minorgridcolor\": \"white\", \"startlinecolor\": \"#2a3f5f\"}, \"type\": \"carpet\"}], \"choropleth\": [{\"colorbar\": {\"outlinewidth\": 0, \"ticks\": \"\"}, \"type\": \"choropleth\"}], \"contour\": [{\"colorbar\": {\"outlinewidth\": 0, \"ticks\": \"\"}, \"colorscale\": [[0.0, \"#0d0887\"], [0.1111111111111111, \"#46039f\"], [0.2222222222222222, \"#7201a8\"], [0.3333333333333333, \"#9c179e\"], [0.4444444444444444, \"#bd3786\"], [0.5555555555555556, \"#d8576b\"], [0.6666666666666666, \"#ed7953\"], [0.7777777777777778, \"#fb9f3a\"], [0.8888888888888888, \"#fdca26\"], [1.0, \"#f0f921\"]], \"type\": \"contour\"}], \"contourcarpet\": [{\"colorbar\": {\"outlinewidth\": 0, \"ticks\": \"\"}, \"type\": \"contourcarpet\"}], \"heatmap\": [{\"colorbar\": {\"outlinewidth\": 0, \"ticks\": \"\"}, \"colorscale\": [[0.0, \"#0d0887\"], [0.1111111111111111, \"#46039f\"], [0.2222222222222222, \"#7201a8\"], [0.3333333333333333, \"#9c179e\"], [0.4444444444444444, \"#bd3786\"], [0.5555555555555556, \"#d8576b\"], [0.6666666666666666, \"#ed7953\"], [0.7777777777777778, \"#fb9f3a\"], [0.8888888888888888, \"#fdca26\"], [1.0, \"#f0f921\"]], \"type\": \"heatmap\"}], \"heatmapgl\": [{\"colorbar\": {\"outlinewidth\": 0, \"ticks\": \"\"}, \"colorscale\": [[0.0, \"#0d0887\"], [0.1111111111111111, \"#46039f\"], [0.2222222222222222, \"#7201a8\"], [0.3333333333333333, \"#9c179e\"], [0.4444444444444444, \"#bd3786\"], [0.5555555555555556, \"#d8576b\"], [0.6666666666666666, \"#ed7953\"], [0.7777777777777778, \"#fb9f3a\"], [0.8888888888888888, \"#fdca26\"], [1.0, \"#f0f921\"]], \"type\": \"heatmapgl\"}], \"histogram\": [{\"marker\": {\"colorbar\": {\"outlinewidth\": 0, \"ticks\": \"\"}}, \"type\": \"histogram\"}], \"histogram2d\": [{\"colorbar\": {\"outlinewidth\": 0, \"ticks\": \"\"}, \"colorscale\": [[0.0, \"#0d0887\"], [0.1111111111111111, \"#46039f\"], [0.2222222222222222, \"#7201a8\"], [0.3333333333333333, \"#9c179e\"], [0.4444444444444444, \"#bd3786\"], [0.5555555555555556, \"#d8576b\"], [0.6666666666666666, \"#ed7953\"], [0.7777777777777778, \"#fb9f3a\"], [0.8888888888888888, \"#fdca26\"], [1.0, \"#f0f921\"]], \"type\": \"histogram2d\"}], \"histogram2dcontour\": [{\"colorbar\": {\"outlinewidth\": 0, \"ticks\": \"\"}, \"colorscale\": [[0.0, \"#0d0887\"], [0.1111111111111111, \"#46039f\"], [0.2222222222222222, \"#7201a8\"], [0.3333333333333333, \"#9c179e\"], [0.4444444444444444, \"#bd3786\"], [0.5555555555555556, \"#d8576b\"], [0.6666666666666666, \"#ed7953\"], [0.7777777777777778, \"#fb9f3a\"], [0.8888888888888888, \"#fdca26\"], [1.0, \"#f0f921\"]], \"type\": \"histogram2dcontour\"}], \"mesh3d\": [{\"colorbar\": {\"outlinewidth\": 0, \"ticks\": \"\"}, \"type\": \"mesh3d\"}], \"parcoords\": [{\"line\": {\"colorbar\": {\"outlinewidth\": 0, \"ticks\": \"\"}}, \"type\": \"parcoords\"}], \"pie\": [{\"automargin\": true, \"type\": \"pie\"}], \"scatter\": [{\"marker\": {\"colorbar\": {\"outlinewidth\": 0, \"ticks\": \"\"}}, \"type\": \"scatter\"}], \"scatter3d\": [{\"line\": {\"colorbar\": {\"outlinewidth\": 0, \"ticks\": \"\"}}, \"marker\": {\"colorbar\": {\"outlinewidth\": 0, \"ticks\": \"\"}}, \"type\": \"scatter3d\"}], \"scattercarpet\": [{\"marker\": {\"colorbar\": {\"outlinewidth\": 0, \"ticks\": \"\"}}, \"type\": \"scattercarpet\"}], \"scattergeo\": [{\"marker\": {\"colorbar\": {\"outlinewidth\": 0, \"ticks\": \"\"}}, \"type\": \"scattergeo\"}], \"scattergl\": [{\"marker\": {\"colorbar\": {\"outlinewidth\": 0, \"ticks\": \"\"}}, \"type\": \"scattergl\"}], \"scattermapbox\": [{\"marker\": {\"colorbar\": {\"outlinewidth\": 0, \"ticks\": \"\"}}, \"type\": \"scattermapbox\"}], \"scatterpolar\": [{\"marker\": {\"colorbar\": {\"outlinewidth\": 0, \"ticks\": \"\"}}, \"type\": \"scatterpolar\"}], \"scatterpolargl\": [{\"marker\": {\"colorbar\": {\"outlinewidth\": 0, \"ticks\": \"\"}}, \"type\": \"scatterpolargl\"}], \"scatterternary\": [{\"marker\": {\"colorbar\": {\"outlinewidth\": 0, \"ticks\": \"\"}}, \"type\": \"scatterternary\"}], \"surface\": [{\"colorbar\": {\"outlinewidth\": 0, \"ticks\": \"\"}, \"colorscale\": [[0.0, \"#0d0887\"], [0.1111111111111111, \"#46039f\"], [0.2222222222222222, \"#7201a8\"], [0.3333333333333333, \"#9c179e\"], [0.4444444444444444, \"#bd3786\"], [0.5555555555555556, \"#d8576b\"], [0.6666666666666666, \"#ed7953\"], [0.7777777777777778, \"#fb9f3a\"], [0.8888888888888888, \"#fdca26\"], [1.0, \"#f0f921\"]], \"type\": \"surface\"}], \"table\": [{\"cells\": {\"fill\": {\"color\": \"#EBF0F8\"}, \"line\": {\"color\": \"white\"}}, \"header\": {\"fill\": {\"color\": \"#C8D4E3\"}, \"line\": {\"color\": \"white\"}}, \"type\": \"table\"}]}, \"layout\": {\"annotationdefaults\": {\"arrowcolor\": \"#2a3f5f\", \"arrowhead\": 0, \"arrowwidth\": 1}, \"coloraxis\": {\"colorbar\": {\"outlinewidth\": 0, \"ticks\": \"\"}}, \"colorscale\": {\"diverging\": [[0, \"#8e0152\"], [0.1, \"#c51b7d\"], [0.2, \"#de77ae\"], [0.3, \"#f1b6da\"], [0.4, \"#fde0ef\"], [0.5, \"#f7f7f7\"], [0.6, \"#e6f5d0\"], [0.7, \"#b8e186\"], [0.8, \"#7fbc41\"], [0.9, \"#4d9221\"], [1, \"#276419\"]], \"sequential\": [[0.0, \"#0d0887\"], [0.1111111111111111, \"#46039f\"], [0.2222222222222222, \"#7201a8\"], [0.3333333333333333, \"#9c179e\"], [0.4444444444444444, \"#bd3786\"], [0.5555555555555556, \"#d8576b\"], [0.6666666666666666, \"#ed7953\"], [0.7777777777777778, \"#fb9f3a\"], [0.8888888888888888, \"#fdca26\"], [1.0, \"#f0f921\"]], \"sequentialminus\": [[0.0, \"#0d0887\"], [0.1111111111111111, \"#46039f\"], [0.2222222222222222, \"#7201a8\"], [0.3333333333333333, \"#9c179e\"], [0.4444444444444444, \"#bd3786\"], [0.5555555555555556, \"#d8576b\"], [0.6666666666666666, \"#ed7953\"], [0.7777777777777778, \"#fb9f3a\"], [0.8888888888888888, \"#fdca26\"], [1.0, \"#f0f921\"]]}, \"colorway\": [\"#636efa\", \"#EF553B\", \"#00cc96\", \"#ab63fa\", \"#FFA15A\", \"#19d3f3\", \"#FF6692\", \"#B6E880\", \"#FF97FF\", \"#FECB52\"], \"font\": {\"color\": \"#2a3f5f\"}, \"geo\": {\"bgcolor\": \"white\", \"lakecolor\": \"white\", \"landcolor\": \"#E5ECF6\", \"showlakes\": true, \"showland\": true, \"subunitcolor\": \"white\"}, \"hoverlabel\": {\"align\": \"left\"}, \"hovermode\": \"closest\", \"mapbox\": {\"style\": \"light\"}, \"paper_bgcolor\": \"white\", \"plot_bgcolor\": \"#E5ECF6\", \"polar\": {\"angularaxis\": {\"gridcolor\": \"white\", \"linecolor\": \"white\", \"ticks\": \"\"}, \"bgcolor\": \"#E5ECF6\", \"radialaxis\": {\"gridcolor\": \"white\", \"linecolor\": \"white\", \"ticks\": \"\"}}, \"scene\": {\"xaxis\": {\"backgroundcolor\": \"#E5ECF6\", \"gridcolor\": \"white\", \"gridwidth\": 2, \"linecolor\": \"white\", \"showbackground\": true, \"ticks\": \"\", \"zerolinecolor\": \"white\"}, \"yaxis\": {\"backgroundcolor\": \"#E5ECF6\", \"gridcolor\": \"white\", \"gridwidth\": 2, \"linecolor\": \"white\", \"showbackground\": true, \"ticks\": \"\", \"zerolinecolor\": \"white\"}, \"zaxis\": {\"backgroundcolor\": \"#E5ECF6\", \"gridcolor\": \"white\", \"gridwidth\": 2, \"linecolor\": \"white\", \"showbackground\": true, \"ticks\": \"\", \"zerolinecolor\": \"white\"}}, \"shapedefaults\": {\"line\": {\"color\": \"#2a3f5f\"}}, \"ternary\": {\"aaxis\": {\"gridcolor\": \"white\", \"linecolor\": \"white\", \"ticks\": \"\"}, \"baxis\": {\"gridcolor\": \"white\", \"linecolor\": \"white\", \"ticks\": \"\"}, \"bgcolor\": \"#E5ECF6\", \"caxis\": {\"gridcolor\": \"white\", \"linecolor\": \"white\", \"ticks\": \"\"}}, \"title\": {\"x\": 0.05}, \"xaxis\": {\"automargin\": true, \"gridcolor\": \"white\", \"linecolor\": \"white\", \"ticks\": \"\", \"title\": {\"standoff\": 15}, \"zerolinecolor\": \"white\", \"zerolinewidth\": 2}, \"yaxis\": {\"automargin\": true, \"gridcolor\": \"white\", \"linecolor\": \"white\", \"ticks\": \"\", \"title\": {\"standoff\": 15}, \"zerolinecolor\": \"white\", \"zerolinewidth\": 2}}}, \"title\": {\"text\": \"R\\u00e9partition des articles par cat\\u00e9gorie\", \"x\": 0.5, \"xanchor\": \"center\", \"y\": 0.9, \"yanchor\": \"top\"}, \"width\": 800, \"xaxis\": {\"title\": {\"text\": \"Nom de la categorie\"}}, \"yaxis\": {\"title\": {\"text\": \"Nombre d'articles\"}}},\n",
       "                        {\"responsive\": true}\n",
       "                    ).then(function(){\n",
       "                            \n",
       "var gd = document.getElementById('b7d8dfb8-20df-4942-ba3e-56fbffba4649');\n",
       "var x = new MutationObserver(function (mutations, observer) {{\n",
       "        var display = window.getComputedStyle(gd).display;\n",
       "        if (!display || display === 'none') {{\n",
       "            console.log([gd, 'removed!']);\n",
       "            Plotly.purge(gd);\n",
       "            observer.disconnect();\n",
       "        }}\n",
       "}});\n",
       "\n",
       "// Listen for the removal of the full notebook cells\n",
       "var notebookContainer = gd.closest('#notebook-container');\n",
       "if (notebookContainer) {{\n",
       "    x.observe(notebookContainer, {childList: true});\n",
       "}}\n",
       "\n",
       "// Listen for the clearing of the current output cell\n",
       "var outputEl = gd.closest('.output');\n",
       "if (outputEl) {{\n",
       "    x.observe(outputEl, {childList: true});\n",
       "}}\n",
       "\n",
       "                        })\n",
       "                };\n",
       "                });\n",
       "            </script>\n",
       "        </div>"
      ]
     },
     "metadata": {},
     "output_type": "display_data"
    }
   ],
   "source": [
    "fig = go.Figure([go.Bar(x=data_propre[\"Category\"].value_counts().index, y=data_propre[\"Category\"].value_counts().values)])\n",
    "\n",
    "fig['layout'].update(title={\"text\" : 'Répartition des articles par catégorie','y':0.9,'x':0.5,'xanchor': 'center','yanchor': 'top'}, xaxis_title=\"Nom de la categorie\",yaxis_title=\"Nombre d'articles\")\n",
    "\n",
    "fig.update_layout(width=800,height=700)\n",
    "\n",
    "fig"
   ]
  },
  {
   "cell_type": "markdown",
   "metadata": {},
   "source": [
    "## Nombre d'articles par mois"
   ]
  },
  {
   "cell_type": "code",
   "execution_count": 25,
   "metadata": {},
   "outputs": [
    {
     "data": {
      "text/plain": [
       "Date\n",
       "2020-03-31    17\n",
       "2020-04-30    50\n",
       "2020-05-31    25\n",
       "2020-06-30     6\n",
       "Freq: M, Name: Title, dtype: int64"
      ]
     },
     "execution_count": 25,
     "metadata": {},
     "output_type": "execute_result"
    }
   ],
   "source": [
    "data_propre_mois = data_propre.resample('m',on = 'Date')['Title'].count()\n",
    "data_propre_mois"
   ]
  },
  {
   "cell_type": "code",
   "execution_count": 26,
   "metadata": {},
   "outputs": [
    {
     "data": {
      "application/vnd.plotly.v1+json": {
       "config": {
        "plotlyServerURL": "https://plot.ly"
       },
       "data": [
        {
         "type": "bar",
         "x": [
          "Mar",
          "Apr",
          "May",
          "Jun"
         ],
         "y": [
          17,
          50,
          25,
          6
         ]
        }
       ],
       "layout": {
        "height": 500,
        "template": {
         "data": {
          "bar": [
           {
            "error_x": {
             "color": "#2a3f5f"
            },
            "error_y": {
             "color": "#2a3f5f"
            },
            "marker": {
             "line": {
              "color": "#E5ECF6",
              "width": 0.5
             }
            },
            "type": "bar"
           }
          ],
          "barpolar": [
           {
            "marker": {
             "line": {
              "color": "#E5ECF6",
              "width": 0.5
             }
            },
            "type": "barpolar"
           }
          ],
          "carpet": [
           {
            "aaxis": {
             "endlinecolor": "#2a3f5f",
             "gridcolor": "white",
             "linecolor": "white",
             "minorgridcolor": "white",
             "startlinecolor": "#2a3f5f"
            },
            "baxis": {
             "endlinecolor": "#2a3f5f",
             "gridcolor": "white",
             "linecolor": "white",
             "minorgridcolor": "white",
             "startlinecolor": "#2a3f5f"
            },
            "type": "carpet"
           }
          ],
          "choropleth": [
           {
            "colorbar": {
             "outlinewidth": 0,
             "ticks": ""
            },
            "type": "choropleth"
           }
          ],
          "contour": [
           {
            "colorbar": {
             "outlinewidth": 0,
             "ticks": ""
            },
            "colorscale": [
             [
              0,
              "#0d0887"
             ],
             [
              0.1111111111111111,
              "#46039f"
             ],
             [
              0.2222222222222222,
              "#7201a8"
             ],
             [
              0.3333333333333333,
              "#9c179e"
             ],
             [
              0.4444444444444444,
              "#bd3786"
             ],
             [
              0.5555555555555556,
              "#d8576b"
             ],
             [
              0.6666666666666666,
              "#ed7953"
             ],
             [
              0.7777777777777778,
              "#fb9f3a"
             ],
             [
              0.8888888888888888,
              "#fdca26"
             ],
             [
              1,
              "#f0f921"
             ]
            ],
            "type": "contour"
           }
          ],
          "contourcarpet": [
           {
            "colorbar": {
             "outlinewidth": 0,
             "ticks": ""
            },
            "type": "contourcarpet"
           }
          ],
          "heatmap": [
           {
            "colorbar": {
             "outlinewidth": 0,
             "ticks": ""
            },
            "colorscale": [
             [
              0,
              "#0d0887"
             ],
             [
              0.1111111111111111,
              "#46039f"
             ],
             [
              0.2222222222222222,
              "#7201a8"
             ],
             [
              0.3333333333333333,
              "#9c179e"
             ],
             [
              0.4444444444444444,
              "#bd3786"
             ],
             [
              0.5555555555555556,
              "#d8576b"
             ],
             [
              0.6666666666666666,
              "#ed7953"
             ],
             [
              0.7777777777777778,
              "#fb9f3a"
             ],
             [
              0.8888888888888888,
              "#fdca26"
             ],
             [
              1,
              "#f0f921"
             ]
            ],
            "type": "heatmap"
           }
          ],
          "heatmapgl": [
           {
            "colorbar": {
             "outlinewidth": 0,
             "ticks": ""
            },
            "colorscale": [
             [
              0,
              "#0d0887"
             ],
             [
              0.1111111111111111,
              "#46039f"
             ],
             [
              0.2222222222222222,
              "#7201a8"
             ],
             [
              0.3333333333333333,
              "#9c179e"
             ],
             [
              0.4444444444444444,
              "#bd3786"
             ],
             [
              0.5555555555555556,
              "#d8576b"
             ],
             [
              0.6666666666666666,
              "#ed7953"
             ],
             [
              0.7777777777777778,
              "#fb9f3a"
             ],
             [
              0.8888888888888888,
              "#fdca26"
             ],
             [
              1,
              "#f0f921"
             ]
            ],
            "type": "heatmapgl"
           }
          ],
          "histogram": [
           {
            "marker": {
             "colorbar": {
              "outlinewidth": 0,
              "ticks": ""
             }
            },
            "type": "histogram"
           }
          ],
          "histogram2d": [
           {
            "colorbar": {
             "outlinewidth": 0,
             "ticks": ""
            },
            "colorscale": [
             [
              0,
              "#0d0887"
             ],
             [
              0.1111111111111111,
              "#46039f"
             ],
             [
              0.2222222222222222,
              "#7201a8"
             ],
             [
              0.3333333333333333,
              "#9c179e"
             ],
             [
              0.4444444444444444,
              "#bd3786"
             ],
             [
              0.5555555555555556,
              "#d8576b"
             ],
             [
              0.6666666666666666,
              "#ed7953"
             ],
             [
              0.7777777777777778,
              "#fb9f3a"
             ],
             [
              0.8888888888888888,
              "#fdca26"
             ],
             [
              1,
              "#f0f921"
             ]
            ],
            "type": "histogram2d"
           }
          ],
          "histogram2dcontour": [
           {
            "colorbar": {
             "outlinewidth": 0,
             "ticks": ""
            },
            "colorscale": [
             [
              0,
              "#0d0887"
             ],
             [
              0.1111111111111111,
              "#46039f"
             ],
             [
              0.2222222222222222,
              "#7201a8"
             ],
             [
              0.3333333333333333,
              "#9c179e"
             ],
             [
              0.4444444444444444,
              "#bd3786"
             ],
             [
              0.5555555555555556,
              "#d8576b"
             ],
             [
              0.6666666666666666,
              "#ed7953"
             ],
             [
              0.7777777777777778,
              "#fb9f3a"
             ],
             [
              0.8888888888888888,
              "#fdca26"
             ],
             [
              1,
              "#f0f921"
             ]
            ],
            "type": "histogram2dcontour"
           }
          ],
          "mesh3d": [
           {
            "colorbar": {
             "outlinewidth": 0,
             "ticks": ""
            },
            "type": "mesh3d"
           }
          ],
          "parcoords": [
           {
            "line": {
             "colorbar": {
              "outlinewidth": 0,
              "ticks": ""
             }
            },
            "type": "parcoords"
           }
          ],
          "pie": [
           {
            "automargin": true,
            "type": "pie"
           }
          ],
          "scatter": [
           {
            "marker": {
             "colorbar": {
              "outlinewidth": 0,
              "ticks": ""
             }
            },
            "type": "scatter"
           }
          ],
          "scatter3d": [
           {
            "line": {
             "colorbar": {
              "outlinewidth": 0,
              "ticks": ""
             }
            },
            "marker": {
             "colorbar": {
              "outlinewidth": 0,
              "ticks": ""
             }
            },
            "type": "scatter3d"
           }
          ],
          "scattercarpet": [
           {
            "marker": {
             "colorbar": {
              "outlinewidth": 0,
              "ticks": ""
             }
            },
            "type": "scattercarpet"
           }
          ],
          "scattergeo": [
           {
            "marker": {
             "colorbar": {
              "outlinewidth": 0,
              "ticks": ""
             }
            },
            "type": "scattergeo"
           }
          ],
          "scattergl": [
           {
            "marker": {
             "colorbar": {
              "outlinewidth": 0,
              "ticks": ""
             }
            },
            "type": "scattergl"
           }
          ],
          "scattermapbox": [
           {
            "marker": {
             "colorbar": {
              "outlinewidth": 0,
              "ticks": ""
             }
            },
            "type": "scattermapbox"
           }
          ],
          "scatterpolar": [
           {
            "marker": {
             "colorbar": {
              "outlinewidth": 0,
              "ticks": ""
             }
            },
            "type": "scatterpolar"
           }
          ],
          "scatterpolargl": [
           {
            "marker": {
             "colorbar": {
              "outlinewidth": 0,
              "ticks": ""
             }
            },
            "type": "scatterpolargl"
           }
          ],
          "scatterternary": [
           {
            "marker": {
             "colorbar": {
              "outlinewidth": 0,
              "ticks": ""
             }
            },
            "type": "scatterternary"
           }
          ],
          "surface": [
           {
            "colorbar": {
             "outlinewidth": 0,
             "ticks": ""
            },
            "colorscale": [
             [
              0,
              "#0d0887"
             ],
             [
              0.1111111111111111,
              "#46039f"
             ],
             [
              0.2222222222222222,
              "#7201a8"
             ],
             [
              0.3333333333333333,
              "#9c179e"
             ],
             [
              0.4444444444444444,
              "#bd3786"
             ],
             [
              0.5555555555555556,
              "#d8576b"
             ],
             [
              0.6666666666666666,
              "#ed7953"
             ],
             [
              0.7777777777777778,
              "#fb9f3a"
             ],
             [
              0.8888888888888888,
              "#fdca26"
             ],
             [
              1,
              "#f0f921"
             ]
            ],
            "type": "surface"
           }
          ],
          "table": [
           {
            "cells": {
             "fill": {
              "color": "#EBF0F8"
             },
             "line": {
              "color": "white"
             }
            },
            "header": {
             "fill": {
              "color": "#C8D4E3"
             },
             "line": {
              "color": "white"
             }
            },
            "type": "table"
           }
          ]
         },
         "layout": {
          "annotationdefaults": {
           "arrowcolor": "#2a3f5f",
           "arrowhead": 0,
           "arrowwidth": 1
          },
          "coloraxis": {
           "colorbar": {
            "outlinewidth": 0,
            "ticks": ""
           }
          },
          "colorscale": {
           "diverging": [
            [
             0,
             "#8e0152"
            ],
            [
             0.1,
             "#c51b7d"
            ],
            [
             0.2,
             "#de77ae"
            ],
            [
             0.3,
             "#f1b6da"
            ],
            [
             0.4,
             "#fde0ef"
            ],
            [
             0.5,
             "#f7f7f7"
            ],
            [
             0.6,
             "#e6f5d0"
            ],
            [
             0.7,
             "#b8e186"
            ],
            [
             0.8,
             "#7fbc41"
            ],
            [
             0.9,
             "#4d9221"
            ],
            [
             1,
             "#276419"
            ]
           ],
           "sequential": [
            [
             0,
             "#0d0887"
            ],
            [
             0.1111111111111111,
             "#46039f"
            ],
            [
             0.2222222222222222,
             "#7201a8"
            ],
            [
             0.3333333333333333,
             "#9c179e"
            ],
            [
             0.4444444444444444,
             "#bd3786"
            ],
            [
             0.5555555555555556,
             "#d8576b"
            ],
            [
             0.6666666666666666,
             "#ed7953"
            ],
            [
             0.7777777777777778,
             "#fb9f3a"
            ],
            [
             0.8888888888888888,
             "#fdca26"
            ],
            [
             1,
             "#f0f921"
            ]
           ],
           "sequentialminus": [
            [
             0,
             "#0d0887"
            ],
            [
             0.1111111111111111,
             "#46039f"
            ],
            [
             0.2222222222222222,
             "#7201a8"
            ],
            [
             0.3333333333333333,
             "#9c179e"
            ],
            [
             0.4444444444444444,
             "#bd3786"
            ],
            [
             0.5555555555555556,
             "#d8576b"
            ],
            [
             0.6666666666666666,
             "#ed7953"
            ],
            [
             0.7777777777777778,
             "#fb9f3a"
            ],
            [
             0.8888888888888888,
             "#fdca26"
            ],
            [
             1,
             "#f0f921"
            ]
           ]
          },
          "colorway": [
           "#636efa",
           "#EF553B",
           "#00cc96",
           "#ab63fa",
           "#FFA15A",
           "#19d3f3",
           "#FF6692",
           "#B6E880",
           "#FF97FF",
           "#FECB52"
          ],
          "font": {
           "color": "#2a3f5f"
          },
          "geo": {
           "bgcolor": "white",
           "lakecolor": "white",
           "landcolor": "#E5ECF6",
           "showlakes": true,
           "showland": true,
           "subunitcolor": "white"
          },
          "hoverlabel": {
           "align": "left"
          },
          "hovermode": "closest",
          "mapbox": {
           "style": "light"
          },
          "paper_bgcolor": "white",
          "plot_bgcolor": "#E5ECF6",
          "polar": {
           "angularaxis": {
            "gridcolor": "white",
            "linecolor": "white",
            "ticks": ""
           },
           "bgcolor": "#E5ECF6",
           "radialaxis": {
            "gridcolor": "white",
            "linecolor": "white",
            "ticks": ""
           }
          },
          "scene": {
           "xaxis": {
            "backgroundcolor": "#E5ECF6",
            "gridcolor": "white",
            "gridwidth": 2,
            "linecolor": "white",
            "showbackground": true,
            "ticks": "",
            "zerolinecolor": "white"
           },
           "yaxis": {
            "backgroundcolor": "#E5ECF6",
            "gridcolor": "white",
            "gridwidth": 2,
            "linecolor": "white",
            "showbackground": true,
            "ticks": "",
            "zerolinecolor": "white"
           },
           "zaxis": {
            "backgroundcolor": "#E5ECF6",
            "gridcolor": "white",
            "gridwidth": 2,
            "linecolor": "white",
            "showbackground": true,
            "ticks": "",
            "zerolinecolor": "white"
           }
          },
          "shapedefaults": {
           "line": {
            "color": "#2a3f5f"
           }
          },
          "ternary": {
           "aaxis": {
            "gridcolor": "white",
            "linecolor": "white",
            "ticks": ""
           },
           "baxis": {
            "gridcolor": "white",
            "linecolor": "white",
            "ticks": ""
           },
           "bgcolor": "#E5ECF6",
           "caxis": {
            "gridcolor": "white",
            "linecolor": "white",
            "ticks": ""
           }
          },
          "title": {
           "x": 0.05
          },
          "xaxis": {
           "automargin": true,
           "gridcolor": "white",
           "linecolor": "white",
           "ticks": "",
           "title": {
            "standoff": 15
           },
           "zerolinecolor": "white",
           "zerolinewidth": 2
          },
          "yaxis": {
           "automargin": true,
           "gridcolor": "white",
           "linecolor": "white",
           "ticks": "",
           "title": {
            "standoff": 15
           },
           "zerolinecolor": "white",
           "zerolinewidth": 2
          }
         }
        },
        "title": {
         "text": "Répartition des articles par mois",
         "x": 0.5,
         "xanchor": "center",
         "y": 0.9,
         "yanchor": "top"
        },
        "width": 500,
        "xaxis": {
         "title": {
          "text": "Moid"
         }
        },
        "yaxis": {
         "title": {
          "text": "Nombre d'articles"
         }
        }
       }
      },
      "text/html": [
       "<div>\n",
       "        \n",
       "        \n",
       "            <div id=\"acfbaa71-b5af-499b-8f85-f5668b6e823c\" class=\"plotly-graph-div\" style=\"height:500px; width:500px;\"></div>\n",
       "            <script type=\"text/javascript\">\n",
       "                require([\"plotly\"], function(Plotly) {\n",
       "                    window.PLOTLYENV=window.PLOTLYENV || {};\n",
       "                    \n",
       "                if (document.getElementById(\"acfbaa71-b5af-499b-8f85-f5668b6e823c\")) {\n",
       "                    Plotly.newPlot(\n",
       "                        'acfbaa71-b5af-499b-8f85-f5668b6e823c',\n",
       "                        [{\"type\": \"bar\", \"x\": [\"Mar\", \"Apr\", \"May\", \"Jun\"], \"y\": [17, 50, 25, 6]}],\n",
       "                        {\"height\": 500, \"template\": {\"data\": {\"bar\": [{\"error_x\": {\"color\": \"#2a3f5f\"}, \"error_y\": {\"color\": \"#2a3f5f\"}, \"marker\": {\"line\": {\"color\": \"#E5ECF6\", \"width\": 0.5}}, \"type\": \"bar\"}], \"barpolar\": [{\"marker\": {\"line\": {\"color\": \"#E5ECF6\", \"width\": 0.5}}, \"type\": \"barpolar\"}], \"carpet\": [{\"aaxis\": {\"endlinecolor\": \"#2a3f5f\", \"gridcolor\": \"white\", \"linecolor\": \"white\", \"minorgridcolor\": \"white\", \"startlinecolor\": \"#2a3f5f\"}, \"baxis\": {\"endlinecolor\": \"#2a3f5f\", \"gridcolor\": \"white\", \"linecolor\": \"white\", \"minorgridcolor\": \"white\", \"startlinecolor\": \"#2a3f5f\"}, \"type\": \"carpet\"}], \"choropleth\": [{\"colorbar\": {\"outlinewidth\": 0, \"ticks\": \"\"}, \"type\": \"choropleth\"}], \"contour\": [{\"colorbar\": {\"outlinewidth\": 0, \"ticks\": \"\"}, \"colorscale\": [[0.0, \"#0d0887\"], [0.1111111111111111, \"#46039f\"], [0.2222222222222222, \"#7201a8\"], [0.3333333333333333, \"#9c179e\"], [0.4444444444444444, \"#bd3786\"], [0.5555555555555556, \"#d8576b\"], [0.6666666666666666, \"#ed7953\"], [0.7777777777777778, \"#fb9f3a\"], [0.8888888888888888, \"#fdca26\"], [1.0, \"#f0f921\"]], \"type\": \"contour\"}], \"contourcarpet\": [{\"colorbar\": {\"outlinewidth\": 0, \"ticks\": \"\"}, \"type\": \"contourcarpet\"}], \"heatmap\": [{\"colorbar\": {\"outlinewidth\": 0, \"ticks\": \"\"}, \"colorscale\": [[0.0, \"#0d0887\"], [0.1111111111111111, \"#46039f\"], [0.2222222222222222, \"#7201a8\"], [0.3333333333333333, \"#9c179e\"], [0.4444444444444444, \"#bd3786\"], [0.5555555555555556, \"#d8576b\"], [0.6666666666666666, \"#ed7953\"], [0.7777777777777778, \"#fb9f3a\"], [0.8888888888888888, \"#fdca26\"], [1.0, \"#f0f921\"]], \"type\": \"heatmap\"}], \"heatmapgl\": [{\"colorbar\": {\"outlinewidth\": 0, \"ticks\": \"\"}, \"colorscale\": [[0.0, \"#0d0887\"], [0.1111111111111111, \"#46039f\"], [0.2222222222222222, \"#7201a8\"], [0.3333333333333333, \"#9c179e\"], [0.4444444444444444, \"#bd3786\"], [0.5555555555555556, \"#d8576b\"], [0.6666666666666666, \"#ed7953\"], [0.7777777777777778, \"#fb9f3a\"], [0.8888888888888888, \"#fdca26\"], [1.0, \"#f0f921\"]], \"type\": \"heatmapgl\"}], \"histogram\": [{\"marker\": {\"colorbar\": {\"outlinewidth\": 0, \"ticks\": \"\"}}, \"type\": \"histogram\"}], \"histogram2d\": [{\"colorbar\": {\"outlinewidth\": 0, \"ticks\": \"\"}, \"colorscale\": [[0.0, \"#0d0887\"], [0.1111111111111111, \"#46039f\"], [0.2222222222222222, \"#7201a8\"], [0.3333333333333333, \"#9c179e\"], [0.4444444444444444, \"#bd3786\"], [0.5555555555555556, \"#d8576b\"], [0.6666666666666666, \"#ed7953\"], [0.7777777777777778, \"#fb9f3a\"], [0.8888888888888888, \"#fdca26\"], [1.0, \"#f0f921\"]], \"type\": \"histogram2d\"}], \"histogram2dcontour\": [{\"colorbar\": {\"outlinewidth\": 0, \"ticks\": \"\"}, \"colorscale\": [[0.0, \"#0d0887\"], [0.1111111111111111, \"#46039f\"], [0.2222222222222222, \"#7201a8\"], [0.3333333333333333, \"#9c179e\"], [0.4444444444444444, \"#bd3786\"], [0.5555555555555556, \"#d8576b\"], [0.6666666666666666, \"#ed7953\"], [0.7777777777777778, \"#fb9f3a\"], [0.8888888888888888, \"#fdca26\"], [1.0, \"#f0f921\"]], \"type\": \"histogram2dcontour\"}], \"mesh3d\": [{\"colorbar\": {\"outlinewidth\": 0, \"ticks\": \"\"}, \"type\": \"mesh3d\"}], \"parcoords\": [{\"line\": {\"colorbar\": {\"outlinewidth\": 0, \"ticks\": \"\"}}, \"type\": \"parcoords\"}], \"pie\": [{\"automargin\": true, \"type\": \"pie\"}], \"scatter\": [{\"marker\": {\"colorbar\": {\"outlinewidth\": 0, \"ticks\": \"\"}}, \"type\": \"scatter\"}], \"scatter3d\": [{\"line\": {\"colorbar\": {\"outlinewidth\": 0, \"ticks\": \"\"}}, \"marker\": {\"colorbar\": {\"outlinewidth\": 0, \"ticks\": \"\"}}, \"type\": \"scatter3d\"}], \"scattercarpet\": [{\"marker\": {\"colorbar\": {\"outlinewidth\": 0, \"ticks\": \"\"}}, \"type\": \"scattercarpet\"}], \"scattergeo\": [{\"marker\": {\"colorbar\": {\"outlinewidth\": 0, \"ticks\": \"\"}}, \"type\": \"scattergeo\"}], \"scattergl\": [{\"marker\": {\"colorbar\": {\"outlinewidth\": 0, \"ticks\": \"\"}}, \"type\": \"scattergl\"}], \"scattermapbox\": [{\"marker\": {\"colorbar\": {\"outlinewidth\": 0, \"ticks\": \"\"}}, \"type\": \"scattermapbox\"}], \"scatterpolar\": [{\"marker\": {\"colorbar\": {\"outlinewidth\": 0, \"ticks\": \"\"}}, \"type\": \"scatterpolar\"}], \"scatterpolargl\": [{\"marker\": {\"colorbar\": {\"outlinewidth\": 0, \"ticks\": \"\"}}, \"type\": \"scatterpolargl\"}], \"scatterternary\": [{\"marker\": {\"colorbar\": {\"outlinewidth\": 0, \"ticks\": \"\"}}, \"type\": \"scatterternary\"}], \"surface\": [{\"colorbar\": {\"outlinewidth\": 0, \"ticks\": \"\"}, \"colorscale\": [[0.0, \"#0d0887\"], [0.1111111111111111, \"#46039f\"], [0.2222222222222222, \"#7201a8\"], [0.3333333333333333, \"#9c179e\"], [0.4444444444444444, \"#bd3786\"], [0.5555555555555556, \"#d8576b\"], [0.6666666666666666, \"#ed7953\"], [0.7777777777777778, \"#fb9f3a\"], [0.8888888888888888, \"#fdca26\"], [1.0, \"#f0f921\"]], \"type\": \"surface\"}], \"table\": [{\"cells\": {\"fill\": {\"color\": \"#EBF0F8\"}, \"line\": {\"color\": \"white\"}}, \"header\": {\"fill\": {\"color\": \"#C8D4E3\"}, \"line\": {\"color\": \"white\"}}, \"type\": \"table\"}]}, \"layout\": {\"annotationdefaults\": {\"arrowcolor\": \"#2a3f5f\", \"arrowhead\": 0, \"arrowwidth\": 1}, \"coloraxis\": {\"colorbar\": {\"outlinewidth\": 0, \"ticks\": \"\"}}, \"colorscale\": {\"diverging\": [[0, \"#8e0152\"], [0.1, \"#c51b7d\"], [0.2, \"#de77ae\"], [0.3, \"#f1b6da\"], [0.4, \"#fde0ef\"], [0.5, \"#f7f7f7\"], [0.6, \"#e6f5d0\"], [0.7, \"#b8e186\"], [0.8, \"#7fbc41\"], [0.9, \"#4d9221\"], [1, \"#276419\"]], \"sequential\": [[0.0, \"#0d0887\"], [0.1111111111111111, \"#46039f\"], [0.2222222222222222, \"#7201a8\"], [0.3333333333333333, \"#9c179e\"], [0.4444444444444444, \"#bd3786\"], [0.5555555555555556, \"#d8576b\"], [0.6666666666666666, \"#ed7953\"], [0.7777777777777778, \"#fb9f3a\"], [0.8888888888888888, \"#fdca26\"], [1.0, \"#f0f921\"]], \"sequentialminus\": [[0.0, \"#0d0887\"], [0.1111111111111111, \"#46039f\"], [0.2222222222222222, \"#7201a8\"], [0.3333333333333333, \"#9c179e\"], [0.4444444444444444, \"#bd3786\"], [0.5555555555555556, \"#d8576b\"], [0.6666666666666666, \"#ed7953\"], [0.7777777777777778, \"#fb9f3a\"], [0.8888888888888888, \"#fdca26\"], [1.0, \"#f0f921\"]]}, \"colorway\": [\"#636efa\", \"#EF553B\", \"#00cc96\", \"#ab63fa\", \"#FFA15A\", \"#19d3f3\", \"#FF6692\", \"#B6E880\", \"#FF97FF\", \"#FECB52\"], \"font\": {\"color\": \"#2a3f5f\"}, \"geo\": {\"bgcolor\": \"white\", \"lakecolor\": \"white\", \"landcolor\": \"#E5ECF6\", \"showlakes\": true, \"showland\": true, \"subunitcolor\": \"white\"}, \"hoverlabel\": {\"align\": \"left\"}, \"hovermode\": \"closest\", \"mapbox\": {\"style\": \"light\"}, \"paper_bgcolor\": \"white\", \"plot_bgcolor\": \"#E5ECF6\", \"polar\": {\"angularaxis\": {\"gridcolor\": \"white\", \"linecolor\": \"white\", \"ticks\": \"\"}, \"bgcolor\": \"#E5ECF6\", \"radialaxis\": {\"gridcolor\": \"white\", \"linecolor\": \"white\", \"ticks\": \"\"}}, \"scene\": {\"xaxis\": {\"backgroundcolor\": \"#E5ECF6\", \"gridcolor\": \"white\", \"gridwidth\": 2, \"linecolor\": \"white\", \"showbackground\": true, \"ticks\": \"\", \"zerolinecolor\": \"white\"}, \"yaxis\": {\"backgroundcolor\": \"#E5ECF6\", \"gridcolor\": \"white\", \"gridwidth\": 2, \"linecolor\": \"white\", \"showbackground\": true, \"ticks\": \"\", \"zerolinecolor\": \"white\"}, \"zaxis\": {\"backgroundcolor\": \"#E5ECF6\", \"gridcolor\": \"white\", \"gridwidth\": 2, \"linecolor\": \"white\", \"showbackground\": true, \"ticks\": \"\", \"zerolinecolor\": \"white\"}}, \"shapedefaults\": {\"line\": {\"color\": \"#2a3f5f\"}}, \"ternary\": {\"aaxis\": {\"gridcolor\": \"white\", \"linecolor\": \"white\", \"ticks\": \"\"}, \"baxis\": {\"gridcolor\": \"white\", \"linecolor\": \"white\", \"ticks\": \"\"}, \"bgcolor\": \"#E5ECF6\", \"caxis\": {\"gridcolor\": \"white\", \"linecolor\": \"white\", \"ticks\": \"\"}}, \"title\": {\"x\": 0.05}, \"xaxis\": {\"automargin\": true, \"gridcolor\": \"white\", \"linecolor\": \"white\", \"ticks\": \"\", \"title\": {\"standoff\": 15}, \"zerolinecolor\": \"white\", \"zerolinewidth\": 2}, \"yaxis\": {\"automargin\": true, \"gridcolor\": \"white\", \"linecolor\": \"white\", \"ticks\": \"\", \"title\": {\"standoff\": 15}, \"zerolinecolor\": \"white\", \"zerolinewidth\": 2}}}, \"title\": {\"text\": \"R\\u00e9partition des articles par mois\", \"x\": 0.5, \"xanchor\": \"center\", \"y\": 0.9, \"yanchor\": \"top\"}, \"width\": 500, \"xaxis\": {\"title\": {\"text\": \"Moid\"}}, \"yaxis\": {\"title\": {\"text\": \"Nombre d'articles\"}}},\n",
       "                        {\"responsive\": true}\n",
       "                    ).then(function(){\n",
       "                            \n",
       "var gd = document.getElementById('acfbaa71-b5af-499b-8f85-f5668b6e823c');\n",
       "var x = new MutationObserver(function (mutations, observer) {{\n",
       "        var display = window.getComputedStyle(gd).display;\n",
       "        if (!display || display === 'none') {{\n",
       "            console.log([gd, 'removed!']);\n",
       "            Plotly.purge(gd);\n",
       "            observer.disconnect();\n",
       "        }}\n",
       "}});\n",
       "\n",
       "// Listen for the removal of the full notebook cells\n",
       "var notebookContainer = gd.closest('#notebook-container');\n",
       "if (notebookContainer) {{\n",
       "    x.observe(notebookContainer, {childList: true});\n",
       "}}\n",
       "\n",
       "// Listen for the clearing of the current output cell\n",
       "var outputEl = gd.closest('.output');\n",
       "if (outputEl) {{\n",
       "    x.observe(outputEl, {childList: true});\n",
       "}}\n",
       "\n",
       "                        })\n",
       "                };\n",
       "                });\n",
       "            </script>\n",
       "        </div>"
      ]
     },
     "metadata": {},
     "output_type": "display_data"
    }
   ],
   "source": [
    "fig = go.Figure([go.Bar(x=data_propre_mois.index.strftime(\"%b\"), y=data_propre_mois)])\n",
    "fig['layout'].update(title={\"text\" : 'Répartition des articles par mois','y':0.9,'x':0.5,'xanchor': 'center','yanchor': 'top'}, xaxis_title=\"Moid\",yaxis_title=\"Nombre d'articles\")\n",
    "fig.update_layout(width=500,height=500)\n",
    "fig"
   ]
  },
  {
   "cell_type": "markdown",
   "metadata": {},
   "source": [
    "## PDF for the length of headlines"
   ]
  },
  {
   "cell_type": "code",
   "execution_count": 27,
   "metadata": {},
   "outputs": [
    {
     "data": {
      "application/vnd.plotly.v1+json": {
       "config": {
        "plotlyServerURL": "https://plot.ly"
       },
       "data": [
        {
         "legendgroup": "ht",
         "marker": {
          "color": "rgb(31, 119, 180)"
         },
         "mode": "lines",
         "name": "ht",
         "showlegend": true,
         "type": "scatter",
         "x": [
          34,
          34.278,
          34.556,
          34.834,
          35.112,
          35.39,
          35.668,
          35.946,
          36.224000000000004,
          36.502,
          36.78,
          37.058,
          37.336,
          37.614,
          37.892,
          38.17,
          38.448,
          38.726,
          39.004,
          39.282,
          39.56,
          39.838,
          40.116,
          40.394,
          40.672,
          40.95,
          41.228,
          41.506,
          41.784,
          42.062,
          42.34,
          42.618,
          42.896,
          43.174,
          43.452,
          43.730000000000004,
          44.007999999999996,
          44.286,
          44.564,
          44.842,
          45.12,
          45.397999999999996,
          45.676,
          45.954,
          46.232,
          46.51,
          46.788,
          47.066,
          47.344,
          47.622,
          47.9,
          48.178,
          48.456,
          48.734,
          49.012,
          49.29,
          49.568,
          49.846000000000004,
          50.123999999999995,
          50.402,
          50.68,
          50.958,
          51.236000000000004,
          51.513999999999996,
          51.792,
          52.07,
          52.348,
          52.626000000000005,
          52.903999999999996,
          53.182,
          53.46,
          53.738,
          54.016,
          54.294,
          54.572,
          54.85,
          55.128,
          55.406,
          55.684,
          55.962,
          56.239999999999995,
          56.518,
          56.796,
          57.074,
          57.352000000000004,
          57.629999999999995,
          57.908,
          58.186,
          58.464,
          58.742000000000004,
          59.019999999999996,
          59.298,
          59.576,
          59.854,
          60.132000000000005,
          60.41,
          60.688,
          60.966,
          61.244,
          61.522,
          61.8,
          62.078,
          62.356,
          62.634,
          62.912,
          63.19,
          63.468,
          63.745999999999995,
          64.024,
          64.30199999999999,
          64.58,
          64.858,
          65.136,
          65.414,
          65.69200000000001,
          65.97,
          66.24799999999999,
          66.52600000000001,
          66.804,
          67.082,
          67.36,
          67.638,
          67.916,
          68.194,
          68.47200000000001,
          68.75,
          69.02799999999999,
          69.306,
          69.584,
          69.862,
          70.14,
          70.418,
          70.696,
          70.97399999999999,
          71.25200000000001,
          71.53,
          71.80799999999999,
          72.086,
          72.364,
          72.642,
          72.92,
          73.19800000000001,
          73.476,
          73.75399999999999,
          74.032,
          74.31,
          74.588,
          74.866,
          75.144,
          75.422,
          75.7,
          75.97800000000001,
          76.256,
          76.53399999999999,
          76.812,
          77.09,
          77.368,
          77.646,
          77.924,
          78.202,
          78.47999999999999,
          78.75800000000001,
          79.036,
          79.314,
          79.592,
          79.87,
          80.148,
          80.426,
          80.70400000000001,
          80.982,
          81.25999999999999,
          81.538,
          81.816,
          82.094,
          82.372,
          82.65,
          82.928,
          83.206,
          83.48400000000001,
          83.762,
          84.03999999999999,
          84.318,
          84.596,
          84.874,
          85.152,
          85.43,
          85.708,
          85.98599999999999,
          86.26400000000001,
          86.542,
          86.82,
          87.098,
          87.376,
          87.654,
          87.932,
          88.21000000000001,
          88.488,
          88.76599999999999,
          89.044,
          89.322,
          89.6,
          89.878,
          90.156,
          90.434,
          90.712,
          90.99000000000001,
          91.268,
          91.54599999999999,
          91.824,
          92.102,
          92.38,
          92.658,
          92.936,
          93.214,
          93.49199999999999,
          93.77000000000001,
          94.048,
          94.326,
          94.604,
          94.882,
          95.16,
          95.438,
          95.71600000000001,
          95.994,
          96.27199999999999,
          96.55,
          96.828,
          97.106,
          97.384,
          97.662,
          97.94,
          98.218,
          98.496,
          98.774,
          99.052,
          99.33,
          99.608,
          99.886,
          100.164,
          100.442,
          100.72,
          100.998,
          101.276,
          101.554,
          101.832,
          102.11,
          102.388,
          102.666,
          102.944,
          103.222,
          103.5,
          103.778,
          104.056,
          104.334,
          104.612,
          104.89,
          105.168,
          105.446,
          105.724,
          106.002,
          106.28,
          106.558,
          106.836,
          107.114,
          107.392,
          107.67,
          107.948,
          108.226,
          108.504,
          108.782,
          109.06,
          109.338,
          109.616,
          109.894,
          110.172,
          110.45,
          110.728,
          111.006,
          111.284,
          111.562,
          111.84,
          112.118,
          112.396,
          112.674,
          112.952,
          113.23,
          113.508,
          113.786,
          114.064,
          114.342,
          114.62,
          114.898,
          115.176,
          115.454,
          115.732,
          116.01,
          116.288,
          116.566,
          116.844,
          117.122,
          117.4,
          117.678,
          117.956,
          118.234,
          118.512,
          118.79,
          119.068,
          119.346,
          119.624,
          119.902,
          120.18,
          120.458,
          120.736,
          121.014,
          121.292,
          121.57,
          121.848,
          122.126,
          122.404,
          122.682,
          122.96,
          123.238,
          123.516,
          123.794,
          124.072,
          124.35,
          124.628,
          124.906,
          125.184,
          125.462,
          125.74,
          126.018,
          126.296,
          126.574,
          126.852,
          127.13,
          127.408,
          127.686,
          127.964,
          128.24200000000002,
          128.51999999999998,
          128.798,
          129.076,
          129.35399999999998,
          129.632,
          129.91,
          130.188,
          130.466,
          130.744,
          131.022,
          131.3,
          131.578,
          131.856,
          132.13400000000001,
          132.412,
          132.69,
          132.96800000000002,
          133.24599999999998,
          133.524,
          133.80200000000002,
          134.07999999999998,
          134.358,
          134.636,
          134.914,
          135.192,
          135.47,
          135.748,
          136.026,
          136.304,
          136.582,
          136.86,
          137.138,
          137.416,
          137.69400000000002,
          137.97199999999998,
          138.25,
          138.52800000000002,
          138.80599999999998,
          139.084,
          139.362,
          139.64,
          139.918,
          140.196,
          140.474,
          140.752,
          141.03,
          141.308,
          141.586,
          141.864,
          142.142,
          142.42000000000002,
          142.69799999999998,
          142.976,
          143.25400000000002,
          143.53199999999998,
          143.81,
          144.088,
          144.36599999999999,
          144.644,
          144.922,
          145.2,
          145.478,
          145.756,
          146.034,
          146.312,
          146.59,
          146.868,
          147.14600000000002,
          147.424,
          147.702,
          147.98000000000002,
          148.25799999999998,
          148.536,
          148.814,
          149.09199999999998,
          149.37,
          149.648,
          149.926,
          150.204,
          150.482,
          150.76,
          151.038,
          151.316,
          151.594,
          151.872,
          152.15,
          152.428,
          152.70600000000002,
          152.98399999999998,
          153.262,
          153.54000000000002,
          153.81799999999998,
          154.096,
          154.374,
          154.652,
          154.93,
          155.208,
          155.486,
          155.764,
          156.042,
          156.32,
          156.598,
          156.876,
          157.154,
          157.43200000000002,
          157.70999999999998,
          157.988,
          158.26600000000002,
          158.54399999999998,
          158.822,
          159.1,
          159.378,
          159.656,
          159.934,
          160.212,
          160.49,
          160.768,
          161.046,
          161.324,
          161.602,
          161.88,
          162.158,
          162.436,
          162.714,
          162.992,
          163.27,
          163.548,
          163.826,
          164.104,
          164.382,
          164.66,
          164.938,
          165.216,
          165.494,
          165.772,
          166.05,
          166.328,
          166.606,
          166.884,
          167.162,
          167.44,
          167.718,
          167.996,
          168.274,
          168.552,
          168.83,
          169.108,
          169.386,
          169.664,
          169.942,
          170.22,
          170.498,
          170.776,
          171.054,
          171.332,
          171.61,
          171.888,
          172.166,
          172.444,
          172.722
         ],
         "xaxis": "x",
         "y": [
          0.003887045762383985,
          0.003960957794116601,
          0.004035320141634548,
          0.004110114072216835,
          0.0041853207347267414,
          0.004260921185314283,
          0.0043368964131952755,
          0.004413227366444125,
          0.004489894977736785,
          0.0045668801899797565,
          0.004644163981760458,
          0.004721727392554178,
          0.004799551547622654,
          0.004877617682539409,
          0.004955907167277316,
          0.0050344015297941564,
          0.0051130824790527815,
          0.005191931927412989,
          0.005270932012333527,
          0.0053500651173235,
          0.005429313892083966,
          0.005508661271782004,
          0.005588090495401082,
          0.005667585123113602,
          0.005747129052623308,
          0.005826706534427685,
          0.005906302185952455,
          0.005985901004513288,
          0.006065488379061927,
          0.006145050100677206,
          0.006224572371764142,
          0.006304041813927365,
          0.006383445474488474,
          0.006462770831620123,
          0.006542005798073135,
          0.006621138723476501,
          0.006700158395193767,
          0.006779054037722975,
          0.0068578153106312765,
          0.006936432305019176,
          0.007014895538513204,
          0.0070931959487900475,
          0.0071713248856390506,
          0.007249274101574104,
          0.007327035741010156,
          0.007404602328023578,
          0.007481966752719803,
          0.007559122256235753,
          0.007636062414408717,
          0.007712781120147261,
          0.007789272564544028,
          0.007865531216773925,
          0.007941551802825395,
          0.008017329283116145,
          0.008092858829048461,
          0.008168135798562902,
          0.008243155710752686,
          0.008317914219604568,
          0.008392407086935064,
          0.008466630154594474,
          0.008540579316013479,
          0.008614250487170657,
          0.00868763957706133,
          0.008760742457750903,
          0.008833554934098209,
          0.008906072713236186,
          0.008978291373899517,
          0.00905020633568989,
          0.009121812828371836,
          0.009193105861292487,
          0.009264080193020094,
          0.009334730301296761,
          0.009405050353401197,
          0.009475034177017722,
          0.009544675231707647,
          0.009613966581078782,
          0.009682900865748523,
          0.009751470277194908,
          0.009819666532589059,
          0.009887480850701092,
          0.009954903928969984,
          0.010021925921825891,
          0.010088536420351367,
          0.010154724433365464,
          0.010220478370012043,
          0.010285786023930639,
          0.010350634559085166,
          0.010415010497322014,
          0.010478899707725742,
          0.010542287397836496,
          0.01060515810678898,
          0.010667495700428782,
          0.010729283368456879,
          0.010790503623648669,
          0.010851138303188679,
          0.01091116857215708,
          0.010970574929198758,
          0.011029337214400008,
          0.011087434619392784,
          0.011144845699700017,
          0.011201548389330171,
          0.011257520017622875,
          0.01131273732834174,
          0.011367176501003882,
          0.011420813174429835,
          0.011473622472491403,
          0.011525579032028149,
          0.011576657032897735,
          0.01162683023011866,
          0.011676071988057632,
          0.011724355316608176,
          0.011771652909300361,
          0.011817937183276138,
          0.011863180321058467,
          0.011907354314036857,
          0.01195043100758631,
          0.011992382147731219,
          0.012033179429260374,
          0.012072794545194363,
          0.01211119923750163,
          0.012148365348954799,
          0.012184264876014756,
          0.012218870022625354,
          0.012252153254798441,
          0.012284087355864563,
          0.012314645482262089,
          0.012343801219734387,
          0.012371528639801737,
          0.012397802356372866,
          0.012422597582358936,
          0.012445890186150903,
          0.01246765674782065,
          0.012487874614904783,
          0.012506521957629965,
          0.01252357782343866,
          0.012539022190674062,
          0.012552836021284238,
          0.012565001312406312,
          0.012575501146693127,
          0.01258431974124678,
          0.012591442495025605,
          0.012596856034594144,
          0.012600548258088205,
          0.012602508377271294,
          0.012602726957561684,
          0.012601195955914328,
          0.012597908756445786,
          0.012592860203695539,
          0.012586046633422084,
          0.01257746590083788,
          0.012567117406192652,
          0.012555002117621256,
          0.012541122591178032,
          0.012525482987986631,
          0.01250808908844091,
          0.012488948303399675,
          0.012468069682325127,
          0.01244546391832251,
          0.012421143350045911,
          0.012395121960442741,
          0.012367415372317546,
          0.01233804084070331,
          0.012307017242036764,
          0.0122743650601418,
          0.01224010636903343,
          0.012204264812562537,
          0.012166865580929734,
          0.01212793538410436,
          0.012087502422192876,
          0.012045596352808014,
          0.012002248255498378,
          0.011957490593305042,
          0.011911357171519216,
          0.011863883093722194,
          0.011815104715195434,
          0.011765059593795766,
          0.011713786438396264,
          0.011661325055000367,
          0.011607716290642027,
          0.01155300197519046,
          0.01149722486118313,
          0.011440428561815638,
          0.011382657487221559,
          0.011323956779179483,
          0.011264372244388213,
          0.011203950286454684,
          0.011142737836741969,
          0.011080782284227307,
          0.011018131404522593,
          0.010954833288211202,
          0.010890936268656608,
          0.01082648884943918,
          0.010761539631578122,
          0.010696137240695423,
          0.010630330254278838,
          0.010564167129199678,
          0.010497696129640622,
          0.010430965255586745,
          0.010364022172031534,
          0.010296914139046976,
          0.010229687942864283,
          0.010162389828108924,
          0.010095065431329951,
          0.010027759715960071,
          0.009960516908838724,
          0.009893380438426132,
          0.009826392874831467,
          0.009759595871773354,
          0.00969303011058565,
          0.009626735246376009,
          0.009560749856438707,
          0.009495111391017545,
          0.009429856126508337,
          0.00936501912118396,
          0.00930063417351871,
          0.009236733783181824,
          0.009173349114763238,
          0.009110509964287753,
          0.009048244728566947,
          0.008986580377430808,
          0.00892554242887423,
          0.008865154927146143,
          0.008805440423802161,
          0.008746419961734257,
          0.008688113062183983,
          0.008630537714738793,
          0.008573710370303819,
          0.008517645937034773,
          0.00846235777921073,
          0.008407857719018957,
          0.008354156041217309,
          0.00830126150063346,
          0.008249181332453972,
          0.008197921265250128,
          0.00814748553668176,
          0.00809787691181453,
          0.008049096703980836,
          0.00800114479810938,
          0.007954019676443316,
          0.007907718446562653,
          0.007862236871621759,
          0.007817569402708951,
          0.0077737092132313095,
          0.007730648235224328,
          0.007688377197482645,
          0.007646885665405398,
          0.007606162082446872,
          0.007566193813061004,
          0.007526967187026173,
          0.0074884675450351094,
          0.0074506792854332855,
          0.007413585911988227,
          0.0073771700825713766,
          0.0073414136586336725,
          0.007306297755356043,
          0.007271802792356096,
          0.007237908544832852,
          0.00720459419503213,
          0.007171838383916367,
          0.007139619262924042,
          0.007107914545705418,
          0.007076701559723562,
          0.007045957297611363,
          0.00701565846817832,
          0.006985781546963035,
          0.006956302826230693,
          0.006927198464317762,
          0.0068984445342297526,
          0.0068700170714011835,
          0.0068418921205310205,
          0.006814045781410573,
          0.0067864542536649535,
          0.0067590938803337944,
          0.006731941190220783,
          0.006704972938946653,
          0.006678166148644496,
          0.006651498146241207,
          0.006624946600273505,
          0.006598489556191987,
          0.006572105470111421,
          0.0065457732409704905,
          0.006519472241069051,
          0.006493182344956011,
          0.006466883956645702,
          0.006440558035145641,
          0.006414186118283227,
          0.0063877503448238745,
          0.006361233474877577,
          0.006334618908595607,
          0.006307890703163507,
          0.006281033588100884,
          0.006254032978882729,
          0.006226874988901087,
          0.006199546439789893,
          0.00617203487013944,
          0.006144328542630575,
          0.006116416449622266,
          0.006088288317229103,
          0.006059934607928543,
          0.006031346521740461,
          0.006002515996024057,
          0.0059734357039395655,
          0.00594409905162448,
          0.005914500174135681,
          0.005884633930210698,
          0.005854495895902777,
          0.005824082357145479,
          0.005793390301303717,
          0.005762417407768688,
          0.005731162037654816,
          0.005699623222657022,
          0.005667800653126645,
          0.005635694665424369,
          0.005603306228607885,
          0.005570636930511597,
          0.005537688963274889,
          0.0055044651083743555,
          0.005470968721214493,
          0.005437203715329636,
          0.0054031745462488675,
          0.005368886195073567,
          0.005334344151815732,
          0.005299554398543165,
          0.005264523392375544,
          0.005229258048373366,
          0.005193765722359268,
          0.005158054193709151,
          0.005122131648147926,
          0.005086006660582379,
          0.005049688178000977,
          0.005013185502468123,
          0.004976508274237583,
          0.00493966645500747,
          0.004902670311336379,
          0.004865530398238018,
          0.00482825754296896,
          0.004790862829021744,
          0.004753357580333354,
          0.004715753345716453,
          0.0046780618835187806,
          0.004640295146513929,
          0.0046024652670244425,
          0.004564584542276658,
          0.004526665419984346,
          0.004488720484157007,
          0.004450762441126817,
          0.004412804105786735,
          0.004374858388031251,
          0.004336938279389866,
          0.004299056839842348,
          0.004261227184804263,
          0.004223462472270232,
          0.004185775890101957,
          0.004148180643447718,
          0.004110689942279694,
          0.004073316989035435,
          0.00403607496634982,
          0.003998977024864096,
          0.003962036271098851,
          0.003925265755378414,
          0.0038886784597945245,
          0.0038522872861981626,
          0.003816105044209132,
          0.003780144439233818,
          0.003744418060483006,
          0.0037089383689824667,
          0.0036737176855704008,
          0.003638768178877287,
          0.003604101853284966,
          0.003569730536863248,
          0.0035356658692840535,
          0.0035019192897144612,
          0.0034685020246917595,
          0.0034354250759851854,
          0.0034026992084507358,
          0.0033703349378869517,
          0.003338342518901408,
          0.0033067319327990258,
          0.0032755128755051033,
          0.003244694745537494,
          0.003214286632043675,
          0.003184297302920232,
          0.0031547351930333867,
          0.0031256083925606457,
          0.0030969246354749136,
          0.0030686912881935273,
          0.003040915338415689,
          0.003013603384172884,
          0.002986761623117621,
          0.0029603958420765615,
          0.002934511406894915,
          0.0029091132525993564,
          0.002884205873907141,
          0.0028597933161095134,
          0.0028358791663575006,
          0.0028124665453783276,
          0.002789558099650651,
          0.002767155994066402,
          0.002745261905106952,
          0.0027238770145606673,
          0.0027030020038083997,
          0.0026826370487027995,
          0.0026627818150665,
          0.002643435454833173,
          0.0026245966028546827,
          0.0026062633743961414,
          0.002588433363339566,
          0.002571103641115517,
          0.002554270756380563,
          0.0025379307354569543,
          0.002522079083549331,
          0.00250671078675155,
          0.002491820314854947,
          0.0024774016249677236,
          0.0024634481659530595,
          0.0024499528836918623,
          0.0024369082271739743,
          0.0024243061554197706,
          0.00241213814523208,
          0.0024003951997763075,
          0.002389067857984604,
          0.002378146204777966,
          0.0023676198820980526,
          0.002357478100738462,
          0.002347709652963306,
          0.0023383029258987947,
          0.00232924591568172,
          0.002320526242346666,
          0.0023121311654320173,
          0.002304047600282852,
          0.002296262135027139,
          0.002288761048199835,
          0.0022815303269878013,
          0.00227455568606689,
          0.0022678225870009223,
          0.002261316258170866,
          0.0022550217152010675,
          0.002248923781848075,
          0.0022430071113163455,
          0.0022372562079639837,
          0.002231655449360505,
          0.0022261891086577104,
          0.0022208413772338313,
          0.00221559638757023,
          0.002210438236319345,
          0.0022053510075218143,
          0.0022003187959302663,
          0.00219532573039684,
          0.0021903559972810886,
          0.002185393863834718,
          0.00218042370151954,
          0.0021754300092148115,
          0.002170397436270358,
          0.002165310805361868,
          0.0021601551351051193,
          0.0021549156623861267,
          0.0021495778643647006,
          0.0021441274801093806,
          0.0021385505318223556,
          0.002132833345613661,
          0.002126962571784744,
          0.00212092520458236,
          0.002114708601384759,
          0.0021083005012831027,
          0.002101689043022248,
          0.0020948627822662243,
          0.0020878107081549833,
          0.002080522259120414,
          0.0020729873379310036,
          0.002065196325936081,
          0.0020571400964820865,
          0.0020488100274750087,
          0.002040198013064793,
          0.002031296474429292,
          0.0020220983696371294,
          0.0020125972025707398,
          0.002002787030892741,
          0.0019926624730406983,
          0.001982218714237472,
          0.0019714515115062136,
          0.0019603571976812466,
          0.0019489326844081287,
          0.0019371754641282913,
          0.0019250836110458163,
          0.0019126557810760312,
          0.0018998912107777972,
          0.0018867897152734937,
          0.001873351685162838,
          0.0018595780824389745,
          0.001845470435417184,
          0.0018310308326889198,
          0.0018162619161158238,
          0.001801166872880531,
          0.0017857494266131039,
          0.0017700138276139064,
          0.0017539648421957795,
          0.0017376077411701636,
          0.001720948287503796,
          0.001703992723174354,
          0.0016867477552551184
         ],
         "yaxis": "y"
        }
       ],
       "layout": {
        "barmode": "overlay",
        "height": 500,
        "hovermode": "closest",
        "legend": {
         "traceorder": "reversed"
        },
        "showlegend": false,
        "template": {
         "data": {
          "bar": [
           {
            "error_x": {
             "color": "#2a3f5f"
            },
            "error_y": {
             "color": "#2a3f5f"
            },
            "marker": {
             "line": {
              "color": "#E5ECF6",
              "width": 0.5
             }
            },
            "type": "bar"
           }
          ],
          "barpolar": [
           {
            "marker": {
             "line": {
              "color": "#E5ECF6",
              "width": 0.5
             }
            },
            "type": "barpolar"
           }
          ],
          "carpet": [
           {
            "aaxis": {
             "endlinecolor": "#2a3f5f",
             "gridcolor": "white",
             "linecolor": "white",
             "minorgridcolor": "white",
             "startlinecolor": "#2a3f5f"
            },
            "baxis": {
             "endlinecolor": "#2a3f5f",
             "gridcolor": "white",
             "linecolor": "white",
             "minorgridcolor": "white",
             "startlinecolor": "#2a3f5f"
            },
            "type": "carpet"
           }
          ],
          "choropleth": [
           {
            "colorbar": {
             "outlinewidth": 0,
             "ticks": ""
            },
            "type": "choropleth"
           }
          ],
          "contour": [
           {
            "colorbar": {
             "outlinewidth": 0,
             "ticks": ""
            },
            "colorscale": [
             [
              0,
              "#0d0887"
             ],
             [
              0.1111111111111111,
              "#46039f"
             ],
             [
              0.2222222222222222,
              "#7201a8"
             ],
             [
              0.3333333333333333,
              "#9c179e"
             ],
             [
              0.4444444444444444,
              "#bd3786"
             ],
             [
              0.5555555555555556,
              "#d8576b"
             ],
             [
              0.6666666666666666,
              "#ed7953"
             ],
             [
              0.7777777777777778,
              "#fb9f3a"
             ],
             [
              0.8888888888888888,
              "#fdca26"
             ],
             [
              1,
              "#f0f921"
             ]
            ],
            "type": "contour"
           }
          ],
          "contourcarpet": [
           {
            "colorbar": {
             "outlinewidth": 0,
             "ticks": ""
            },
            "type": "contourcarpet"
           }
          ],
          "heatmap": [
           {
            "colorbar": {
             "outlinewidth": 0,
             "ticks": ""
            },
            "colorscale": [
             [
              0,
              "#0d0887"
             ],
             [
              0.1111111111111111,
              "#46039f"
             ],
             [
              0.2222222222222222,
              "#7201a8"
             ],
             [
              0.3333333333333333,
              "#9c179e"
             ],
             [
              0.4444444444444444,
              "#bd3786"
             ],
             [
              0.5555555555555556,
              "#d8576b"
             ],
             [
              0.6666666666666666,
              "#ed7953"
             ],
             [
              0.7777777777777778,
              "#fb9f3a"
             ],
             [
              0.8888888888888888,
              "#fdca26"
             ],
             [
              1,
              "#f0f921"
             ]
            ],
            "type": "heatmap"
           }
          ],
          "heatmapgl": [
           {
            "colorbar": {
             "outlinewidth": 0,
             "ticks": ""
            },
            "colorscale": [
             [
              0,
              "#0d0887"
             ],
             [
              0.1111111111111111,
              "#46039f"
             ],
             [
              0.2222222222222222,
              "#7201a8"
             ],
             [
              0.3333333333333333,
              "#9c179e"
             ],
             [
              0.4444444444444444,
              "#bd3786"
             ],
             [
              0.5555555555555556,
              "#d8576b"
             ],
             [
              0.6666666666666666,
              "#ed7953"
             ],
             [
              0.7777777777777778,
              "#fb9f3a"
             ],
             [
              0.8888888888888888,
              "#fdca26"
             ],
             [
              1,
              "#f0f921"
             ]
            ],
            "type": "heatmapgl"
           }
          ],
          "histogram": [
           {
            "marker": {
             "colorbar": {
              "outlinewidth": 0,
              "ticks": ""
             }
            },
            "type": "histogram"
           }
          ],
          "histogram2d": [
           {
            "colorbar": {
             "outlinewidth": 0,
             "ticks": ""
            },
            "colorscale": [
             [
              0,
              "#0d0887"
             ],
             [
              0.1111111111111111,
              "#46039f"
             ],
             [
              0.2222222222222222,
              "#7201a8"
             ],
             [
              0.3333333333333333,
              "#9c179e"
             ],
             [
              0.4444444444444444,
              "#bd3786"
             ],
             [
              0.5555555555555556,
              "#d8576b"
             ],
             [
              0.6666666666666666,
              "#ed7953"
             ],
             [
              0.7777777777777778,
              "#fb9f3a"
             ],
             [
              0.8888888888888888,
              "#fdca26"
             ],
             [
              1,
              "#f0f921"
             ]
            ],
            "type": "histogram2d"
           }
          ],
          "histogram2dcontour": [
           {
            "colorbar": {
             "outlinewidth": 0,
             "ticks": ""
            },
            "colorscale": [
             [
              0,
              "#0d0887"
             ],
             [
              0.1111111111111111,
              "#46039f"
             ],
             [
              0.2222222222222222,
              "#7201a8"
             ],
             [
              0.3333333333333333,
              "#9c179e"
             ],
             [
              0.4444444444444444,
              "#bd3786"
             ],
             [
              0.5555555555555556,
              "#d8576b"
             ],
             [
              0.6666666666666666,
              "#ed7953"
             ],
             [
              0.7777777777777778,
              "#fb9f3a"
             ],
             [
              0.8888888888888888,
              "#fdca26"
             ],
             [
              1,
              "#f0f921"
             ]
            ],
            "type": "histogram2dcontour"
           }
          ],
          "mesh3d": [
           {
            "colorbar": {
             "outlinewidth": 0,
             "ticks": ""
            },
            "type": "mesh3d"
           }
          ],
          "parcoords": [
           {
            "line": {
             "colorbar": {
              "outlinewidth": 0,
              "ticks": ""
             }
            },
            "type": "parcoords"
           }
          ],
          "pie": [
           {
            "automargin": true,
            "type": "pie"
           }
          ],
          "scatter": [
           {
            "marker": {
             "colorbar": {
              "outlinewidth": 0,
              "ticks": ""
             }
            },
            "type": "scatter"
           }
          ],
          "scatter3d": [
           {
            "line": {
             "colorbar": {
              "outlinewidth": 0,
              "ticks": ""
             }
            },
            "marker": {
             "colorbar": {
              "outlinewidth": 0,
              "ticks": ""
             }
            },
            "type": "scatter3d"
           }
          ],
          "scattercarpet": [
           {
            "marker": {
             "colorbar": {
              "outlinewidth": 0,
              "ticks": ""
             }
            },
            "type": "scattercarpet"
           }
          ],
          "scattergeo": [
           {
            "marker": {
             "colorbar": {
              "outlinewidth": 0,
              "ticks": ""
             }
            },
            "type": "scattergeo"
           }
          ],
          "scattergl": [
           {
            "marker": {
             "colorbar": {
              "outlinewidth": 0,
              "ticks": ""
             }
            },
            "type": "scattergl"
           }
          ],
          "scattermapbox": [
           {
            "marker": {
             "colorbar": {
              "outlinewidth": 0,
              "ticks": ""
             }
            },
            "type": "scattermapbox"
           }
          ],
          "scatterpolar": [
           {
            "marker": {
             "colorbar": {
              "outlinewidth": 0,
              "ticks": ""
             }
            },
            "type": "scatterpolar"
           }
          ],
          "scatterpolargl": [
           {
            "marker": {
             "colorbar": {
              "outlinewidth": 0,
              "ticks": ""
             }
            },
            "type": "scatterpolargl"
           }
          ],
          "scatterternary": [
           {
            "marker": {
             "colorbar": {
              "outlinewidth": 0,
              "ticks": ""
             }
            },
            "type": "scatterternary"
           }
          ],
          "surface": [
           {
            "colorbar": {
             "outlinewidth": 0,
             "ticks": ""
            },
            "colorscale": [
             [
              0,
              "#0d0887"
             ],
             [
              0.1111111111111111,
              "#46039f"
             ],
             [
              0.2222222222222222,
              "#7201a8"
             ],
             [
              0.3333333333333333,
              "#9c179e"
             ],
             [
              0.4444444444444444,
              "#bd3786"
             ],
             [
              0.5555555555555556,
              "#d8576b"
             ],
             [
              0.6666666666666666,
              "#ed7953"
             ],
             [
              0.7777777777777778,
              "#fb9f3a"
             ],
             [
              0.8888888888888888,
              "#fdca26"
             ],
             [
              1,
              "#f0f921"
             ]
            ],
            "type": "surface"
           }
          ],
          "table": [
           {
            "cells": {
             "fill": {
              "color": "#EBF0F8"
             },
             "line": {
              "color": "white"
             }
            },
            "header": {
             "fill": {
              "color": "#C8D4E3"
             },
             "line": {
              "color": "white"
             }
            },
            "type": "table"
           }
          ]
         },
         "layout": {
          "annotationdefaults": {
           "arrowcolor": "#2a3f5f",
           "arrowhead": 0,
           "arrowwidth": 1
          },
          "coloraxis": {
           "colorbar": {
            "outlinewidth": 0,
            "ticks": ""
           }
          },
          "colorscale": {
           "diverging": [
            [
             0,
             "#8e0152"
            ],
            [
             0.1,
             "#c51b7d"
            ],
            [
             0.2,
             "#de77ae"
            ],
            [
             0.3,
             "#f1b6da"
            ],
            [
             0.4,
             "#fde0ef"
            ],
            [
             0.5,
             "#f7f7f7"
            ],
            [
             0.6,
             "#e6f5d0"
            ],
            [
             0.7,
             "#b8e186"
            ],
            [
             0.8,
             "#7fbc41"
            ],
            [
             0.9,
             "#4d9221"
            ],
            [
             1,
             "#276419"
            ]
           ],
           "sequential": [
            [
             0,
             "#0d0887"
            ],
            [
             0.1111111111111111,
             "#46039f"
            ],
            [
             0.2222222222222222,
             "#7201a8"
            ],
            [
             0.3333333333333333,
             "#9c179e"
            ],
            [
             0.4444444444444444,
             "#bd3786"
            ],
            [
             0.5555555555555556,
             "#d8576b"
            ],
            [
             0.6666666666666666,
             "#ed7953"
            ],
            [
             0.7777777777777778,
             "#fb9f3a"
            ],
            [
             0.8888888888888888,
             "#fdca26"
            ],
            [
             1,
             "#f0f921"
            ]
           ],
           "sequentialminus": [
            [
             0,
             "#0d0887"
            ],
            [
             0.1111111111111111,
             "#46039f"
            ],
            [
             0.2222222222222222,
             "#7201a8"
            ],
            [
             0.3333333333333333,
             "#9c179e"
            ],
            [
             0.4444444444444444,
             "#bd3786"
            ],
            [
             0.5555555555555556,
             "#d8576b"
            ],
            [
             0.6666666666666666,
             "#ed7953"
            ],
            [
             0.7777777777777778,
             "#fb9f3a"
            ],
            [
             0.8888888888888888,
             "#fdca26"
            ],
            [
             1,
             "#f0f921"
            ]
           ]
          },
          "colorway": [
           "#636efa",
           "#EF553B",
           "#00cc96",
           "#ab63fa",
           "#FFA15A",
           "#19d3f3",
           "#FF6692",
           "#B6E880",
           "#FF97FF",
           "#FECB52"
          ],
          "font": {
           "color": "#2a3f5f"
          },
          "geo": {
           "bgcolor": "white",
           "lakecolor": "white",
           "landcolor": "#E5ECF6",
           "showlakes": true,
           "showland": true,
           "subunitcolor": "white"
          },
          "hoverlabel": {
           "align": "left"
          },
          "hovermode": "closest",
          "mapbox": {
           "style": "light"
          },
          "paper_bgcolor": "white",
          "plot_bgcolor": "#E5ECF6",
          "polar": {
           "angularaxis": {
            "gridcolor": "white",
            "linecolor": "white",
            "ticks": ""
           },
           "bgcolor": "#E5ECF6",
           "radialaxis": {
            "gridcolor": "white",
            "linecolor": "white",
            "ticks": ""
           }
          },
          "scene": {
           "xaxis": {
            "backgroundcolor": "#E5ECF6",
            "gridcolor": "white",
            "gridwidth": 2,
            "linecolor": "white",
            "showbackground": true,
            "ticks": "",
            "zerolinecolor": "white"
           },
           "yaxis": {
            "backgroundcolor": "#E5ECF6",
            "gridcolor": "white",
            "gridwidth": 2,
            "linecolor": "white",
            "showbackground": true,
            "ticks": "",
            "zerolinecolor": "white"
           },
           "zaxis": {
            "backgroundcolor": "#E5ECF6",
            "gridcolor": "white",
            "gridwidth": 2,
            "linecolor": "white",
            "showbackground": true,
            "ticks": "",
            "zerolinecolor": "white"
           }
          },
          "shapedefaults": {
           "line": {
            "color": "#2a3f5f"
           }
          },
          "ternary": {
           "aaxis": {
            "gridcolor": "white",
            "linecolor": "white",
            "ticks": ""
           },
           "baxis": {
            "gridcolor": "white",
            "linecolor": "white",
            "ticks": ""
           },
           "bgcolor": "#E5ECF6",
           "caxis": {
            "gridcolor": "white",
            "linecolor": "white",
            "ticks": ""
           }
          },
          "title": {
           "x": 0.05
          },
          "xaxis": {
           "automargin": true,
           "gridcolor": "white",
           "linecolor": "white",
           "ticks": "",
           "title": {
            "standoff": 15
           },
           "zerolinecolor": "white",
           "zerolinewidth": 2
          },
          "yaxis": {
           "automargin": true,
           "gridcolor": "white",
           "linecolor": "white",
           "ticks": "",
           "title": {
            "standoff": 15
           },
           "zerolinecolor": "white",
           "zerolinewidth": 2
          }
         }
        },
        "title": {
         "text": "PDF",
         "x": 0.5,
         "xanchor": "center",
         "y": 0.9,
         "yanchor": "top"
        },
        "width": 500,
        "xaxis": {
         "anchor": "y2",
         "domain": [
          0,
          1
         ],
         "title": {
          "text": "Longueur d'un titre"
         },
         "zeroline": false
        },
        "yaxis": {
         "anchor": "free",
         "domain": [
          0,
          1
         ],
         "position": 0,
         "title": {
          "text": "probabilité"
         }
        }
       }
      },
      "text/html": [
       "<div>\n",
       "        \n",
       "        \n",
       "            <div id=\"dabd5613-af38-429d-9c8c-34ad992931d2\" class=\"plotly-graph-div\" style=\"height:500px; width:500px;\"></div>\n",
       "            <script type=\"text/javascript\">\n",
       "                require([\"plotly\"], function(Plotly) {\n",
       "                    window.PLOTLYENV=window.PLOTLYENV || {};\n",
       "                    \n",
       "                if (document.getElementById(\"dabd5613-af38-429d-9c8c-34ad992931d2\")) {\n",
       "                    Plotly.newPlot(\n",
       "                        'dabd5613-af38-429d-9c8c-34ad992931d2',\n",
       "                        [{\"legendgroup\": \"ht\", \"marker\": {\"color\": \"rgb(31, 119, 180)\"}, \"mode\": \"lines\", \"name\": \"ht\", \"showlegend\": true, \"type\": \"scatter\", \"x\": [34.0, 34.278, 34.556, 34.834, 35.112, 35.39, 35.668, 35.946, 36.224000000000004, 36.502, 36.78, 37.058, 37.336, 37.614, 37.892, 38.17, 38.448, 38.726, 39.004, 39.282, 39.56, 39.838, 40.116, 40.394, 40.672, 40.95, 41.228, 41.506, 41.784, 42.062, 42.34, 42.618, 42.896, 43.174, 43.452, 43.730000000000004, 44.007999999999996, 44.286, 44.564, 44.842, 45.12, 45.397999999999996, 45.676, 45.954, 46.232, 46.51, 46.788, 47.066, 47.344, 47.622, 47.9, 48.178, 48.456, 48.734, 49.012, 49.29, 49.568, 49.846000000000004, 50.123999999999995, 50.402, 50.68, 50.958, 51.236000000000004, 51.513999999999996, 51.792, 52.07, 52.348, 52.626000000000005, 52.903999999999996, 53.182, 53.46, 53.738, 54.016, 54.294, 54.572, 54.85, 55.128, 55.406, 55.684, 55.962, 56.239999999999995, 56.518, 56.796, 57.074, 57.352000000000004, 57.629999999999995, 57.908, 58.186, 58.464, 58.742000000000004, 59.019999999999996, 59.298, 59.576, 59.854, 60.132000000000005, 60.41, 60.688, 60.966, 61.244, 61.522, 61.8, 62.078, 62.356, 62.634, 62.912, 63.19, 63.468, 63.745999999999995, 64.024, 64.30199999999999, 64.58, 64.858, 65.136, 65.414, 65.69200000000001, 65.97, 66.24799999999999, 66.52600000000001, 66.804, 67.082, 67.36, 67.638, 67.916, 68.194, 68.47200000000001, 68.75, 69.02799999999999, 69.306, 69.584, 69.862, 70.14, 70.418, 70.696, 70.97399999999999, 71.25200000000001, 71.53, 71.80799999999999, 72.086, 72.364, 72.642, 72.92, 73.19800000000001, 73.476, 73.75399999999999, 74.032, 74.31, 74.588, 74.866, 75.144, 75.422, 75.7, 75.97800000000001, 76.256, 76.53399999999999, 76.812, 77.09, 77.368, 77.646, 77.924, 78.202, 78.47999999999999, 78.75800000000001, 79.036, 79.314, 79.592, 79.87, 80.148, 80.426, 80.70400000000001, 80.982, 81.25999999999999, 81.538, 81.816, 82.094, 82.372, 82.65, 82.928, 83.206, 83.48400000000001, 83.762, 84.03999999999999, 84.318, 84.596, 84.874, 85.152, 85.43, 85.708, 85.98599999999999, 86.26400000000001, 86.542, 86.82, 87.098, 87.376, 87.654, 87.932, 88.21000000000001, 88.488, 88.76599999999999, 89.044, 89.322, 89.6, 89.878, 90.156, 90.434, 90.712, 90.99000000000001, 91.268, 91.54599999999999, 91.824, 92.102, 92.38, 92.658, 92.936, 93.214, 93.49199999999999, 93.77000000000001, 94.048, 94.326, 94.604, 94.882, 95.16, 95.438, 95.71600000000001, 95.994, 96.27199999999999, 96.55, 96.828, 97.106, 97.384, 97.662, 97.94, 98.218, 98.496, 98.774, 99.052, 99.33, 99.608, 99.886, 100.164, 100.442, 100.72, 100.998, 101.276, 101.554, 101.832, 102.11, 102.388, 102.666, 102.944, 103.222, 103.5, 103.778, 104.056, 104.334, 104.612, 104.89, 105.168, 105.446, 105.724, 106.002, 106.28, 106.558, 106.836, 107.114, 107.392, 107.67, 107.948, 108.226, 108.504, 108.782, 109.06, 109.338, 109.616, 109.894, 110.172, 110.45, 110.728, 111.006, 111.284, 111.562, 111.84, 112.118, 112.396, 112.674, 112.952, 113.23, 113.508, 113.786, 114.064, 114.342, 114.62, 114.898, 115.176, 115.454, 115.732, 116.01, 116.288, 116.566, 116.844, 117.122, 117.4, 117.678, 117.956, 118.234, 118.512, 118.79, 119.068, 119.346, 119.624, 119.902, 120.18, 120.458, 120.736, 121.014, 121.292, 121.57, 121.848, 122.126, 122.404, 122.682, 122.96, 123.238, 123.516, 123.794, 124.072, 124.35, 124.628, 124.906, 125.184, 125.462, 125.74, 126.018, 126.296, 126.574, 126.852, 127.13, 127.408, 127.686, 127.964, 128.24200000000002, 128.51999999999998, 128.798, 129.076, 129.35399999999998, 129.632, 129.91, 130.188, 130.466, 130.744, 131.022, 131.3, 131.578, 131.856, 132.13400000000001, 132.412, 132.69, 132.96800000000002, 133.24599999999998, 133.524, 133.80200000000002, 134.07999999999998, 134.358, 134.636, 134.914, 135.192, 135.47, 135.748, 136.026, 136.304, 136.582, 136.86, 137.138, 137.416, 137.69400000000002, 137.97199999999998, 138.25, 138.52800000000002, 138.80599999999998, 139.084, 139.362, 139.64, 139.918, 140.196, 140.474, 140.752, 141.03, 141.308, 141.586, 141.864, 142.142, 142.42000000000002, 142.69799999999998, 142.976, 143.25400000000002, 143.53199999999998, 143.81, 144.088, 144.36599999999999, 144.644, 144.922, 145.2, 145.478, 145.756, 146.034, 146.312, 146.59, 146.868, 147.14600000000002, 147.424, 147.702, 147.98000000000002, 148.25799999999998, 148.536, 148.814, 149.09199999999998, 149.37, 149.648, 149.926, 150.204, 150.482, 150.76, 151.038, 151.316, 151.594, 151.872, 152.15, 152.428, 152.70600000000002, 152.98399999999998, 153.262, 153.54000000000002, 153.81799999999998, 154.096, 154.374, 154.652, 154.93, 155.208, 155.486, 155.764, 156.042, 156.32, 156.598, 156.876, 157.154, 157.43200000000002, 157.70999999999998, 157.988, 158.26600000000002, 158.54399999999998, 158.822, 159.1, 159.378, 159.656, 159.934, 160.212, 160.49, 160.768, 161.046, 161.324, 161.602, 161.88, 162.158, 162.436, 162.714, 162.992, 163.27, 163.548, 163.826, 164.104, 164.382, 164.66, 164.938, 165.216, 165.494, 165.772, 166.05, 166.328, 166.606, 166.884, 167.162, 167.44, 167.718, 167.996, 168.274, 168.552, 168.83, 169.108, 169.386, 169.664, 169.942, 170.22, 170.498, 170.776, 171.054, 171.332, 171.61, 171.888, 172.166, 172.444, 172.722], \"xaxis\": \"x\", \"y\": [0.003887045762383985, 0.003960957794116601, 0.004035320141634548, 0.004110114072216835, 0.0041853207347267414, 0.004260921185314283, 0.0043368964131952755, 0.004413227366444125, 0.004489894977736785, 0.0045668801899797565, 0.004644163981760458, 0.004721727392554178, 0.004799551547622654, 0.004877617682539409, 0.004955907167277316, 0.0050344015297941564, 0.0051130824790527815, 0.005191931927412989, 0.005270932012333527, 0.0053500651173235, 0.005429313892083966, 0.005508661271782004, 0.005588090495401082, 0.005667585123113602, 0.005747129052623308, 0.005826706534427685, 0.005906302185952455, 0.005985901004513288, 0.006065488379061927, 0.006145050100677206, 0.006224572371764142, 0.006304041813927365, 0.006383445474488474, 0.006462770831620123, 0.006542005798073135, 0.006621138723476501, 0.006700158395193767, 0.006779054037722975, 0.0068578153106312765, 0.006936432305019176, 0.007014895538513204, 0.0070931959487900475, 0.0071713248856390506, 0.007249274101574104, 0.007327035741010156, 0.007404602328023578, 0.007481966752719803, 0.007559122256235753, 0.007636062414408717, 0.007712781120147261, 0.007789272564544028, 0.007865531216773925, 0.007941551802825395, 0.008017329283116145, 0.008092858829048461, 0.008168135798562902, 0.008243155710752686, 0.008317914219604568, 0.008392407086935064, 0.008466630154594474, 0.008540579316013479, 0.008614250487170657, 0.00868763957706133, 0.008760742457750903, 0.008833554934098209, 0.008906072713236186, 0.008978291373899517, 0.00905020633568989, 0.009121812828371836, 0.009193105861292487, 0.009264080193020094, 0.009334730301296761, 0.009405050353401197, 0.009475034177017722, 0.009544675231707647, 0.009613966581078782, 0.009682900865748523, 0.009751470277194908, 0.009819666532589059, 0.009887480850701092, 0.009954903928969984, 0.010021925921825891, 0.010088536420351367, 0.010154724433365464, 0.010220478370012043, 0.010285786023930639, 0.010350634559085166, 0.010415010497322014, 0.010478899707725742, 0.010542287397836496, 0.01060515810678898, 0.010667495700428782, 0.010729283368456879, 0.010790503623648669, 0.010851138303188679, 0.01091116857215708, 0.010970574929198758, 0.011029337214400008, 0.011087434619392784, 0.011144845699700017, 0.011201548389330171, 0.011257520017622875, 0.01131273732834174, 0.011367176501003882, 0.011420813174429835, 0.011473622472491403, 0.011525579032028149, 0.011576657032897735, 0.01162683023011866, 0.011676071988057632, 0.011724355316608176, 0.011771652909300361, 0.011817937183276138, 0.011863180321058467, 0.011907354314036857, 0.01195043100758631, 0.011992382147731219, 0.012033179429260374, 0.012072794545194363, 0.01211119923750163, 0.012148365348954799, 0.012184264876014756, 0.012218870022625354, 0.012252153254798441, 0.012284087355864563, 0.012314645482262089, 0.012343801219734387, 0.012371528639801737, 0.012397802356372866, 0.012422597582358936, 0.012445890186150903, 0.01246765674782065, 0.012487874614904783, 0.012506521957629965, 0.01252357782343866, 0.012539022190674062, 0.012552836021284238, 0.012565001312406312, 0.012575501146693127, 0.01258431974124678, 0.012591442495025605, 0.012596856034594144, 0.012600548258088205, 0.012602508377271294, 0.012602726957561684, 0.012601195955914328, 0.012597908756445786, 0.012592860203695539, 0.012586046633422084, 0.01257746590083788, 0.012567117406192652, 0.012555002117621256, 0.012541122591178032, 0.012525482987986631, 0.01250808908844091, 0.012488948303399675, 0.012468069682325127, 0.01244546391832251, 0.012421143350045911, 0.012395121960442741, 0.012367415372317546, 0.01233804084070331, 0.012307017242036764, 0.0122743650601418, 0.01224010636903343, 0.012204264812562537, 0.012166865580929734, 0.01212793538410436, 0.012087502422192876, 0.012045596352808014, 0.012002248255498378, 0.011957490593305042, 0.011911357171519216, 0.011863883093722194, 0.011815104715195434, 0.011765059593795766, 0.011713786438396264, 0.011661325055000367, 0.011607716290642027, 0.01155300197519046, 0.01149722486118313, 0.011440428561815638, 0.011382657487221559, 0.011323956779179483, 0.011264372244388213, 0.011203950286454684, 0.011142737836741969, 0.011080782284227307, 0.011018131404522593, 0.010954833288211202, 0.010890936268656608, 0.01082648884943918, 0.010761539631578122, 0.010696137240695423, 0.010630330254278838, 0.010564167129199678, 0.010497696129640622, 0.010430965255586745, 0.010364022172031534, 0.010296914139046976, 0.010229687942864283, 0.010162389828108924, 0.010095065431329951, 0.010027759715960071, 0.009960516908838724, 0.009893380438426132, 0.009826392874831467, 0.009759595871773354, 0.00969303011058565, 0.009626735246376009, 0.009560749856438707, 0.009495111391017545, 0.009429856126508337, 0.00936501912118396, 0.00930063417351871, 0.009236733783181824, 0.009173349114763238, 0.009110509964287753, 0.009048244728566947, 0.008986580377430808, 0.00892554242887423, 0.008865154927146143, 0.008805440423802161, 0.008746419961734257, 0.008688113062183983, 0.008630537714738793, 0.008573710370303819, 0.008517645937034773, 0.00846235777921073, 0.008407857719018957, 0.008354156041217309, 0.00830126150063346, 0.008249181332453972, 0.008197921265250128, 0.00814748553668176, 0.00809787691181453, 0.008049096703980836, 0.00800114479810938, 0.007954019676443316, 0.007907718446562653, 0.007862236871621759, 0.007817569402708951, 0.0077737092132313095, 0.007730648235224328, 0.007688377197482645, 0.007646885665405398, 0.007606162082446872, 0.007566193813061004, 0.007526967187026173, 0.0074884675450351094, 0.0074506792854332855, 0.007413585911988227, 0.0073771700825713766, 0.0073414136586336725, 0.007306297755356043, 0.007271802792356096, 0.007237908544832852, 0.00720459419503213, 0.007171838383916367, 0.007139619262924042, 0.007107914545705418, 0.007076701559723562, 0.007045957297611363, 0.00701565846817832, 0.006985781546963035, 0.006956302826230693, 0.006927198464317762, 0.0068984445342297526, 0.0068700170714011835, 0.0068418921205310205, 0.006814045781410573, 0.0067864542536649535, 0.0067590938803337944, 0.006731941190220783, 0.006704972938946653, 0.006678166148644496, 0.006651498146241207, 0.006624946600273505, 0.006598489556191987, 0.006572105470111421, 0.0065457732409704905, 0.006519472241069051, 0.006493182344956011, 0.006466883956645702, 0.006440558035145641, 0.006414186118283227, 0.0063877503448238745, 0.006361233474877577, 0.006334618908595607, 0.006307890703163507, 0.006281033588100884, 0.006254032978882729, 0.006226874988901087, 0.006199546439789893, 0.00617203487013944, 0.006144328542630575, 0.006116416449622266, 0.006088288317229103, 0.006059934607928543, 0.006031346521740461, 0.006002515996024057, 0.0059734357039395655, 0.00594409905162448, 0.005914500174135681, 0.005884633930210698, 0.005854495895902777, 0.005824082357145479, 0.005793390301303717, 0.005762417407768688, 0.005731162037654816, 0.005699623222657022, 0.005667800653126645, 0.005635694665424369, 0.005603306228607885, 0.005570636930511597, 0.005537688963274889, 0.0055044651083743555, 0.005470968721214493, 0.005437203715329636, 0.0054031745462488675, 0.005368886195073567, 0.005334344151815732, 0.005299554398543165, 0.005264523392375544, 0.005229258048373366, 0.005193765722359268, 0.005158054193709151, 0.005122131648147926, 0.005086006660582379, 0.005049688178000977, 0.005013185502468123, 0.004976508274237583, 0.00493966645500747, 0.004902670311336379, 0.004865530398238018, 0.00482825754296896, 0.004790862829021744, 0.004753357580333354, 0.004715753345716453, 0.0046780618835187806, 0.004640295146513929, 0.0046024652670244425, 0.004564584542276658, 0.004526665419984346, 0.004488720484157007, 0.004450762441126817, 0.004412804105786735, 0.004374858388031251, 0.004336938279389866, 0.004299056839842348, 0.004261227184804263, 0.004223462472270232, 0.004185775890101957, 0.004148180643447718, 0.004110689942279694, 0.004073316989035435, 0.00403607496634982, 0.003998977024864096, 0.003962036271098851, 0.003925265755378414, 0.0038886784597945245, 0.0038522872861981626, 0.003816105044209132, 0.003780144439233818, 0.003744418060483006, 0.0037089383689824667, 0.0036737176855704008, 0.003638768178877287, 0.003604101853284966, 0.003569730536863248, 0.0035356658692840535, 0.0035019192897144612, 0.0034685020246917595, 0.0034354250759851854, 0.0034026992084507358, 0.0033703349378869517, 0.003338342518901408, 0.0033067319327990258, 0.0032755128755051033, 0.003244694745537494, 0.003214286632043675, 0.003184297302920232, 0.0031547351930333867, 0.0031256083925606457, 0.0030969246354749136, 0.0030686912881935273, 0.003040915338415689, 0.003013603384172884, 0.002986761623117621, 0.0029603958420765615, 0.002934511406894915, 0.0029091132525993564, 0.002884205873907141, 0.0028597933161095134, 0.0028358791663575006, 0.0028124665453783276, 0.002789558099650651, 0.002767155994066402, 0.002745261905106952, 0.0027238770145606673, 0.0027030020038083997, 0.0026826370487027995, 0.0026627818150665, 0.002643435454833173, 0.0026245966028546827, 0.0026062633743961414, 0.002588433363339566, 0.002571103641115517, 0.002554270756380563, 0.0025379307354569543, 0.002522079083549331, 0.00250671078675155, 0.002491820314854947, 0.0024774016249677236, 0.0024634481659530595, 0.0024499528836918623, 0.0024369082271739743, 0.0024243061554197706, 0.00241213814523208, 0.0024003951997763075, 0.002389067857984604, 0.002378146204777966, 0.0023676198820980526, 0.002357478100738462, 0.002347709652963306, 0.0023383029258987947, 0.00232924591568172, 0.002320526242346666, 0.0023121311654320173, 0.002304047600282852, 0.002296262135027139, 0.002288761048199835, 0.0022815303269878013, 0.00227455568606689, 0.0022678225870009223, 0.002261316258170866, 0.0022550217152010675, 0.002248923781848075, 0.0022430071113163455, 0.0022372562079639837, 0.002231655449360505, 0.0022261891086577104, 0.0022208413772338313, 0.00221559638757023, 0.002210438236319345, 0.0022053510075218143, 0.0022003187959302663, 0.00219532573039684, 0.0021903559972810886, 0.002185393863834718, 0.00218042370151954, 0.0021754300092148115, 0.002170397436270358, 0.002165310805361868, 0.0021601551351051193, 0.0021549156623861267, 0.0021495778643647006, 0.0021441274801093806, 0.0021385505318223556, 0.002132833345613661, 0.002126962571784744, 0.00212092520458236, 0.002114708601384759, 0.0021083005012831027, 0.002101689043022248, 0.0020948627822662243, 0.0020878107081549833, 0.002080522259120414, 0.0020729873379310036, 0.002065196325936081, 0.0020571400964820865, 0.0020488100274750087, 0.002040198013064793, 0.002031296474429292, 0.0020220983696371294, 0.0020125972025707398, 0.002002787030892741, 0.0019926624730406983, 0.001982218714237472, 0.0019714515115062136, 0.0019603571976812466, 0.0019489326844081287, 0.0019371754641282913, 0.0019250836110458163, 0.0019126557810760312, 0.0018998912107777972, 0.0018867897152734937, 0.001873351685162838, 0.0018595780824389745, 0.001845470435417184, 0.0018310308326889198, 0.0018162619161158238, 0.001801166872880531, 0.0017857494266131039, 0.0017700138276139064, 0.0017539648421957795, 0.0017376077411701636, 0.001720948287503796, 0.001703992723174354, 0.0016867477552551184], \"yaxis\": \"y\"}],\n",
       "                        {\"barmode\": \"overlay\", \"height\": 500, \"hovermode\": \"closest\", \"legend\": {\"traceorder\": \"reversed\"}, \"showlegend\": false, \"template\": {\"data\": {\"bar\": [{\"error_x\": {\"color\": \"#2a3f5f\"}, \"error_y\": {\"color\": \"#2a3f5f\"}, \"marker\": {\"line\": {\"color\": \"#E5ECF6\", \"width\": 0.5}}, \"type\": \"bar\"}], \"barpolar\": [{\"marker\": {\"line\": {\"color\": \"#E5ECF6\", \"width\": 0.5}}, \"type\": \"barpolar\"}], \"carpet\": [{\"aaxis\": {\"endlinecolor\": \"#2a3f5f\", \"gridcolor\": \"white\", \"linecolor\": \"white\", \"minorgridcolor\": \"white\", \"startlinecolor\": \"#2a3f5f\"}, \"baxis\": {\"endlinecolor\": \"#2a3f5f\", \"gridcolor\": \"white\", \"linecolor\": \"white\", \"minorgridcolor\": \"white\", \"startlinecolor\": \"#2a3f5f\"}, \"type\": \"carpet\"}], \"choropleth\": [{\"colorbar\": {\"outlinewidth\": 0, \"ticks\": \"\"}, \"type\": \"choropleth\"}], \"contour\": [{\"colorbar\": {\"outlinewidth\": 0, \"ticks\": \"\"}, \"colorscale\": [[0.0, \"#0d0887\"], [0.1111111111111111, \"#46039f\"], [0.2222222222222222, \"#7201a8\"], [0.3333333333333333, \"#9c179e\"], [0.4444444444444444, \"#bd3786\"], [0.5555555555555556, \"#d8576b\"], [0.6666666666666666, \"#ed7953\"], [0.7777777777777778, \"#fb9f3a\"], [0.8888888888888888, \"#fdca26\"], [1.0, \"#f0f921\"]], \"type\": \"contour\"}], \"contourcarpet\": [{\"colorbar\": {\"outlinewidth\": 0, \"ticks\": \"\"}, \"type\": \"contourcarpet\"}], \"heatmap\": [{\"colorbar\": {\"outlinewidth\": 0, \"ticks\": \"\"}, \"colorscale\": [[0.0, \"#0d0887\"], [0.1111111111111111, \"#46039f\"], [0.2222222222222222, \"#7201a8\"], [0.3333333333333333, \"#9c179e\"], [0.4444444444444444, \"#bd3786\"], [0.5555555555555556, \"#d8576b\"], [0.6666666666666666, \"#ed7953\"], [0.7777777777777778, \"#fb9f3a\"], [0.8888888888888888, \"#fdca26\"], [1.0, \"#f0f921\"]], \"type\": \"heatmap\"}], \"heatmapgl\": [{\"colorbar\": {\"outlinewidth\": 0, \"ticks\": \"\"}, \"colorscale\": [[0.0, \"#0d0887\"], [0.1111111111111111, \"#46039f\"], [0.2222222222222222, \"#7201a8\"], [0.3333333333333333, \"#9c179e\"], [0.4444444444444444, \"#bd3786\"], [0.5555555555555556, \"#d8576b\"], [0.6666666666666666, \"#ed7953\"], [0.7777777777777778, \"#fb9f3a\"], [0.8888888888888888, \"#fdca26\"], [1.0, \"#f0f921\"]], \"type\": \"heatmapgl\"}], \"histogram\": [{\"marker\": {\"colorbar\": {\"outlinewidth\": 0, \"ticks\": \"\"}}, \"type\": \"histogram\"}], \"histogram2d\": [{\"colorbar\": {\"outlinewidth\": 0, \"ticks\": \"\"}, \"colorscale\": [[0.0, \"#0d0887\"], [0.1111111111111111, \"#46039f\"], [0.2222222222222222, \"#7201a8\"], [0.3333333333333333, \"#9c179e\"], [0.4444444444444444, \"#bd3786\"], [0.5555555555555556, \"#d8576b\"], [0.6666666666666666, \"#ed7953\"], [0.7777777777777778, \"#fb9f3a\"], [0.8888888888888888, \"#fdca26\"], [1.0, \"#f0f921\"]], \"type\": \"histogram2d\"}], \"histogram2dcontour\": [{\"colorbar\": {\"outlinewidth\": 0, \"ticks\": \"\"}, \"colorscale\": [[0.0, \"#0d0887\"], [0.1111111111111111, \"#46039f\"], [0.2222222222222222, \"#7201a8\"], [0.3333333333333333, \"#9c179e\"], [0.4444444444444444, \"#bd3786\"], [0.5555555555555556, \"#d8576b\"], [0.6666666666666666, \"#ed7953\"], [0.7777777777777778, \"#fb9f3a\"], [0.8888888888888888, \"#fdca26\"], [1.0, \"#f0f921\"]], \"type\": \"histogram2dcontour\"}], \"mesh3d\": [{\"colorbar\": {\"outlinewidth\": 0, \"ticks\": \"\"}, \"type\": \"mesh3d\"}], \"parcoords\": [{\"line\": {\"colorbar\": {\"outlinewidth\": 0, \"ticks\": \"\"}}, \"type\": \"parcoords\"}], \"pie\": [{\"automargin\": true, \"type\": \"pie\"}], \"scatter\": [{\"marker\": {\"colorbar\": {\"outlinewidth\": 0, \"ticks\": \"\"}}, \"type\": \"scatter\"}], \"scatter3d\": [{\"line\": {\"colorbar\": {\"outlinewidth\": 0, \"ticks\": \"\"}}, \"marker\": {\"colorbar\": {\"outlinewidth\": 0, \"ticks\": \"\"}}, \"type\": \"scatter3d\"}], \"scattercarpet\": [{\"marker\": {\"colorbar\": {\"outlinewidth\": 0, \"ticks\": \"\"}}, \"type\": \"scattercarpet\"}], \"scattergeo\": [{\"marker\": {\"colorbar\": {\"outlinewidth\": 0, \"ticks\": \"\"}}, \"type\": \"scattergeo\"}], \"scattergl\": [{\"marker\": {\"colorbar\": {\"outlinewidth\": 0, \"ticks\": \"\"}}, \"type\": \"scattergl\"}], \"scattermapbox\": [{\"marker\": {\"colorbar\": {\"outlinewidth\": 0, \"ticks\": \"\"}}, \"type\": \"scattermapbox\"}], \"scatterpolar\": [{\"marker\": {\"colorbar\": {\"outlinewidth\": 0, \"ticks\": \"\"}}, \"type\": \"scatterpolar\"}], \"scatterpolargl\": [{\"marker\": {\"colorbar\": {\"outlinewidth\": 0, \"ticks\": \"\"}}, \"type\": \"scatterpolargl\"}], \"scatterternary\": [{\"marker\": {\"colorbar\": {\"outlinewidth\": 0, \"ticks\": \"\"}}, \"type\": \"scatterternary\"}], \"surface\": [{\"colorbar\": {\"outlinewidth\": 0, \"ticks\": \"\"}, \"colorscale\": [[0.0, \"#0d0887\"], [0.1111111111111111, \"#46039f\"], [0.2222222222222222, \"#7201a8\"], [0.3333333333333333, \"#9c179e\"], [0.4444444444444444, \"#bd3786\"], [0.5555555555555556, \"#d8576b\"], [0.6666666666666666, \"#ed7953\"], [0.7777777777777778, \"#fb9f3a\"], [0.8888888888888888, \"#fdca26\"], [1.0, \"#f0f921\"]], \"type\": \"surface\"}], \"table\": [{\"cells\": {\"fill\": {\"color\": \"#EBF0F8\"}, \"line\": {\"color\": \"white\"}}, \"header\": {\"fill\": {\"color\": \"#C8D4E3\"}, \"line\": {\"color\": \"white\"}}, \"type\": \"table\"}]}, \"layout\": {\"annotationdefaults\": {\"arrowcolor\": \"#2a3f5f\", \"arrowhead\": 0, \"arrowwidth\": 1}, \"coloraxis\": {\"colorbar\": {\"outlinewidth\": 0, \"ticks\": \"\"}}, \"colorscale\": {\"diverging\": [[0, \"#8e0152\"], [0.1, \"#c51b7d\"], [0.2, \"#de77ae\"], [0.3, \"#f1b6da\"], [0.4, \"#fde0ef\"], [0.5, \"#f7f7f7\"], [0.6, \"#e6f5d0\"], [0.7, \"#b8e186\"], [0.8, \"#7fbc41\"], [0.9, \"#4d9221\"], [1, \"#276419\"]], \"sequential\": [[0.0, \"#0d0887\"], [0.1111111111111111, \"#46039f\"], [0.2222222222222222, \"#7201a8\"], [0.3333333333333333, \"#9c179e\"], [0.4444444444444444, \"#bd3786\"], [0.5555555555555556, \"#d8576b\"], [0.6666666666666666, \"#ed7953\"], [0.7777777777777778, \"#fb9f3a\"], [0.8888888888888888, \"#fdca26\"], [1.0, \"#f0f921\"]], \"sequentialminus\": [[0.0, \"#0d0887\"], [0.1111111111111111, \"#46039f\"], [0.2222222222222222, \"#7201a8\"], [0.3333333333333333, \"#9c179e\"], [0.4444444444444444, \"#bd3786\"], [0.5555555555555556, \"#d8576b\"], [0.6666666666666666, \"#ed7953\"], [0.7777777777777778, \"#fb9f3a\"], [0.8888888888888888, \"#fdca26\"], [1.0, \"#f0f921\"]]}, \"colorway\": [\"#636efa\", \"#EF553B\", \"#00cc96\", \"#ab63fa\", \"#FFA15A\", \"#19d3f3\", \"#FF6692\", \"#B6E880\", \"#FF97FF\", \"#FECB52\"], \"font\": {\"color\": \"#2a3f5f\"}, \"geo\": {\"bgcolor\": \"white\", \"lakecolor\": \"white\", \"landcolor\": \"#E5ECF6\", \"showlakes\": true, \"showland\": true, \"subunitcolor\": \"white\"}, \"hoverlabel\": {\"align\": \"left\"}, \"hovermode\": \"closest\", \"mapbox\": {\"style\": \"light\"}, \"paper_bgcolor\": \"white\", \"plot_bgcolor\": \"#E5ECF6\", \"polar\": {\"angularaxis\": {\"gridcolor\": \"white\", \"linecolor\": \"white\", \"ticks\": \"\"}, \"bgcolor\": \"#E5ECF6\", \"radialaxis\": {\"gridcolor\": \"white\", \"linecolor\": \"white\", \"ticks\": \"\"}}, \"scene\": {\"xaxis\": {\"backgroundcolor\": \"#E5ECF6\", \"gridcolor\": \"white\", \"gridwidth\": 2, \"linecolor\": \"white\", \"showbackground\": true, \"ticks\": \"\", \"zerolinecolor\": \"white\"}, \"yaxis\": {\"backgroundcolor\": \"#E5ECF6\", \"gridcolor\": \"white\", \"gridwidth\": 2, \"linecolor\": \"white\", \"showbackground\": true, \"ticks\": \"\", \"zerolinecolor\": \"white\"}, \"zaxis\": {\"backgroundcolor\": \"#E5ECF6\", \"gridcolor\": \"white\", \"gridwidth\": 2, \"linecolor\": \"white\", \"showbackground\": true, \"ticks\": \"\", \"zerolinecolor\": \"white\"}}, \"shapedefaults\": {\"line\": {\"color\": \"#2a3f5f\"}}, \"ternary\": {\"aaxis\": {\"gridcolor\": \"white\", \"linecolor\": \"white\", \"ticks\": \"\"}, \"baxis\": {\"gridcolor\": \"white\", \"linecolor\": \"white\", \"ticks\": \"\"}, \"bgcolor\": \"#E5ECF6\", \"caxis\": {\"gridcolor\": \"white\", \"linecolor\": \"white\", \"ticks\": \"\"}}, \"title\": {\"x\": 0.05}, \"xaxis\": {\"automargin\": true, \"gridcolor\": \"white\", \"linecolor\": \"white\", \"ticks\": \"\", \"title\": {\"standoff\": 15}, \"zerolinecolor\": \"white\", \"zerolinewidth\": 2}, \"yaxis\": {\"automargin\": true, \"gridcolor\": \"white\", \"linecolor\": \"white\", \"ticks\": \"\", \"title\": {\"standoff\": 15}, \"zerolinecolor\": \"white\", \"zerolinewidth\": 2}}}, \"title\": {\"text\": \"PDF\", \"x\": 0.5, \"xanchor\": \"center\", \"y\": 0.9, \"yanchor\": \"top\"}, \"width\": 500, \"xaxis\": {\"anchor\": \"y2\", \"domain\": [0.0, 1.0], \"title\": {\"text\": \"Longueur d'un titre\"}, \"zeroline\": false}, \"yaxis\": {\"anchor\": \"free\", \"domain\": [0.0, 1], \"position\": 0.0, \"title\": {\"text\": \"probabilit\\u00e9\"}}},\n",
       "                        {\"responsive\": true}\n",
       "                    ).then(function(){\n",
       "                            \n",
       "var gd = document.getElementById('dabd5613-af38-429d-9c8c-34ad992931d2');\n",
       "var x = new MutationObserver(function (mutations, observer) {{\n",
       "        var display = window.getComputedStyle(gd).display;\n",
       "        if (!display || display === 'none') {{\n",
       "            console.log([gd, 'removed!']);\n",
       "            Plotly.purge(gd);\n",
       "            observer.disconnect();\n",
       "        }}\n",
       "}});\n",
       "\n",
       "// Listen for the removal of the full notebook cells\n",
       "var notebookContainer = gd.closest('#notebook-container');\n",
       "if (notebookContainer) {{\n",
       "    x.observe(notebookContainer, {childList: true});\n",
       "}}\n",
       "\n",
       "// Listen for the clearing of the current output cell\n",
       "var outputEl = gd.closest('.output');\n",
       "if (outputEl) {{\n",
       "    x.observe(outputEl, {childList: true});\n",
       "}}\n",
       "\n",
       "                        })\n",
       "                };\n",
       "                });\n",
       "            </script>\n",
       "        </div>"
      ]
     },
     "metadata": {},
     "output_type": "display_data"
    }
   ],
   "source": [
    "fig = ff.create_distplot([data_propre['Title'].str.len()], [\"ht\"],show_hist=False,show_rug=False)\n",
    "fig['layout'].update(title={'text':'PDF','y':0.9,'x':0.5,'xanchor': 'center','yanchor': 'top'}, xaxis_title=\"Longueur d'un titre\",yaxis_title=\"probabilité\")\n",
    "fig.update_layout(showlegend = False,width=500,height=500)\n",
    "fig\n",
    "## distribution Gaussienne"
   ]
  },
  {
   "cell_type": "code",
   "execution_count": 28,
   "metadata": {},
   "outputs": [],
   "source": [
    "data_propre.index = range(data_propre.shape[0])"
   ]
  },
  {
   "cell_type": "code",
   "execution_count": 29,
   "metadata": {},
   "outputs": [],
   "source": [
    "# Ajouter une nouvelle colonne contenant à la fois le jour de la semaine et le mois, \n",
    "#elle sera nécessaire ultérieurement tout en recommandant sur la base du jour de la \n",
    "#semaine et du mois\n",
    "\n",
    "data_propre[\"jour et mois\"] = data_propre[\"Date\"].dt.strftime(\"%a\") + \"_\" + data_propre[\"Date\"].dt.strftime(\"%b\")\n"
   ]
  },
  {
   "cell_type": "code",
   "execution_count": 30,
   "metadata": {},
   "outputs": [
    {
     "data": {
      "text/html": [
       "<div>\n",
       "<style scoped>\n",
       "    .dataframe tbody tr th:only-of-type {\n",
       "        vertical-align: middle;\n",
       "    }\n",
       "\n",
       "    .dataframe tbody tr th {\n",
       "        vertical-align: top;\n",
       "    }\n",
       "\n",
       "    .dataframe thead th {\n",
       "        text-align: right;\n",
       "    }\n",
       "</style>\n",
       "<table border=\"1\" class=\"dataframe\">\n",
       "  <thead>\n",
       "    <tr style=\"text-align: right;\">\n",
       "      <th></th>\n",
       "      <th>Category</th>\n",
       "      <th>Title</th>\n",
       "      <th>Auteur</th>\n",
       "      <th>Lien</th>\n",
       "      <th>Number of pages</th>\n",
       "      <th>Content</th>\n",
       "      <th>Date</th>\n",
       "      <th>jour et mois</th>\n",
       "    </tr>\n",
       "  </thead>\n",
       "  <tbody>\n",
       "    <tr>\n",
       "      <th>0</th>\n",
       "      <td>bloc-operatoire</td>\n",
       "      <td>What we do when a COVID-19 patient needs an op...</td>\n",
       "      <td>Lian Kah Ti and Al</td>\n",
       "      <td>https://www.groupedeveillecovid.fr/blog/2020/0...</td>\n",
       "      <td>3</td>\n",
       "      <td>2.GovernmentofSingapore.Coronavirusdisease2019...</td>\n",
       "      <td>2020-03-26</td>\n",
       "      <td>Thu_Mar</td>\n",
       "    </tr>\n",
       "    <tr>\n",
       "      <th>1</th>\n",
       "      <td>telemedecine</td>\n",
       "      <td>Virtually Perfect? Telemedicine for Covid-19</td>\n",
       "      <td>Judd E. Hollander, and Brendan G. Carr</td>\n",
       "      <td>https://www.groupedeveillecovid.fr/blog/2020/0...</td>\n",
       "      <td>3</td>\n",
       "      <td>PERSPECTIVE3Virtually Perfect? Telemedicine fo...</td>\n",
       "      <td>2020-03-24</td>\n",
       "      <td>Tue_Mar</td>\n",
       "    </tr>\n",
       "    <tr>\n",
       "      <th>2</th>\n",
       "      <td>virologie</td>\n",
       "      <td>Virological assessment of hospitalized patient...</td>\n",
       "      <td>Roman Wölfel and al</td>\n",
       "      <td>https://www.groupedeveillecovid.fr/blog/2020/0...</td>\n",
       "      <td>17</td>\n",
       "      <td>3nature research  |  reporting summaryOctober ...</td>\n",
       "      <td>2020-04-08</td>\n",
       "      <td>Wed_Apr</td>\n",
       "    </tr>\n",
       "    <tr>\n",
       "      <th>3</th>\n",
       "      <td>virologie-reponse-immunitaire</td>\n",
       "      <td>Viral dynamics in mild and severe cases of COV...</td>\n",
       "      <td>Liu Y et al</td>\n",
       "      <td>https://www.groupedeveillecovid.fr/blog/2020/0...</td>\n",
       "      <td>2</td>\n",
       "      <td>2 www.thelancet.com/infection   Published onli...</td>\n",
       "      <td>2020-03-25</td>\n",
       "      <td>Wed_Mar</td>\n",
       "    </tr>\n",
       "    <tr>\n",
       "      <th>4</th>\n",
       "      <td>biologie</td>\n",
       "      <td>Updated approaches against SARS -CoV – 2</td>\n",
       "      <td>Haiou Li and al</td>\n",
       "      <td>https://www.groupedeveillecovid.fr/blog/2020/0...</td>\n",
       "      <td>25</td>\n",
       "      <td>on April 5, 2020 at Universite de Strasbourgh...</td>\n",
       "      <td>2020-04-06</td>\n",
       "      <td>Mon_Apr</td>\n",
       "    </tr>\n",
       "    <tr>\n",
       "      <th>...</th>\n",
       "      <td>...</td>\n",
       "      <td>...</td>\n",
       "      <td>...</td>\n",
       "      <td>...</td>\n",
       "      <td>...</td>\n",
       "      <td>...</td>\n",
       "      <td>...</td>\n",
       "      <td>...</td>\n",
       "    </tr>\n",
       "    <tr>\n",
       "      <th>93</th>\n",
       "      <td>clinique</td>\n",
       "      <td>An outbreak of severe Kawasaki-like disease at...</td>\n",
       "      <td>Lucio Verdoni and al</td>\n",
       "      <td>https://www.groupedeveillecovid.fr/blog/2020/0...</td>\n",
       "      <td>8</td>\n",
       "      <td>8 www.thelancet.com   Published online May 13,...</td>\n",
       "      <td>2020-05-14</td>\n",
       "      <td>Thu_May</td>\n",
       "    </tr>\n",
       "    <tr>\n",
       "      <th>94</th>\n",
       "      <td>covid-et-grossesse</td>\n",
       "      <td>An Analysis of 38 Pregnant Women with COVID-19...</td>\n",
       "      <td>David A. Schwartz</td>\n",
       "      <td>https://www.groupedeveillecovid.fr/blog/2020/0...</td>\n",
       "      <td>25</td>\n",
       "      <td>Table 4. Characteristics of an additional 17 ...</td>\n",
       "      <td>2020-03-27</td>\n",
       "      <td>Fri_Mar</td>\n",
       "    </tr>\n",
       "    <tr>\n",
       "      <th>95</th>\n",
       "      <td>covid-et-pathologies-chroniques</td>\n",
       "      <td>Acute hypertriglyceridemia in patients with CO...</td>\n",
       "      <td>Austin R. Morrison and al</td>\n",
       "      <td>https://www.groupedeveillecovid.fr/blog/2020/0...</td>\n",
       "      <td>5</td>\n",
       "      <td>This article is protected by copyright. All r...</td>\n",
       "      <td>2020-04-28</td>\n",
       "      <td>Tue_Apr</td>\n",
       "    </tr>\n",
       "    <tr>\n",
       "      <th>96</th>\n",
       "      <td>covid-et-pathologies-chroniques</td>\n",
       "      <td>Acute coronary syndromes during COVID-19</td>\n",
       "      <td>Serafina Valente and al</td>\n",
       "      <td>https://www.groupedeveillecovid.fr/blog/2020/0...</td>\n",
       "      <td>3</td>\n",
       "      <td>PatientsawaitingtheCOVID-19testresultmustbecon...</td>\n",
       "      <td>2020-05-26</td>\n",
       "      <td>Tue_May</td>\n",
       "    </tr>\n",
       "    <tr>\n",
       "      <th>97</th>\n",
       "      <td>imagerie</td>\n",
       "      <td>Acute Pulmonary Embolism in COVID-19 Patients ...</td>\n",
       "      <td>Ian LEONARD-LORANT and al</td>\n",
       "      <td>https://www.groupedeveillecovid.fr/blog/2020/0...</td>\n",
       "      <td>12</td>\n",
       "      <td>Accepted Article This article is protected by ...</td>\n",
       "      <td>2020-04-27</td>\n",
       "      <td>Mon_Apr</td>\n",
       "    </tr>\n",
       "  </tbody>\n",
       "</table>\n",
       "<p>98 rows × 8 columns</p>\n",
       "</div>"
      ],
      "text/plain": [
       "                           Category  \\\n",
       "0                   bloc-operatoire   \n",
       "1                      telemedecine   \n",
       "2                         virologie   \n",
       "3     virologie-reponse-immunitaire   \n",
       "4                          biologie   \n",
       "..                              ...   \n",
       "93                         clinique   \n",
       "94               covid-et-grossesse   \n",
       "95  covid-et-pathologies-chroniques   \n",
       "96  covid-et-pathologies-chroniques   \n",
       "97                         imagerie   \n",
       "\n",
       "                                                Title  \\\n",
       "0   What we do when a COVID-19 patient needs an op...   \n",
       "1        Virtually Perfect? Telemedicine for Covid-19   \n",
       "2   Virological assessment of hospitalized patient...   \n",
       "3   Viral dynamics in mild and severe cases of COV...   \n",
       "4            Updated approaches against SARS -CoV – 2   \n",
       "..                                                ...   \n",
       "93  An outbreak of severe Kawasaki-like disease at...   \n",
       "94  An Analysis of 38 Pregnant Women with COVID-19...   \n",
       "95  Acute hypertriglyceridemia in patients with CO...   \n",
       "96           Acute coronary syndromes during COVID-19   \n",
       "97  Acute Pulmonary Embolism in COVID-19 Patients ...   \n",
       "\n",
       "                                    Auteur  \\\n",
       "0                       Lian Kah Ti and Al   \n",
       "1   Judd E. Hollander, and Brendan G. Carr   \n",
       "2                      Roman Wölfel and al   \n",
       "3                              Liu Y et al   \n",
       "4                          Haiou Li and al   \n",
       "..                                     ...   \n",
       "93                    Lucio Verdoni and al   \n",
       "94                       David A. Schwartz   \n",
       "95               Austin R. Morrison and al   \n",
       "96                 Serafina Valente and al   \n",
       "97               Ian LEONARD-LORANT and al   \n",
       "\n",
       "                                                 Lien  Number of pages  \\\n",
       "0   https://www.groupedeveillecovid.fr/blog/2020/0...                3   \n",
       "1   https://www.groupedeveillecovid.fr/blog/2020/0...                3   \n",
       "2   https://www.groupedeveillecovid.fr/blog/2020/0...               17   \n",
       "3   https://www.groupedeveillecovid.fr/blog/2020/0...                2   \n",
       "4   https://www.groupedeveillecovid.fr/blog/2020/0...               25   \n",
       "..                                                ...              ...   \n",
       "93  https://www.groupedeveillecovid.fr/blog/2020/0...                8   \n",
       "94  https://www.groupedeveillecovid.fr/blog/2020/0...               25   \n",
       "95  https://www.groupedeveillecovid.fr/blog/2020/0...                5   \n",
       "96  https://www.groupedeveillecovid.fr/blog/2020/0...                3   \n",
       "97  https://www.groupedeveillecovid.fr/blog/2020/0...               12   \n",
       "\n",
       "                                              Content       Date jour et mois  \n",
       "0   2.GovernmentofSingapore.Coronavirusdisease2019... 2020-03-26      Thu_Mar  \n",
       "1   PERSPECTIVE3Virtually Perfect? Telemedicine fo... 2020-03-24      Tue_Mar  \n",
       "2   3nature research  |  reporting summaryOctober ... 2020-04-08      Wed_Apr  \n",
       "3   2 www.thelancet.com/infection   Published onli... 2020-03-25      Wed_Mar  \n",
       "4    on April 5, 2020 at Universite de Strasbourgh... 2020-04-06      Mon_Apr  \n",
       "..                                                ...        ...          ...  \n",
       "93  8 www.thelancet.com   Published online May 13,... 2020-05-14      Thu_May  \n",
       "94   Table 4. Characteristics of an additional 17 ... 2020-03-27      Fri_Mar  \n",
       "95   This article is protected by copyright. All r... 2020-04-28      Tue_Apr  \n",
       "96  PatientsawaitingtheCOVID-19testresultmustbecon... 2020-05-26      Tue_May  \n",
       "97  Accepted Article This article is protected by ... 2020-04-27      Mon_Apr  \n",
       "\n",
       "[98 rows x 8 columns]"
      ]
     },
     "execution_count": 30,
     "metadata": {},
     "output_type": "execute_result"
    }
   ],
   "source": [
    "data_propre_temp = data_propre.copy()\n",
    "data_propre_temp\n"
   ]
  },
  {
   "cell_type": "markdown",
   "metadata": {},
   "source": [
    "# Text Preprocessing"
   ]
  },
  {
   "cell_type": "markdown",
   "metadata": {},
   "source": [
    "## Suppression des mots d'arrêt\n",
    "Les mots arrêt ne sont pas très utiles pour l'analyse et leur inclusion prend beaucoup de temps pendant le traitement, alors supprimons-les."
   ]
  },
  {
   "cell_type": "code",
   "execution_count": 31,
   "metadata": {},
   "outputs": [],
   "source": [
    "#Les mots arrêt ne sont pas très utiles pour l'analyse et leur inclusion prend \n",
    "#beaucoup de temps pendant le traitement, alors supprimons-les.\n",
    "stop_words = set(stopwords.words('english'))"
   ]
  },
  {
   "cell_type": "code",
   "execution_count": 32,
   "metadata": {},
   "outputs": [
    {
     "name": "stdout",
     "output_type": "stream",
     "text": [
      "0\n"
     ]
    }
   ],
   "source": [
    "for i in range(len(data_propre_temp[\"Title\"])):\n",
    "    string = \"\"\n",
    "    for word in data_propre_temp[\"Title\"][i].split():\n",
    "        word = (\"\".join(e for e in word if e.isalnum()))\n",
    "        word = word.lower()\n",
    "        if not word in stop_words:\n",
    "          string += word + \" \"  \n",
    "    if(i%1000==0):\n",
    "        print(i)\n",
    "           # To track number of records processed\n",
    "    data_propre_temp.at[i,\"Title\"] = string.strip()\n",
    "    \n",
    "    "
   ]
  },
  {
   "cell_type": "markdown",
   "metadata": {},
   "source": [
    "## Lemmatization\n",
    "La lemmatisation est l'une des techniques de prétraitement de texte les plus courantes utilisées dans le traitement du langage naturel (NLP) et l'apprentissage automatique en général. Cette technique permetréduire un mot donné à sa racine. Le mot racine est appelé une tige dans le processus de stemming."
   ]
  },
  {
   "cell_type": "code",
   "execution_count": 33,
   "metadata": {},
   "outputs": [],
   "source": [
    "lemmatizer = WordNetLemmatizer()\n"
   ]
  },
  {
   "cell_type": "code",
   "execution_count": 34,
   "metadata": {},
   "outputs": [
    {
     "name": "stdout",
     "output_type": "stream",
     "text": [
      "0\n"
     ]
    }
   ],
   "source": [
    "for i in range(len(data_propre_temp[\"Title\"])):\n",
    "    string = \"\"\n",
    "    for w in word_tokenize(data_propre_temp[\"Title\"][i]):\n",
    "        string += lemmatizer.lemmatize(w,pos = \"v\") + \" \"\n",
    "    data_propre_temp.at[i, \"Title\"] = string.strip()\n",
    "    if(i%1000==0):\n",
    "        print(i) "
   ]
  },
  {
   "cell_type": "markdown",
   "metadata": {},
   "source": [
    "## Utilisation de la méthode du \"sac de mots\" (Bag of Words)\n",
    "\n",
    "La manière la plus simple de représenter un document, est de la représenter par un ensemble des mots qu'il contient. En pratique, ça peut être par exemple un vecteur de fréquence d'apparition des différents mots utilisés.\n",
    "Dans la représentation bag-of-words, on représente chaque document par un vecteur de la taille du vocabulaire |V| et on utilisera la matrice composée de l’ensemble de ces N documents qui forment le corpus comme entrée de nos algorithmes."
   ]
  },
  {
   "cell_type": "code",
   "execution_count": 35,
   "metadata": {},
   "outputs": [],
   "source": [
    "headline_vectorizer = CountVectorizer()\n",
    "headline_features   = headline_vectorizer.fit_transform(data_propre_temp['Title'])"
   ]
  },
  {
   "cell_type": "code",
   "execution_count": 36,
   "metadata": {},
   "outputs": [
    {
     "data": {
      "text/plain": [
       "(98, 465)"
      ]
     },
     "execution_count": 36,
     "metadata": {},
     "output_type": "execute_result"
    }
   ],
   "source": [
    "headline_features.get_shape()\n"
   ]
  },
  {
   "cell_type": "code",
   "execution_count": 37,
   "metadata": {},
   "outputs": [],
   "source": [
    "pd.set_option('display.max_colwidth', -1)  # Pour afficher complètement un très long titre"
   ]
  },
  {
   "cell_type": "code",
   "execution_count": 38,
   "metadata": {},
   "outputs": [
    {
     "name": "stdout",
     "output_type": "stream",
     "text": [
      "============================== Détails de l'article recherché ==============================\n",
      "Titre :  Virological assessment of hospitalized patients with COVID-2019\n",
      "\n",
      " ========================= Articles recommandés :  =======================\n"
     ]
    },
    {
     "data": {
      "text/html": [
       "<div>\n",
       "<style scoped>\n",
       "    .dataframe tbody tr th:only-of-type {\n",
       "        vertical-align: middle;\n",
       "    }\n",
       "\n",
       "    .dataframe tbody tr th {\n",
       "        vertical-align: top;\n",
       "    }\n",
       "\n",
       "    .dataframe thead th {\n",
       "        text-align: right;\n",
       "    }\n",
       "</style>\n",
       "<table border=\"1\" class=\"dataframe\">\n",
       "  <thead>\n",
       "    <tr style=\"text-align: right;\">\n",
       "      <th></th>\n",
       "      <th>Date de publication</th>\n",
       "      <th>Titre</th>\n",
       "      <th>Lien</th>\n",
       "      <th>Similitude euclidienne avec l'article interrogé</th>\n",
       "    </tr>\n",
       "  </thead>\n",
       "  <tbody>\n",
       "    <tr>\n",
       "      <th>1</th>\n",
       "      <td>2020-05-11</td>\n",
       "      <td>Observational Study of Hydroxychloroquine in Hospitalized Patients with Covid-19</td>\n",
       "      <td>https://www.groupedeveillecovid.fr/blog/2020/05/11/observational-study-of-hydroxychloroquine-in-hospitalized-patients-with-covid-19/</td>\n",
       "      <td>2.645751</td>\n",
       "    </tr>\n",
       "    <tr>\n",
       "      <th>2</th>\n",
       "      <td>2020-04-27</td>\n",
       "      <td>Covid-19 and Kidney Transplantation</td>\n",
       "      <td>https://www.groupedeveillecovid.fr/blog/2020/04/27/covid-19-and-kidney-transplantation/</td>\n",
       "      <td>2.828427</td>\n",
       "    </tr>\n",
       "    <tr>\n",
       "      <th>3</th>\n",
       "      <td>2020-05-26</td>\n",
       "      <td>Early Short Course Corticosteroids in Hospitalized Patients with COVID-19</td>\n",
       "      <td>https://www.groupedeveillecovid.fr/blog/2020/05/26/early-short-course-corticosteroids-in-hospitalized-patients-with-covid-19/</td>\n",
       "      <td>2.828427</td>\n",
       "    </tr>\n",
       "    <tr>\n",
       "      <th>4</th>\n",
       "      <td>2020-04-10</td>\n",
       "      <td>Into the Eye of the Cytokine Storm</td>\n",
       "      <td>https://www.groupedeveillecovid.fr/blog/2020/04/10/into-the-eye-of-the-cytokine-storm/</td>\n",
       "      <td>2.828427</td>\n",
       "    </tr>\n",
       "    <tr>\n",
       "      <th>5</th>\n",
       "      <td>2020-04-10</td>\n",
       "      <td>Surgery in COVID-19 patients: operational directives</td>\n",
       "      <td>https://www.groupedeveillecovid.fr/blog/2020/04/10/surgery-in-covid-19-patients-operational-directives/</td>\n",
       "      <td>2.828427</td>\n",
       "    </tr>\n",
       "  </tbody>\n",
       "</table>\n",
       "</div>"
      ],
      "text/plain": [
       "  Date de publication  \\\n",
       "1 2020-05-11            \n",
       "2 2020-04-27            \n",
       "3 2020-05-26            \n",
       "4 2020-04-10            \n",
       "5 2020-04-10            \n",
       "\n",
       "                                                                              Titre  \\\n",
       "1  Observational Study of Hydroxychloroquine in Hospitalized Patients with Covid-19   \n",
       "2  Covid-19 and Kidney Transplantation                                                \n",
       "3  Early Short Course Corticosteroids in Hospitalized Patients with COVID-19          \n",
       "4  Into the Eye of the Cytokine Storm                                                 \n",
       "5  Surgery in COVID-19 patients: operational directives                               \n",
       "\n",
       "                                                                                                                                   Lien  \\\n",
       "1  https://www.groupedeveillecovid.fr/blog/2020/05/11/observational-study-of-hydroxychloroquine-in-hospitalized-patients-with-covid-19/   \n",
       "2  https://www.groupedeveillecovid.fr/blog/2020/04/27/covid-19-and-kidney-transplantation/                                                \n",
       "3  https://www.groupedeveillecovid.fr/blog/2020/05/26/early-short-course-corticosteroids-in-hospitalized-patients-with-covid-19/          \n",
       "4  https://www.groupedeveillecovid.fr/blog/2020/04/10/into-the-eye-of-the-cytokine-storm/                                                 \n",
       "5  https://www.groupedeveillecovid.fr/blog/2020/04/10/surgery-in-covid-19-patients-operational-directives/                                \n",
       "\n",
       "   Similitude euclidienne avec l'article interrogé  \n",
       "1  2.645751                                         \n",
       "2  2.828427                                         \n",
       "3  2.828427                                         \n",
       "4  2.828427                                         \n",
       "5  2.828427                                         "
      ]
     },
     "execution_count": 38,
     "metadata": {},
     "output_type": "execute_result"
    }
   ],
   "source": [
    "def bag_of_words_based_model(row_index, num_similar_items):\n",
    "    \n",
    "    couple_dist = pairwise_distances(headline_features,headline_features[row_index])\n",
    "    indices = np.argsort(couple_dist.ravel())[0:num_similar_items]\n",
    "    df = pd.DataFrame({'Date de publication': data_propre['Date'][indices].values,\n",
    "               'Titre':data_propre['Title'][indices].values,\n",
    "                'Lien':data_propre['Lien'][indices].values,\n",
    "                \"Similitude euclidienne avec l'article interrogé\": couple_dist[indices].ravel()})\n",
    "    print(\"=\"*30,\"Détails de l'article recherché\",\"=\"*30)\n",
    "    print('Titre : ',data_propre['Title'][indices[0]])\n",
    "    print(\"\\n\",\"=\"*25,\"Articles recommandés : \",\"=\"*23)\n",
    "    #return df.iloc[1:,1]\n",
    "    return df.iloc[1:,]\n",
    "\n",
    "bag_of_words_based_model(2, 6) # Modifier l'index des lignes pour tout autre article interrogé"
   ]
  },
  {
   "cell_type": "markdown",
   "metadata": {},
   "source": [
    "La fonction ci-dessus recommande 6 articles similaires à l'article recherché en fonction du titre. Elle accepte deux arguments - l'index des articles déjà lus et le nombre total d'articles à recommander.\n",
    "\n",
    "Sur la base de la distance euclidienne, elle trouve 6 voisins les plus proches et les recommande.\n",
    "\n",
    "#### Inconvénients de cette méthode\n",
    "\n",
    "1. Elle accorde une très faible importance aux mots moins fréquemment observés dans le corpus. Peu de mots de l'article interrogé comme \"assesment\", \"patients\",\"hospitalized\" apparaissent moins fréquemment dans l'ensemble du corpus, de sorte que la méthode BoW ne recommande aucun article dont le titre contient ces mots. Puisque \"COVID\" est un mot couramment observé dans le corpus, la méthode BoW recommande les articles dont le titre contient \"COVID\".\n",
    "2. La méthode BoW ne préserve pas l'ordre des mots. \n",
    "\n",
    "Pour surmonter le premier inconvénient, nous utilisons la méthode TF-IDF pour la représentation des caractéristiques."
   ]
  },
  {
   "cell_type": "markdown",
   "metadata": {},
   "source": [
    "## Utilisation de la méthode TF-IDF"
   ]
  },
  {
   "cell_type": "markdown",
   "metadata": {},
   "source": [
    "La méthode TF-IDF est une mesure pondérée qui donne plus d'importance aux mots moins fréquents dans un corpus. Elle attribue un poids à chaque terme (mot) dans un document en fonction de la fréquence des termes (TF) et de la fréquence inverse des documents (IDF).\n",
    "\n",
    "TF(i,j) = (# fois que le mot i apparaît dans le document j) / (# mots dans le document j)\n",
    "\n",
    "IDF(i,D) = log_e(#documents dans le corpus D) / (#documents contenant le mot i)\n",
    "\n",
    "poids(i,j) = TF(i,j) x IDF(i,D)\n",
    "\n",
    "Ainsi, si un mot apparaît plus de fois dans un document mais moins de fois dans tous les autres documents, sa valeur TF-IDF sera élevée."
   ]
  },
  {
   "cell_type": "code",
   "execution_count": 39,
   "metadata": {},
   "outputs": [],
   "source": [
    "tfidf_headline_vectorizer = TfidfVectorizer(min_df = 0)\n",
    "tfidf_headline_features = tfidf_headline_vectorizer.fit_transform(data_propre_temp['Title'])"
   ]
  },
  {
   "cell_type": "code",
   "execution_count": 40,
   "metadata": {},
   "outputs": [
    {
     "name": "stdout",
     "output_type": "stream",
     "text": [
      "============================== Détails de l'article recherché ==============================\n",
      "Titre :  Virological assessment of hospitalized patients with COVID-2019\n",
      "\n",
      " ========================= Articles recommandés :  =======================\n"
     ]
    },
    {
     "data": {
      "text/html": [
       "<div>\n",
       "<style scoped>\n",
       "    .dataframe tbody tr th:only-of-type {\n",
       "        vertical-align: middle;\n",
       "    }\n",
       "\n",
       "    .dataframe tbody tr th {\n",
       "        vertical-align: top;\n",
       "    }\n",
       "\n",
       "    .dataframe thead th {\n",
       "        text-align: right;\n",
       "    }\n",
       "</style>\n",
       "<table border=\"1\" class=\"dataframe\">\n",
       "  <thead>\n",
       "    <tr style=\"text-align: right;\">\n",
       "      <th></th>\n",
       "      <th>Date de publication</th>\n",
       "      <th>Titre</th>\n",
       "      <th>Lien</th>\n",
       "      <th>Similitude euclidienne avec l'article interrogé</th>\n",
       "    </tr>\n",
       "  </thead>\n",
       "  <tbody>\n",
       "    <tr>\n",
       "      <th>1</th>\n",
       "      <td>2020-05-11</td>\n",
       "      <td>Observational Study of Hydroxychloroquine in Hospitalized Patients with Covid-19</td>\n",
       "      <td>https://www.groupedeveillecovid.fr/blog/2020/05/11/observational-study-of-hydroxychloroquine-in-hospitalized-patients-with-covid-19/</td>\n",
       "      <td>1.235995</td>\n",
       "    </tr>\n",
       "    <tr>\n",
       "      <th>2</th>\n",
       "      <td>2020-05-26</td>\n",
       "      <td>Early Short Course Corticosteroids in Hospitalized Patients with COVID-19</td>\n",
       "      <td>https://www.groupedeveillecovid.fr/blog/2020/05/26/early-short-course-corticosteroids-in-hospitalized-patients-with-covid-19/</td>\n",
       "      <td>1.268428</td>\n",
       "    </tr>\n",
       "    <tr>\n",
       "      <th>3</th>\n",
       "      <td>2020-04-23</td>\n",
       "      <td>Glycemic Characteristics and Clinical Outcomes of COVID-19 Patients Hospitalized in the United States</td>\n",
       "      <td>https://www.groupedeveillecovid.fr/blog/2020/04/23/6031/</td>\n",
       "      <td>1.277125</td>\n",
       "    </tr>\n",
       "    <tr>\n",
       "      <th>4</th>\n",
       "      <td>2020-04-27</td>\n",
       "      <td>Systematic review of the efficacy and safety of antiretroviral drugs against SARS, MERS or COVID-19: initial assessment</td>\n",
       "      <td>https://www.groupedeveillecovid.fr/blog/2020/04/27/systematic-review-of-the-efficacy-and-safety-of-antiretroviral-drugs-against-sars-mers-or-covid-19-initial-assessment-2/</td>\n",
       "      <td>1.304108</td>\n",
       "    </tr>\n",
       "    <tr>\n",
       "      <th>5</th>\n",
       "      <td>2020-05-14</td>\n",
       "      <td>Development and Validation of a Clinical Risk Score to Predict the Occurrence of Critical Illness in Hospitalized Patients With COVID-19</td>\n",
       "      <td>https://www.groupedeveillecovid.fr/blog/2020/05/14/development-and-validation-of-a-clinical-risk-score-to-predict-the-occurrence-of-critical-illness-in-hospitalized-patients-with-covid-19/</td>\n",
       "      <td>1.310307</td>\n",
       "    </tr>\n",
       "  </tbody>\n",
       "</table>\n",
       "</div>"
      ],
      "text/plain": [
       "  Date de publication  \\\n",
       "1 2020-05-11            \n",
       "2 2020-05-26            \n",
       "3 2020-04-23            \n",
       "4 2020-04-27            \n",
       "5 2020-05-14            \n",
       "\n",
       "                                                                                                                                      Titre  \\\n",
       "1  Observational Study of Hydroxychloroquine in Hospitalized Patients with Covid-19                                                           \n",
       "2  Early Short Course Corticosteroids in Hospitalized Patients with COVID-19                                                                  \n",
       "3  Glycemic Characteristics and Clinical Outcomes of COVID-19 Patients Hospitalized in the United States                                      \n",
       "4  Systematic review of the efficacy and safety of antiretroviral drugs against SARS, MERS or COVID-19: initial assessment                    \n",
       "5  Development and Validation of a Clinical Risk Score to Predict the Occurrence of Critical Illness in Hospitalized Patients With COVID-19   \n",
       "\n",
       "                                                                                                                                                                                           Lien  \\\n",
       "1  https://www.groupedeveillecovid.fr/blog/2020/05/11/observational-study-of-hydroxychloroquine-in-hospitalized-patients-with-covid-19/                                                           \n",
       "2  https://www.groupedeveillecovid.fr/blog/2020/05/26/early-short-course-corticosteroids-in-hospitalized-patients-with-covid-19/                                                                  \n",
       "3  https://www.groupedeveillecovid.fr/blog/2020/04/23/6031/                                                                                                                                       \n",
       "4  https://www.groupedeveillecovid.fr/blog/2020/04/27/systematic-review-of-the-efficacy-and-safety-of-antiretroviral-drugs-against-sars-mers-or-covid-19-initial-assessment-2/                    \n",
       "5  https://www.groupedeveillecovid.fr/blog/2020/05/14/development-and-validation-of-a-clinical-risk-score-to-predict-the-occurrence-of-critical-illness-in-hospitalized-patients-with-covid-19/   \n",
       "\n",
       "   Similitude euclidienne avec l'article interrogé  \n",
       "1  1.235995                                         \n",
       "2  1.268428                                         \n",
       "3  1.277125                                         \n",
       "4  1.304108                                         \n",
       "5  1.310307                                         "
      ]
     },
     "execution_count": 40,
     "metadata": {},
     "output_type": "execute_result"
    }
   ],
   "source": [
    "def tfidf_based_model(row_index, num_similar_items):\n",
    "    couple_dist = pairwise_distances(tfidf_headline_features,tfidf_headline_features[row_index])\n",
    "    indices = np.argsort(couple_dist.ravel())[0:num_similar_items]\n",
    "    df = pd.DataFrame({'Date de publication': data_propre['Date'][indices].values,\n",
    "               'Titre':data_propre['Title'][indices].values,\n",
    "                'Lien':data_propre['Lien'][indices].values,\n",
    "                \"Similitude euclidienne avec l'article interrogé\": couple_dist[indices].ravel()})\n",
    "    print(\"=\"*30,\"Détails de l'article recherché\",\"=\"*30)\n",
    "    print('Titre : ',data_propre['Title'][indices[0]])\n",
    "    print(\"\\n\",\"=\"*25,\"Articles recommandés : \",\"=\"*23)\n",
    "    \n",
    "    #return df.iloc[1:,1]\n",
    "    return df.iloc[1:,]\n",
    "tfidf_based_model(2, 6)"
   ]
  },
  {
   "cell_type": "markdown",
   "metadata": {},
   "source": [
    "Par rapport à la méthode BoW, la méthode TF-IDF recommande ici les articles dont le titre contient des mots comme \"assesment\", \"patients\",\"hospitalized\" dans les 5 recommandations principales et ces mots apparaissent moins fréquemment dans le corpus."
   ]
  },
  {
   "cell_type": "markdown",
   "metadata": {},
   "source": [
    "#### Inconvénients :-\n",
    "\n",
    "Les méthodes Bow et TF-IDF ne permettent pas de saisir la similarité sémantique et syntaxique d'un mot donné avec d'autres mots, mais celle-ci peut être saisie à l'aide d'encastrements de mots.\n",
    "\n",
    "Par exemple : il existe une bonne association entre des mots comme \"patients\" et \"hospitalized\", \"bureau et employé\", \"tigre\" et \"léopard\", etc. Ce type de similarité sémantique peut être saisi à l'aide de techniques d'intégration de mots. Les techniques d'intégration de mots comme Word2Vec, GloVe et fastText permettent de saisir la similarité sémantique entre les mots.\n",
    "\n"
   ]
  },
  {
   "cell_type": "markdown",
   "metadata": {},
   "source": [
    "## Séparation du jeu de données¶\n",
    "L’entraînement d’un modèle revient à mesurer l’erreur de la sortie de l’algorithme avec les données d’exemple et chercher à la minimiser.\n",
    "Pour minimiser ce problème,nous avons dès le départ séparé notre jeu de données en deux parties distinctes :\n",
    "\n",
    "* Le training set, qui va nous permettre d’entraîner notre modèle et sera utilisé par l’algorithme d’apprentissage. C'est celui dont on a parlé depuis le début.\n",
    "* Le testing set, qui permet de mesurer l’erreur du modèle final sur des données qu’il n’a jamais vues. On va simplement passer ces données comme s'il s'agissait de données que l’on n'a encore jamais rencontrées (comme cela va se passer ensuite en pratique pour prédire de nouvelles données) et mesurer la performance de notre modèle sur ces données. <br/> En effet, le modèle est complètement optimisé pour les données à l'aide desquelles il a été créé. L'erreur sera précisément minimum sur ces données. Alors que l'erreur sera toujours plus élevée sur des données que le modèle n'aura jamais vues. C'est la raison pour laquelle il ne faut pas évaluer la qualité de notre modèle final à l'aide des mêmes données qui ont servi pour l'entraînement. \n",
    "\n",
    "Nous avons séparé les données avec les proportions suivantes : 80 % pour le training set et 20 % pour le testing set. \n",
    "\n",
    "Nous avons utilisé la fonction de scikit-learn train_test_split qui prend en paramètre la proportion désirée."
   ]
  },
  {
   "cell_type": "markdown",
   "metadata": {},
   "source": [
    "## Modélisation des données¶\n",
    "Pour diffuser des prédictions à partir d'une plateforme, il faut exporter le modèle de machine learning entraîné sous la forme d'un ou plusieurs artefacts. Il existe différentes manières d'exporter des modèles entraînés pour un déploiement sur une plateforme.\n",
    "\n",
    "Les méthodes d'exportation de modèle s'appliquent quel que soit l'environnement d'entraînement.\n",
    "\n",
    "Le module Pickle est un moyen d'expoter les modèles de Machine Learning. Il s'agit d'un moyen standard de sérialiser des objets en Python. On utilise l'opération de décapage pour sérialiser vos algorithmes d'apprentissage automatique et enregistrer le format sérialisé dans un fichier.\n",
    "\n",
    "Plus tard,nous chargerons ces fichiers pour désérialiser notre modèle et l'utiliser pour faire de nouvelles prédictions."
   ]
  },
  {
   "cell_type": "code",
   "execution_count": 41,
   "metadata": {},
   "outputs": [],
   "source": [
    "#GET VECTOR COUNT\n",
    "count_vect = CountVectorizer()\n",
    "X_train_counts = count_vect.fit_transform((data_propre.Content).values.astype('U'))\n",
    "#SAVE WORD VECTOR\n",
    "pickle.dump(count_vect.vocabulary_, open(\"count_vector.pkl\",\"wb\"))"
   ]
  },
  {
   "cell_type": "code",
   "execution_count": 42,
   "metadata": {},
   "outputs": [],
   "source": [
    "#TRANSFORM WORD VECTOR TO TF IDF\n",
    "tfidf_transformer = TfidfTransformer()\n",
    "X_train_tfidf = tfidf_transformer.fit_transform(X_train_counts)\n",
    "\n",
    "#SAVE TF-IDF\n",
    "pickle.dump(tfidf_transformer, open(\"tfidf.pkl\",\"wb\"))"
   ]
  },
  {
   "cell_type": "markdown",
   "metadata": {},
   "source": [
    "## Choix du modèle\n",
    "\n",
    "\n",
    "Une fois réduit l’espace vectoriel nous procédons au choix du modèle de classification. Ce modèle sera ensuite utilisé pour l’évaluation des textes du jeu de test. Nous avons utilisé plusieurs méthodes de classification. Elles sont fondées sur quatre méthodes principales. Nous avons également tenté d’autres procédures de classification dont les performances se sont révélées moins intéressantes. Le choix de la procédure de classification s’est fait sur chaque ensemble d’apprentissage ou corpus. La sélection fut très simple, nous avons conservé la méthode de classification la plus performante pour un corpus donné.\n",
    "\n",
    "* La classification probabiliste utilisant la combinaison de la loi de Bayes et de la loi multinomiale\n",
    "* La classification par les machines à vecteurs support S.V.M.\n",
    "* La classification par la méthode des réseaux de neurones (Radial Basis Function)\n",
    "\n"
   ]
  },
  {
   "cell_type": "markdown",
   "metadata": {},
   "source": [
    "## Multinomial Naive Bayes\n",
    "Cette technique est classique pour la catégorisation de textes Elle combine l’utilisation de la loi de Bayes bien connue en probabilités et la loi multinomiale. Nous avons simplement précisé le calcul de la loi à priori en utilisant l’estimateur de Laplace pour éviter les biais dus à l’absence de certains mots dans un texte.\n"
   ]
  },
  {
   "cell_type": "code",
   "execution_count": 43,
   "metadata": {},
   "outputs": [],
   "source": [
    "# Multinomial Naive Bayes\n",
    "\n",
    "#clf = MultinomialNB().fit(X_train_tfidf, training_data.flag)\n",
    "X_train, X_test, y_train, y_test = train_test_split(X_train_tfidf, data_propre.Category, test_size=0.25, random_state=42)\n",
    "clf = MultinomialNB().fit(X_train, y_train)\n",
    "\n",
    "#SAVE MODEL\n",
    "pickle.dump(clf, open(\"nb_model.pkl\", \"wb\"))"
   ]
  },
  {
   "cell_type": "code",
   "execution_count": 44,
   "metadata": {},
   "outputs": [],
   "source": [
    "#LOAD MODEL\n",
    "loaded_vec = CountVectorizer(vocabulary=pickle.load(open(\"count_vector.pkl\", \"rb\")))\n",
    "loaded_tfidf = pickle.load(open(\"tfidf.pkl\",\"rb\"))\n",
    "loaded_model = pickle.load(open(\"nb_model.pkl\",\"rb\"))"
   ]
  },
  {
   "cell_type": "code",
   "execution_count": 45,
   "metadata": {},
   "outputs": [
    {
     "data": {
      "text/html": [
       "<div>\n",
       "<style scoped>\n",
       "    .dataframe tbody tr th:only-of-type {\n",
       "        vertical-align: middle;\n",
       "    }\n",
       "\n",
       "    .dataframe tbody tr th {\n",
       "        vertical-align: top;\n",
       "    }\n",
       "\n",
       "    .dataframe thead th {\n",
       "        text-align: right;\n",
       "    }\n",
       "</style>\n",
       "<table border=\"1\" class=\"dataframe\">\n",
       "  <thead>\n",
       "    <tr style=\"text-align: right;\">\n",
       "      <th></th>\n",
       "      <th>true_labels</th>\n",
       "      <th>predicted_labels</th>\n",
       "    </tr>\n",
       "  </thead>\n",
       "  <tbody>\n",
       "    <tr>\n",
       "      <th>62</th>\n",
       "      <td>imagerie</td>\n",
       "      <td>epidemiologie-et-sante-publique</td>\n",
       "    </tr>\n",
       "    <tr>\n",
       "      <th>40</th>\n",
       "      <td>clinique</td>\n",
       "      <td>covid-et-pediatrie</td>\n",
       "    </tr>\n",
       "    <tr>\n",
       "      <th>94</th>\n",
       "      <td>covid-et-grossesse</td>\n",
       "      <td>epidemiologie-et-sante-publique</td>\n",
       "    </tr>\n",
       "    <tr>\n",
       "      <th>18</th>\n",
       "      <td>biologie</td>\n",
       "      <td>epidemiologie-et-sante-publique</td>\n",
       "    </tr>\n",
       "    <tr>\n",
       "      <th>81</th>\n",
       "      <td>biologie</td>\n",
       "      <td>epidemiologie-et-sante-publique</td>\n",
       "    </tr>\n",
       "  </tbody>\n",
       "</table>\n",
       "</div>"
      ],
      "text/plain": [
       "           true_labels                 predicted_labels\n",
       "62  imagerie            epidemiologie-et-sante-publique\n",
       "40  clinique            covid-et-pediatrie             \n",
       "94  covid-et-grossesse  epidemiologie-et-sante-publique\n",
       "18  biologie            epidemiologie-et-sante-publique\n",
       "81  biologie            epidemiologie-et-sante-publique"
      ]
     },
     "execution_count": 45,
     "metadata": {},
     "output_type": "execute_result"
    }
   ],
   "source": [
    "predicted_bayes = loaded_model.predict(X_test)\n",
    "result_bayes = pd.DataFrame( {'true_labels': y_test,'predicted_labels': predicted_bayes})\n",
    "result_bayes.to_csv('res_bayes.csv', sep = ',')\n",
    "\n",
    "result_bayes.head()"
   ]
  },
  {
   "cell_type": "markdown",
   "metadata": {},
   "source": [
    "## Réseau de neurones"
   ]
  },
  {
   "cell_type": "code",
   "execution_count": 46,
   "metadata": {},
   "outputs": [
    {
     "data": {
      "text/plain": [
       "MLPClassifier(activation='relu', alpha=1e-05, batch_size='auto', beta_1=0.9,\n",
       "              beta_2=0.999, early_stopping=False, epsilon=1e-08,\n",
       "              hidden_layer_sizes=(15,), learning_rate='constant',\n",
       "              learning_rate_init=0.001, max_iter=200, momentum=0.9,\n",
       "              n_iter_no_change=10, nesterovs_momentum=True, power_t=0.5,\n",
       "              random_state=1, shuffle=True, solver='lbfgs', tol=0.0001,\n",
       "              validation_fraction=0.1, verbose=False, warm_start=False)"
      ]
     },
     "execution_count": 46,
     "metadata": {},
     "output_type": "execute_result"
    }
   ],
   "source": [
    "\n",
    "clf_neural = MLPClassifier(solver='lbfgs', alpha=1e-5, hidden_layer_sizes=(15,), random_state=1)\n",
    "\n",
    "X_train, X_test, y_train, y_test = train_test_split(X_train_tfidf, data_propre.Category, test_size=0.25, random_state=42)\n",
    "\n",
    "clf_neural.fit(X_train, y_train)"
   ]
  },
  {
   "cell_type": "code",
   "execution_count": 47,
   "metadata": {},
   "outputs": [
    {
     "data": {
      "text/plain": [
       "0.04"
      ]
     },
     "execution_count": 47,
     "metadata": {},
     "output_type": "execute_result"
    }
   ],
   "source": [
    "metrics.accuracy_score(y_test, predicted_bayes)"
   ]
  },
  {
   "cell_type": "code",
   "execution_count": 48,
   "metadata": {},
   "outputs": [
    {
     "data": {
      "text/plain": [
       "0.08"
      ]
     },
     "execution_count": 48,
     "metadata": {},
     "output_type": "execute_result"
    }
   ],
   "source": [
    "pickle.dump(clf_neural, open(\"softmax.pkl\", \"wb\"))\n",
    "\n",
    "predicted_nn = clf_neural.predict(X_test)\n",
    "result_softmax = pd.DataFrame( {'true_labels': y_test,'predicted_labels': predicted_nn})\n",
    "\n",
    "metrics.accuracy_score(y_test, predicted_nn)"
   ]
  },
  {
   "cell_type": "code",
   "execution_count": 49,
   "metadata": {},
   "outputs": [
    {
     "data": {
      "text/html": [
       "<div>\n",
       "<style scoped>\n",
       "    .dataframe tbody tr th:only-of-type {\n",
       "        vertical-align: middle;\n",
       "    }\n",
       "\n",
       "    .dataframe tbody tr th {\n",
       "        vertical-align: top;\n",
       "    }\n",
       "\n",
       "    .dataframe thead th {\n",
       "        text-align: right;\n",
       "    }\n",
       "</style>\n",
       "<table border=\"1\" class=\"dataframe\">\n",
       "  <thead>\n",
       "    <tr style=\"text-align: right;\">\n",
       "      <th></th>\n",
       "      <th>true_labels</th>\n",
       "      <th>predicted_labels</th>\n",
       "    </tr>\n",
       "  </thead>\n",
       "  <tbody>\n",
       "    <tr>\n",
       "      <th>62</th>\n",
       "      <td>imagerie</td>\n",
       "      <td>gerontologie</td>\n",
       "    </tr>\n",
       "    <tr>\n",
       "      <th>40</th>\n",
       "      <td>clinique</td>\n",
       "      <td>bloc-operatoire</td>\n",
       "    </tr>\n",
       "    <tr>\n",
       "      <th>94</th>\n",
       "      <td>covid-et-grossesse</td>\n",
       "      <td>gerontologie</td>\n",
       "    </tr>\n",
       "    <tr>\n",
       "      <th>18</th>\n",
       "      <td>biologie</td>\n",
       "      <td>bloc-operatoire</td>\n",
       "    </tr>\n",
       "    <tr>\n",
       "      <th>81</th>\n",
       "      <td>biologie</td>\n",
       "      <td>transfusion</td>\n",
       "    </tr>\n",
       "  </tbody>\n",
       "</table>\n",
       "</div>"
      ],
      "text/plain": [
       "           true_labels predicted_labels\n",
       "62  imagerie            gerontologie   \n",
       "40  clinique            bloc-operatoire\n",
       "94  covid-et-grossesse  gerontologie   \n",
       "18  biologie            bloc-operatoire\n",
       "81  biologie            transfusion    "
      ]
     },
     "execution_count": 49,
     "metadata": {},
     "output_type": "execute_result"
    }
   ],
   "source": [
    "result_softmax.head()"
   ]
  },
  {
   "cell_type": "markdown",
   "metadata": {},
   "source": [
    "## Séparateurs à Vaste Marge\n",
    "\n",
    "Les séparateurs à vaste marge (SVM) ou encore machines à point de support sont une méthode de classification supervisée binaire. Les SVM ont été introduits par Vapnik dans son ouvrage sur la théorie de l’apprentissage statistique. Conçu comme un classifieur linéaire, la méthode consiste à chercher un hyperplan qui sépare deux classes de données de manière à maximiser la marge entres les exemples les plus proches de chacune des deux différentes classes, ces exemples sont appelés vecteurs support.\n",
    "\n",
    "Cette technique consiste à délimiter par la frontière la plus large possible les différentes catégories des échantillons (ici les textes) de l’espace vectoriel du corpus d’apprentissage. Les vecteurs supports constituent les éléments délimitant cette frontière. Plusieurs méthodes de calcul des vecteurs support peuvent être utilisées.\n",
    "* une méthode linéaire\n",
    "* une méthode polynomiale\n",
    "* une méthode fondée sur la loi gaussienne normale\n",
    "* une méthode fondée sur la fonction sigmoïde\n",
    "Nous avons effectués des essais avec plusieurs de ces méthodes."
   ]
  },
  {
   "cell_type": "code",
   "execution_count": 50,
   "metadata": {},
   "outputs": [],
   "source": [
    "kernels = ['Polynomial', 'RBF', 'Sigmoid','Linear']\n",
    "#A function which returns the corresponding SVC model\n",
    "def getClassifier(ktype):\n",
    "    if ktype == 0:\n",
    "        # Polynomial kernal\n",
    "        return SVC(kernel='poly', degree=8, gamma=\"auto\")\n",
    "    elif ktype == 1:\n",
    "        # Radial Basis Function kernal\n",
    "        return SVC(kernel='rbf', gamma=\"auto\")\n",
    "    elif ktype == 2:\n",
    "        # Sigmoid kernal\n",
    "        return SVC(kernel='sigmoid', gamma=\"auto\")\n",
    "    elif ktype == 3:\n",
    "        # Linear kernal\n",
    "        return SVC(kernel='linear', gamma=\"auto\")"
   ]
  },
  {
   "cell_type": "code",
   "execution_count": 51,
   "metadata": {},
   "outputs": [
    {
     "name": "stdout",
     "output_type": "stream",
     "text": [
      "Evaluation: Polynomial kernel\n",
      "                                 precision    recall  f1-score   support\n",
      "\n",
      "                       biologie       0.00      0.00      0.00       5.0\n",
      "                bloc-operatoire       0.00      0.00      0.00       2.0\n",
      "                       clinique       0.00      0.00      0.00       3.0\n",
      "             covid-et-encologie       0.00      0.00      0.00       1.0\n",
      "             covid-et-grossesse       0.00      0.00      0.00       2.0\n",
      "covid-et-pathologies-chroniques       0.00      0.00      0.00       1.0\n",
      "                     dietetique       0.00      0.00      0.00       1.0\n",
      "epidemiologie-et-sante-publique       0.00      0.00      0.00       0.0\n",
      "              gastroenterologie       0.00      0.00      0.00       1.0\n",
      "                         greffe       0.00      0.00      0.00       1.0\n",
      "                       imagerie       0.00      0.00      0.00       2.0\n",
      "                    psychiatrie       0.00      0.00      0.00       1.0\n",
      "                     radiologie       0.00      0.00      0.00       1.0\n",
      "                      serologie       0.00      0.00      0.00       1.0\n",
      "                  therapeutique       0.00      0.00      0.00       1.0\n",
      "                            vih       0.00      0.00      0.00       2.0\n",
      "\n",
      "                       accuracy                           0.00      25.0\n",
      "                      macro avg       0.00      0.00      0.00      25.0\n",
      "                   weighted avg       0.00      0.00      0.00      25.0\n",
      "\n",
      "Evaluation: RBF kernel\n",
      "                                 precision    recall  f1-score   support\n",
      "\n",
      "                       biologie       0.00      0.00      0.00       5.0\n",
      "                bloc-operatoire       0.00      0.00      0.00       2.0\n",
      "                       clinique       0.00      0.00      0.00       3.0\n",
      "             covid-et-encologie       0.00      0.00      0.00       1.0\n",
      "             covid-et-grossesse       0.00      0.00      0.00       2.0\n",
      "covid-et-pathologies-chroniques       0.00      0.00      0.00       1.0\n",
      "                     dietetique       0.00      0.00      0.00       1.0\n",
      "epidemiologie-et-sante-publique       0.00      0.00      0.00       0.0\n",
      "              gastroenterologie       0.00      0.00      0.00       1.0\n",
      "                         greffe       0.00      0.00      0.00       1.0\n",
      "                       imagerie       0.00      0.00      0.00       2.0\n",
      "                    psychiatrie       0.00      0.00      0.00       1.0\n",
      "                     radiologie       0.00      0.00      0.00       1.0\n",
      "                      serologie       0.00      0.00      0.00       1.0\n",
      "                  therapeutique       0.00      0.00      0.00       1.0\n",
      "                            vih       0.00      0.00      0.00       2.0\n",
      "\n",
      "                       accuracy                           0.00      25.0\n",
      "                      macro avg       0.00      0.00      0.00      25.0\n",
      "                   weighted avg       0.00      0.00      0.00      25.0\n",
      "\n",
      "Evaluation: Sigmoid kernel\n",
      "                                 precision    recall  f1-score   support\n",
      "\n",
      "                       biologie       0.00      0.00      0.00       5.0\n",
      "                bloc-operatoire       0.00      0.00      0.00       2.0\n",
      "                       clinique       0.00      0.00      0.00       3.0\n",
      "             covid-et-encologie       0.00      0.00      0.00       1.0\n",
      "             covid-et-grossesse       0.00      0.00      0.00       2.0\n",
      "covid-et-pathologies-chroniques       0.00      0.00      0.00       1.0\n",
      "                     dietetique       0.00      0.00      0.00       1.0\n",
      "epidemiologie-et-sante-publique       0.00      0.00      0.00       0.0\n",
      "              gastroenterologie       0.00      0.00      0.00       1.0\n",
      "                         greffe       0.00      0.00      0.00       1.0\n",
      "                       imagerie       0.00      0.00      0.00       2.0\n",
      "                    psychiatrie       0.00      0.00      0.00       1.0\n",
      "                     radiologie       0.00      0.00      0.00       1.0\n",
      "                      serologie       0.00      0.00      0.00       1.0\n",
      "                  therapeutique       0.00      0.00      0.00       1.0\n",
      "                            vih       0.00      0.00      0.00       2.0\n",
      "\n",
      "                       accuracy                           0.00      25.0\n",
      "                      macro avg       0.00      0.00      0.00      25.0\n",
      "                   weighted avg       0.00      0.00      0.00      25.0\n",
      "\n",
      "Evaluation: Linear kernel\n",
      "                                 precision    recall  f1-score   support\n",
      "\n",
      "                       biologie       0.00      0.00      0.00         5\n",
      "                bloc-operatoire       0.00      0.00      0.00         2\n",
      "                       clinique       1.00      0.33      0.50         3\n",
      "             covid-et-encologie       0.00      0.00      0.00         1\n",
      "             covid-et-grossesse       0.00      0.00      0.00         2\n",
      "covid-et-pathologies-chroniques       0.00      0.00      0.00         1\n",
      "                     dietetique       0.00      0.00      0.00         1\n",
      "epidemiologie-et-sante-publique       0.00      0.00      0.00         0\n",
      "              gastroenterologie       0.00      0.00      0.00         1\n",
      "                         greffe       0.00      0.00      0.00         1\n",
      "                       imagerie       0.00      0.00      0.00         2\n",
      "                    psychiatrie       0.00      0.00      0.00         1\n",
      "                     radiologie       0.00      0.00      0.00         1\n",
      "                      serologie       0.00      0.00      0.00         1\n",
      "                  therapeutique       0.00      0.00      0.00         1\n",
      "                            vih       0.00      0.00      0.00         2\n",
      "\n",
      "                       accuracy                           0.04        25\n",
      "                      macro avg       0.06      0.02      0.03        25\n",
      "                   weighted avg       0.12      0.04      0.06        25\n",
      "\n"
     ]
    }
   ],
   "source": [
    "for i in range(4):\n",
    "    # Separate data into test and training sets\n",
    "    X_train, X_test, y_train, y_test = train_test_split(X_train_tfidf, data_propre.Category, test_size=0.25, random_state=42)\n",
    "\n",
    "# Train a SVC model using different kernal\n",
    "    svclassifier = getClassifier(i) \n",
    "    svclassifier.fit(X_train, y_train)\n",
    "# Make prediction\n",
    "    y_pred = svclassifier.predict(X_test)\n",
    "# Evaluate our model\n",
    "    print(\"Evaluation:\", kernels[i], \"kernel\")\n",
    "    print(classification_report(y_test,y_pred))"
   ]
  },
  {
   "cell_type": "code",
   "execution_count": 52,
   "metadata": {},
   "outputs": [],
   "source": [
    "clf_svm = svm.LinearSVC()\n",
    "X_train, X_test, y_train, y_test = train_test_split(X_train_tfidf, data_propre.Category, test_size=0.25, random_state=42)\n",
    "clf_svm.fit(X_train_tfidf, data_propre.Category)\n",
    "pickle.dump(clf_svm, open(\"svm.pkl\", \"wb\"))"
   ]
  },
  {
   "cell_type": "code",
   "execution_count": 53,
   "metadata": {},
   "outputs": [
    {
     "data": {
      "text/html": [
       "<div>\n",
       "<style scoped>\n",
       "    .dataframe tbody tr th:only-of-type {\n",
       "        vertical-align: middle;\n",
       "    }\n",
       "\n",
       "    .dataframe tbody tr th {\n",
       "        vertical-align: top;\n",
       "    }\n",
       "\n",
       "    .dataframe thead th {\n",
       "        text-align: right;\n",
       "    }\n",
       "</style>\n",
       "<table border=\"1\" class=\"dataframe\">\n",
       "  <thead>\n",
       "    <tr style=\"text-align: right;\">\n",
       "      <th></th>\n",
       "      <th>true_labels</th>\n",
       "      <th>predicted_labels</th>\n",
       "    </tr>\n",
       "  </thead>\n",
       "  <tbody>\n",
       "    <tr>\n",
       "      <th>62</th>\n",
       "      <td>imagerie</td>\n",
       "      <td>imagerie</td>\n",
       "    </tr>\n",
       "    <tr>\n",
       "      <th>40</th>\n",
       "      <td>clinique</td>\n",
       "      <td>clinique</td>\n",
       "    </tr>\n",
       "    <tr>\n",
       "      <th>94</th>\n",
       "      <td>covid-et-grossesse</td>\n",
       "      <td>covid-et-grossesse</td>\n",
       "    </tr>\n",
       "    <tr>\n",
       "      <th>18</th>\n",
       "      <td>biologie</td>\n",
       "      <td>biologie</td>\n",
       "    </tr>\n",
       "    <tr>\n",
       "      <th>81</th>\n",
       "      <td>biologie</td>\n",
       "      <td>biologie</td>\n",
       "    </tr>\n",
       "  </tbody>\n",
       "</table>\n",
       "</div>"
      ],
      "text/plain": [
       "           true_labels    predicted_labels\n",
       "62  imagerie            imagerie          \n",
       "40  clinique            clinique          \n",
       "94  covid-et-grossesse  covid-et-grossesse\n",
       "18  biologie            biologie          \n",
       "81  biologie            biologie          "
      ]
     },
     "execution_count": 53,
     "metadata": {},
     "output_type": "execute_result"
    }
   ],
   "source": [
    "predicted_svm = clf_svm.predict(X_test)\n",
    "result_svm = pd.DataFrame( {'true_labels': y_test,'predicted_labels': predicted_svm})\n",
    "result_svm.head()"
   ]
  },
  {
   "cell_type": "code",
   "execution_count": 54,
   "metadata": {},
   "outputs": [],
   "source": [
    "%matplotlib inline\n"
   ]
  },
  {
   "cell_type": "markdown",
   "metadata": {},
   "source": [
    "## Evaluation de la performance avec l'accuracy (précision du modèle)\n",
    "\n",
    "\n",
    "L'évaluation d'un algorithme de Machine Learning est une partie essentielle de tout projet. Le modèle peut vous donner des résultats satisfaisants lorsqu'il est évalué à l'aide d'une métrique, par exemple exactitude du score, mais peut donner de mauvais résultats lorsqu'il est évalué par rapport à d'autres métriques telles que la fonction de perte ou toute autre métrique de ce type. Dans ce projet, nous utilisons la précision de la classification pour mesurer les performances de notre modèle.\n",
    "\n",
    "La précision de la classification correspond au rapport entre le nombre de prédictions correctes et le nombre total d'échantillons d'entrée."
   ]
  },
  {
   "cell_type": "code",
   "execution_count": 55,
   "metadata": {},
   "outputs": [
    {
     "data": {
      "text/plain": [
       "0.04"
      ]
     },
     "execution_count": 55,
     "metadata": {},
     "output_type": "execute_result"
    }
   ],
   "source": [
    "metrics.accuracy_score(y_test, predicted_bayes)\n"
   ]
  },
  {
   "cell_type": "code",
   "execution_count": 56,
   "metadata": {},
   "outputs": [
    {
     "data": {
      "text/plain": [
       "0.08"
      ]
     },
     "execution_count": 56,
     "metadata": {},
     "output_type": "execute_result"
    }
   ],
   "source": [
    "metrics.accuracy_score(y_test, predicted_nn)\n"
   ]
  },
  {
   "cell_type": "code",
   "execution_count": 57,
   "metadata": {},
   "outputs": [
    {
     "data": {
      "text/plain": [
       "0.92"
      ]
     },
     "execution_count": 57,
     "metadata": {},
     "output_type": "execute_result"
    }
   ],
   "source": [
    "metrics.accuracy_score(y_test, predicted_svm)\n"
   ]
  },
  {
   "cell_type": "markdown",
   "metadata": {},
   "source": [
    "Ainsi, des trois algorithmes utilisés, l'algorithme SVM semble plus adapté à notre problème de classification avec une précision de 92%, contre 4% pour le Naive Bayes et 8% les réseaux de neurones."
   ]
  },
  {
   "cell_type": "markdown",
   "metadata": {},
   "source": [
    "# Conclusion\n",
    "\n",
    "Lors de ce projet, nous avons surtout manqué de machines très performantes en terme d’espace mémoire notamment. Certains algorithmes en effet ont pris plusieurs heures pour donner des résultats. Nous avons passé en revue plusieurs méthodes de classification. Mais nous devons approfondir nos essais sur les différentes méthodes de classification. Pour améliorer nos résultats nous devons également effectuer des prétraitements plus poussés, car les classifieurs montrent leurs limites sur la plupart des corpus. En particulier nous fondons de nombreux espoirs sur :\n",
    "\n",
    "* une application plus approfondie de la méthode de Dirichlet\n",
    "* la combinaison de classifieur plus précise et plus adaptée que les procédures de vote simple présentées ici\n",
    "* L’utilisation plus généralisée des bi-grammes,\n",
    "* La combinaison de méthodes fondées sur les lemmes et sur les bi-grammes.\n"
   ]
  },
  {
   "cell_type": "code",
   "execution_count": null,
   "metadata": {},
   "outputs": [],
   "source": []
  }
 ],
 "metadata": {
  "kernelspec": {
   "display_name": "Python 3",
   "language": "python",
   "name": "python3"
  },
  "language_info": {
   "codemirror_mode": {
    "name": "ipython",
    "version": 3
   },
   "file_extension": ".py",
   "mimetype": "text/x-python",
   "name": "python",
   "nbconvert_exporter": "python",
   "pygments_lexer": "ipython3",
   "version": "3.7.4"
  }
 },
 "nbformat": 4,
 "nbformat_minor": 4
}
